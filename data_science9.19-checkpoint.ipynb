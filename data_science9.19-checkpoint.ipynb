{
 "cells": [
  {
   "cell_type": "code",
   "execution_count": null,
   "id": "224457a6",
   "metadata": {},
   "outputs": [],
   "source": [
    "fahrenheit  = int(input(\"화씨 온도: \"))\n",
    "celsius = (fahrenheit - 32) * 5 / 9\n",
    "print(\"섭씨온도: \", celsius)"
   ]
  },
  {
   "cell_type": "code",
   "execution_count": null,
   "id": "c6d23396",
   "metadata": {},
   "outputs": [],
   "source": [
    "cel = int(input(\"섭씨 온도: \"))\n",
    "fahrenheit = cel * 9 / 5 + 32\n",
    "print(\"화씨온도\": \", feh)"
   ]
  },
  {
   "cell_type": "markdown",
   "id": "e577cf00",
   "metadata": {},
   "source": [
    "## 연산자\n",
    "* 산술 연산자\n",
    "* 비교 연산자 (참 거짓)\n",
    "* 논리 연산자 (참 거짓)"
   ]
  },
  {
   "cell_type": "code",
   "execution_count": null,
   "id": "5a2c6906",
   "metadata": {},
   "outputs": [],
   "source": [
    "a = 100\n",
    "b = 200"
   ]
  },
  {
   "cell_type": "code",
   "execution_count": null,
   "id": "5a14df74",
   "metadata": {},
   "outputs": [],
   "source": [
    "a == b"
   ]
  },
  {
   "cell_type": "markdown",
   "id": "ed52c876",
   "metadata": {},
   "source": [
    "## 논리 연산자\n",
    "### x and y : 거짓이 하나라도 있으면 False 모두 참이면 True\n",
    "### x or y : 하나라도 참이면 True 모두 거짓일 때만 False\n",
    "### not x : x 참이면 거짓 x가 거짓이면 참"
   ]
  },
  {
   "cell_type": "code",
   "execution_count": null,
   "id": "e14c5bed",
   "metadata": {},
   "outputs": [],
   "source": [
    "False and True"
   ]
  },
  {
   "cell_type": "code",
   "execution_count": 1,
   "id": "82c18cd1",
   "metadata": {},
   "outputs": [
    {
     "data": {
      "text/plain": [
       "False"
      ]
     },
     "execution_count": 1,
     "metadata": {},
     "output_type": "execute_result"
    }
   ],
   "source": [
    "bool(3 and \"\")"
   ]
  },
  {
   "cell_type": "code",
   "execution_count": 2,
   "id": "73d574ea",
   "metadata": {},
   "outputs": [
    {
     "data": {
      "text/plain": [
       "''"
      ]
     },
     "execution_count": 2,
     "metadata": {},
     "output_type": "execute_result"
    }
   ],
   "source": [
    "3 and \"\""
   ]
  },
  {
   "cell_type": "code",
   "execution_count": 4,
   "id": "5fc15af9",
   "metadata": {},
   "outputs": [
    {
     "data": {
      "text/plain": [
       "False"
      ]
     },
     "execution_count": 4,
     "metadata": {},
     "output_type": "execute_result"
    }
   ],
   "source": [
    "bool(None)"
   ]
  },
  {
   "cell_type": "markdown",
   "id": "45567d21",
   "metadata": {},
   "source": [
    "### 비트 연산자\n",
    "* 한 자리의 이진수  = 비트"
   ]
  },
  {
   "cell_type": "code",
   "execution_count": 5,
   "id": "98d0514f",
   "metadata": {},
   "outputs": [
    {
     "ename": "SyntaxError",
     "evalue": "invalid syntax (Temp/ipykernel_3768/453533693.py, line 1)",
     "output_type": "error",
     "traceback": [
      "\u001b[1;36m  File \u001b[1;32m\"C:\\Users\\PC-\\AppData\\Local\\Temp/ipykernel_3768/453533693.py\"\u001b[1;36m, line \u001b[1;32m1\u001b[0m\n\u001b[1;33m    * & = 비트 단위 and\u001b[0m\n\u001b[1;37m      ^\u001b[0m\n\u001b[1;31mSyntaxError\u001b[0m\u001b[1;31m:\u001b[0m invalid syntax\n"
     ]
    }
   ],
   "source": [
    "* & = 비트 단위 and\n",
    "* | = 비트 단위 or\n",
    "* ^ = 비트 단위 xor\n",
    "* ~ = 비트 단위 not\n",
    "* << = 비트 단위 왼쪽으로 이동\n",
    "* >> = 비트 단위 오른쪽으로 이동"
   ]
  },
  {
   "cell_type": "code",
   "execution_count": 8,
   "id": "00303697",
   "metadata": {},
   "outputs": [
    {
     "data": {
      "text/plain": [
       "'0b1001'"
      ]
     },
     "execution_count": 8,
     "metadata": {},
     "output_type": "execute_result"
    }
   ],
   "source": [
    "bin(9)"
   ]
  },
  {
   "cell_type": "code",
   "execution_count": 9,
   "id": "c01a634f",
   "metadata": {},
   "outputs": [
    {
     "data": {
      "text/plain": [
       "'0b1010'"
      ]
     },
     "execution_count": 9,
     "metadata": {},
     "output_type": "execute_result"
    }
   ],
   "source": [
    "bin(10)"
   ]
  },
  {
   "cell_type": "code",
   "execution_count": 10,
   "id": "17821925",
   "metadata": {},
   "outputs": [
    {
     "data": {
      "text/plain": [
       "'0b1000'"
      ]
     },
     "execution_count": 10,
     "metadata": {},
     "output_type": "execute_result"
    }
   ],
   "source": [
    "bin(9 & 10)"
   ]
  },
  {
   "cell_type": "code",
   "execution_count": 11,
   "id": "b9f0d746",
   "metadata": {},
   "outputs": [
    {
     "data": {
      "text/plain": [
       "'0b1011'"
      ]
     },
     "execution_count": 11,
     "metadata": {},
     "output_type": "execute_result"
    }
   ],
   "source": [
    "bin(9 | 10)"
   ]
  },
  {
   "cell_type": "code",
   "execution_count": 12,
   "id": "c334c156",
   "metadata": {},
   "outputs": [
    {
     "data": {
      "text/plain": [
       "8"
      ]
     },
     "execution_count": 12,
     "metadata": {},
     "output_type": "execute_result"
    }
   ],
   "source": [
    "9 & 10"
   ]
  },
  {
   "cell_type": "code",
   "execution_count": 13,
   "id": "1a1b394d",
   "metadata": {},
   "outputs": [
    {
     "data": {
      "text/plain": [
       "11"
      ]
     },
     "execution_count": 13,
     "metadata": {},
     "output_type": "execute_result"
    }
   ],
   "source": [
    "9 | 10"
   ]
  },
  {
   "cell_type": "code",
   "execution_count": 14,
   "id": "3205d28b",
   "metadata": {},
   "outputs": [
    {
     "data": {
      "text/plain": [
       "'-0b1010'"
      ]
     },
     "execution_count": 14,
     "metadata": {},
     "output_type": "execute_result"
    }
   ],
   "source": [
    "bin(~9)"
   ]
  },
  {
   "cell_type": "code",
   "execution_count": 15,
   "id": "aa382978",
   "metadata": {},
   "outputs": [
    {
     "data": {
      "text/plain": [
       "3"
      ]
     },
     "execution_count": 15,
     "metadata": {},
     "output_type": "execute_result"
    }
   ],
   "source": [
    "9 ^ 10"
   ]
  },
  {
   "cell_type": "markdown",
   "id": "8d9ca1b3",
   "metadata": {},
   "source": [
    "### 연산자 사이에도 먼저 처리하는 것이 있다."
   ]
  },
  {
   "cell_type": "code",
   "execution_count": 17,
   "id": "cfafd685",
   "metadata": {},
   "outputs": [
    {
     "name": "stdout",
     "output_type": "stream",
     "text": [
      "세 정수 입력 : 10 20 30\n"
     ]
    }
   ],
   "source": [
    "x, y ,z = map(int, input('세 정수 입력 : ').split())"
   ]
  },
  {
   "cell_type": "code",
   "execution_count": 18,
   "id": "eac391d9",
   "metadata": {},
   "outputs": [
    {
     "data": {
      "text/plain": [
       "(10, 20, 30)"
      ]
     },
     "execution_count": 18,
     "metadata": {},
     "output_type": "execute_result"
    }
   ],
   "source": [
    "x, y, z"
   ]
  },
  {
   "cell_type": "code",
   "execution_count": 21,
   "id": "18506a6a",
   "metadata": {},
   "outputs": [
    {
     "data": {
      "text/plain": [
       "20.0"
      ]
     },
     "execution_count": 21,
     "metadata": {},
     "output_type": "execute_result"
    }
   ],
   "source": [
    "avg = (x + y + z) / 3\n",
    "avg"
   ]
  },
  {
   "cell_type": "code",
   "execution_count": 25,
   "id": "147e0b05",
   "metadata": {},
   "outputs": [
    {
     "name": "stdout",
     "output_type": "stream",
     "text": [
      "세 숫자 입력 : 10 20 30\n"
     ]
    },
    {
     "data": {
      "text/plain": [
       "(10, 20, 30)"
      ]
     },
     "execution_count": 25,
     "metadata": {},
     "output_type": "execute_result"
    }
   ],
   "source": [
    "x, y, z = map(int, input(\"세 숫자 입력 : \").split())\n",
    "x, y, z"
   ]
  },
  {
   "cell_type": "markdown",
   "id": "b9937119",
   "metadata": {},
   "source": [
    "### 랜덤 모듈과 math 모듈로 다양한 기능 사용\n",
    "* 표쥰 라이브러리라는 이름으로 터틀 그래픽, 난수 생성기와 다양한 수학 함수등의 기능"
   ]
  },
  {
   "cell_type": "code",
   "execution_count": 27,
   "id": "89a5ba39",
   "metadata": {},
   "outputs": [
    {
     "data": {
      "text/plain": [
       "0.3836694246386744"
      ]
     },
     "execution_count": 27,
     "metadata": {},
     "output_type": "execute_result"
    }
   ],
   "source": [
    "import random\n",
    "random.random()"
   ]
  },
  {
   "cell_type": "code",
   "execution_count": 29,
   "id": "76af0d95",
   "metadata": {},
   "outputs": [
    {
     "data": {
      "text/plain": [
       "6"
      ]
     },
     "execution_count": 29,
     "metadata": {},
     "output_type": "execute_result"
    }
   ],
   "source": [
    "random.randint(0, 18)"
   ]
  },
  {
   "cell_type": "code",
   "execution_count": 30,
   "id": "4cfec4ef",
   "metadata": {},
   "outputs": [
    {
     "data": {
      "text/plain": [
       "16"
      ]
     },
     "execution_count": 30,
     "metadata": {},
     "output_type": "execute_result"
    }
   ],
   "source": [
    "random.randrange(0,20,2)"
   ]
  },
  {
   "cell_type": "code",
   "execution_count": 33,
   "id": "36a93903",
   "metadata": {},
   "outputs": [
    {
     "data": {
      "text/plain": [
       "27.0"
      ]
     },
     "execution_count": 33,
     "metadata": {},
     "output_type": "execute_result"
    }
   ],
   "source": [
    "import math\n",
    "math.pow(3, 3)"
   ]
  },
  {
   "cell_type": "code",
   "execution_count": 34,
   "id": "ef314301",
   "metadata": {},
   "outputs": [
    {
     "data": {
      "text/plain": [
       "3.141592653589793"
      ]
     },
     "execution_count": 34,
     "metadata": {},
     "output_type": "execute_result"
    }
   ],
   "source": [
    "math.pi"
   ]
  },
  {
   "cell_type": "code",
   "execution_count": 36,
   "id": "efa0620d",
   "metadata": {},
   "outputs": [
    {
     "data": {
      "text/plain": [
       "20"
      ]
     },
     "execution_count": 36,
     "metadata": {},
     "output_type": "execute_result"
    }
   ],
   "source": [
    "num = [10, 20, 30, 40, 50]\n",
    "random.choice(num)"
   ]
  },
  {
   "cell_type": "code",
   "execution_count": 38,
   "id": "6c58371a",
   "metadata": {},
   "outputs": [
    {
     "data": {
      "text/plain": [
       "256.0"
      ]
     },
     "execution_count": 38,
     "metadata": {},
     "output_type": "execute_result"
    }
   ],
   "source": [
    "math.pow(2,8)"
   ]
  },
  {
   "cell_type": "code",
   "execution_count": 39,
   "id": "f9e5f702",
   "metadata": {},
   "outputs": [
    {
     "data": {
      "text/plain": [
       "2.302585092994046"
      ]
     },
     "execution_count": 39,
     "metadata": {},
     "output_type": "execute_result"
    }
   ],
   "source": [
    "math.log(10)"
   ]
  },
  {
   "cell_type": "code",
   "execution_count": null,
   "id": "45a2ea62",
   "metadata": {},
   "outputs": [],
   "source": []
  }
 ],
 "metadata": {
  "kernelspec": {
   "display_name": "Python 3 (ipykernel)",
   "language": "python",
   "name": "python3"
  },
  "language_info": {
   "codemirror_mode": {
    "name": "ipython",
    "version": 3
   },
   "file_extension": ".py",
   "mimetype": "text/x-python",
   "name": "python",
   "nbconvert_exporter": "python",
   "pygments_lexer": "ipython3",
   "version": "3.9.7"
  }
 },
 "nbformat": 4,
 "nbformat_minor": 5
}
