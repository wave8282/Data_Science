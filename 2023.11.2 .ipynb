{
 "cells": [
  {
   "cell_type": "markdown",
   "id": "196d1cb9",
   "metadata": {},
   "source": [
    "### 리스트에 사용 가능한 함수 \n",
    "* 리스트 안에 여러가지 데이터를 섞어서 저장하는 것도 가능하다.\n",
    "* 자료형을 알아보려면 type()함수를 사용한다.\n",
    "* len() / min() / max() /  sum() / any()"
   ]
  },
  {
   "cell_type": "code",
   "execution_count": 1,
   "id": "f5023662",
   "metadata": {},
   "outputs": [
    {
     "data": {
      "text/plain": [
       "['kim', 187.2, 'park', 177.2, 'jeong', 167.4]"
      ]
     },
     "execution_count": 1,
     "metadata": {},
     "output_type": "execute_result"
    }
   ],
   "source": [
    "my_friends1 = ['kim', 187.2, 'park', 177.2, 'jeong', 167.4]\n",
    "my_friends1"
   ]
  },
  {
   "cell_type": "code",
   "execution_count": 2,
   "id": "d5af211b",
   "metadata": {},
   "outputs": [
    {
     "data": {
      "text/plain": [
       "[['kim', 187.2], ['park', 177.2], ['jeong', 167.4]]"
      ]
     },
     "execution_count": 2,
     "metadata": {},
     "output_type": "execute_result"
    }
   ],
   "source": [
    "my_friends2 = [['kim', 187.2], ['park', 177.2], ['jeong', 167.4]]\n",
    "my_friends2"
   ]
  },
  {
   "cell_type": "code",
   "execution_count": 3,
   "id": "d84b4f8d",
   "metadata": {},
   "outputs": [
    {
     "data": {
      "text/plain": [
       "6"
      ]
     },
     "execution_count": 3,
     "metadata": {},
     "output_type": "execute_result"
    }
   ],
   "source": [
    "len(my_friends1)"
   ]
  },
  {
   "cell_type": "code",
   "execution_count": 4,
   "id": "baef3fa8",
   "metadata": {},
   "outputs": [
    {
     "data": {
      "text/plain": [
       "3"
      ]
     },
     "execution_count": 4,
     "metadata": {},
     "output_type": "execute_result"
    }
   ],
   "source": [
    "len(my_friends2)"
   ]
  },
  {
   "cell_type": "code",
   "execution_count": 5,
   "id": "36d079a4",
   "metadata": {},
   "outputs": [
    {
     "data": {
      "text/plain": [
       "300"
      ]
     },
     "execution_count": 5,
     "metadata": {},
     "output_type": "execute_result"
    }
   ],
   "source": [
    "max([100, 200, 300, 21, 151])"
   ]
  },
  {
   "cell_type": "code",
   "execution_count": 10,
   "id": "ffdb4d8f",
   "metadata": {},
   "outputs": [
    {
     "data": {
      "text/plain": [
       "424"
      ]
     },
     "execution_count": 10,
     "metadata": {},
     "output_type": "execute_result"
    }
   ],
   "source": [
    "numbers = [100, 424, 34, 2, 53, 12]\n",
    "max(numbers)"
   ]
  },
  {
   "cell_type": "code",
   "execution_count": 11,
   "id": "bf6e0554",
   "metadata": {},
   "outputs": [
    {
     "data": {
      "text/plain": [
       "2"
      ]
     },
     "execution_count": 11,
     "metadata": {},
     "output_type": "execute_result"
    }
   ],
   "source": [
    "min(numbers)"
   ]
  },
  {
   "cell_type": "code",
   "execution_count": 12,
   "id": "d56b7359",
   "metadata": {},
   "outputs": [
    {
     "data": {
      "text/plain": [
       "625"
      ]
     },
     "execution_count": 12,
     "metadata": {},
     "output_type": "execute_result"
    }
   ],
   "source": [
    "sum(numbers)"
   ]
  },
  {
   "cell_type": "code",
   "execution_count": 13,
   "id": "d2bf4966",
   "metadata": {},
   "outputs": [
    {
     "data": {
      "text/plain": [
       "104.16666666666667"
      ]
     },
     "execution_count": 13,
     "metadata": {},
     "output_type": "execute_result"
    }
   ],
   "source": [
    "sum(numbers) / len(numbers)"
   ]
  },
  {
   "cell_type": "code",
   "execution_count": 14,
   "id": "58caba90",
   "metadata": {},
   "outputs": [
    {
     "data": {
      "text/plain": [
       "True"
      ]
     },
     "execution_count": 14,
     "metadata": {},
     "output_type": "execute_result"
    }
   ],
   "source": [
    "any(numbers)"
   ]
  },
  {
   "cell_type": "code",
   "execution_count": 15,
   "id": "6cc0f385",
   "metadata": {},
   "outputs": [
    {
     "data": {
      "text/plain": [
       "True"
      ]
     },
     "execution_count": 15,
     "metadata": {},
     "output_type": "execute_result"
    }
   ],
   "source": [
    "all(numbers)"
   ]
  },
  {
   "cell_type": "code",
   "execution_count": 16,
   "id": "27213c92",
   "metadata": {},
   "outputs": [],
   "source": [
    "# any, all\n",
    "# 0, [], \"\", None, False"
   ]
  },
  {
   "cell_type": "code",
   "execution_count": 21,
   "id": "774ba5a1",
   "metadata": {},
   "outputs": [
    {
     "data": {
      "text/plain": [
       "False"
      ]
     },
     "execution_count": 21,
     "metadata": {},
     "output_type": "execute_result"
    }
   ],
   "source": [
    "num = [0, 0, 0]\n",
    "any(num)"
   ]
  },
  {
   "cell_type": "code",
   "execution_count": 22,
   "id": "71b3fdf0",
   "metadata": {},
   "outputs": [
    {
     "data": {
      "text/plain": [
       "False"
      ]
     },
     "execution_count": 22,
     "metadata": {},
     "output_type": "execute_result"
    }
   ],
   "source": [
    "all(num)"
   ]
  },
  {
   "cell_type": "code",
   "execution_count": 23,
   "id": "4c3b682c",
   "metadata": {},
   "outputs": [
    {
     "data": {
      "text/plain": [
       "True"
      ]
     },
     "execution_count": 23,
     "metadata": {},
     "output_type": "execute_result"
    }
   ],
   "source": [
    "all(my_friends1)"
   ]
  },
  {
   "cell_type": "code",
   "execution_count": 24,
   "id": "41fb9bdc",
   "metadata": {},
   "outputs": [
    {
     "data": {
      "text/plain": [
       "True"
      ]
     },
     "execution_count": 24,
     "metadata": {},
     "output_type": "execute_result"
    }
   ],
   "source": [
    "name = []\n",
    "all(name)"
   ]
  },
  {
   "cell_type": "code",
   "execution_count": 25,
   "id": "a3553209",
   "metadata": {},
   "outputs": [
    {
     "data": {
      "text/plain": [
       "False"
      ]
     },
     "execution_count": 25,
     "metadata": {},
     "output_type": "execute_result"
    }
   ],
   "source": [
    "any(name)"
   ]
  },
  {
   "cell_type": "code",
   "execution_count": 29,
   "id": "cae693d9",
   "metadata": {},
   "outputs": [
    {
     "data": {
      "text/plain": [
       "[0, [], '', None, False]"
      ]
     },
     "execution_count": 29,
     "metadata": {},
     "output_type": "execute_result"
    }
   ],
   "source": [
    "false_list = [0, [], \"\", None, False]\n",
    "false_list"
   ]
  },
  {
   "cell_type": "code",
   "execution_count": 30,
   "id": "364bc19b",
   "metadata": {},
   "outputs": [
    {
     "data": {
      "text/plain": [
       "False"
      ]
     },
     "execution_count": 30,
     "metadata": {},
     "output_type": "execute_result"
    }
   ],
   "source": [
    "any(false_list)"
   ]
  },
  {
   "cell_type": "code",
   "execution_count": 31,
   "id": "260797d3",
   "metadata": {},
   "outputs": [
    {
     "data": {
      "text/plain": [
       "False"
      ]
     },
     "execution_count": 31,
     "metadata": {},
     "output_type": "execute_result"
    }
   ],
   "source": [
    "all(false_list)"
   ]
  },
  {
   "cell_type": "code",
   "execution_count": 32,
   "id": "f244ad3c",
   "metadata": {},
   "outputs": [
    {
     "data": {
      "text/plain": [
       "True"
      ]
     },
     "execution_count": 32,
     "metadata": {},
     "output_type": "execute_result"
    }
   ],
   "source": [
    "false_list = [0, [0], \"\", None, False]\n",
    "any(false_list)"
   ]
  },
  {
   "cell_type": "code",
   "execution_count": 33,
   "id": "b4a99f87",
   "metadata": {},
   "outputs": [
    {
     "data": {
      "text/plain": [
       "False"
      ]
     },
     "execution_count": 33,
     "metadata": {},
     "output_type": "execute_result"
    }
   ],
   "source": [
    "all(false_list)"
   ]
  },
  {
   "cell_type": "markdown",
   "id": "f9592820",
   "metadata": {},
   "source": [
    "### 인덱스를 사용하여 리스트의 항목에 접근\n",
    "* 리스트에서 데이터를 추출하려면 인덱스라는 정수를 사용한다.\n",
    "* 인덱스란 리스트에서의 항목의 번호이다\n",
    "* 리스트를 원하는 모양으로 자르는 슬라이싱 / 콜론 사용\n",
    "* 여러 요소를 선택해서 새로운 리스트를 만들고 싶다면 슬라이싱"
   ]
  },
  {
   "cell_type": "markdown",
   "id": "43f9f9c4",
   "metadata": {},
   "source": [
    "    ['kim', 187.2, 'park', 177.2, 'jeong', 167.4]\n",
    "        0     1       2      3       4       5\n",
    "        -6    -5      -4      -3     -2      -1"
   ]
  },
  {
   "cell_type": "code",
   "execution_count": 34,
   "id": "82c39fb9",
   "metadata": {},
   "outputs": [
    {
     "data": {
      "text/plain": [
       "187.2"
      ]
     },
     "execution_count": 34,
     "metadata": {},
     "output_type": "execute_result"
    }
   ],
   "source": [
    "my_friends1[1]"
   ]
  },
  {
   "cell_type": "code",
   "execution_count": 35,
   "id": "1684b66f",
   "metadata": {},
   "outputs": [
    {
     "data": {
      "text/plain": [
       "167.4"
      ]
     },
     "execution_count": 35,
     "metadata": {},
     "output_type": "execute_result"
    }
   ],
   "source": [
    "my_friends1[5]"
   ]
  },
  {
   "cell_type": "code",
   "execution_count": 36,
   "id": "fc5c75c1",
   "metadata": {},
   "outputs": [
    {
     "ename": "IndexError",
     "evalue": "list index out of range",
     "output_type": "error",
     "traceback": [
      "\u001b[1;31m---------------------------------------------------------------------------\u001b[0m",
      "\u001b[1;31mIndexError\u001b[0m                                Traceback (most recent call last)",
      "Cell \u001b[1;32mIn[36], line 1\u001b[0m\n\u001b[1;32m----> 1\u001b[0m my_friends1[\u001b[38;5;241m7\u001b[39m]\n",
      "\u001b[1;31mIndexError\u001b[0m: list index out of range"
     ]
    }
   ],
   "source": [
    "my_friends1[7]"
   ]
  },
  {
   "cell_type": "code",
   "execution_count": 37,
   "id": "27a022d7",
   "metadata": {},
   "outputs": [
    {
     "data": {
      "text/plain": [
       "167.4"
      ]
     },
     "execution_count": 37,
     "metadata": {},
     "output_type": "execute_result"
    }
   ],
   "source": [
    "my_friends1[-1]"
   ]
  },
  {
   "cell_type": "code",
   "execution_count": 39,
   "id": "e278d3b3",
   "metadata": {},
   "outputs": [
    {
     "data": {
      "text/plain": [
       "'jeong'"
      ]
     },
     "execution_count": 39,
     "metadata": {},
     "output_type": "execute_result"
    }
   ],
   "source": [
    "my_friends1[-2]"
   ]
  },
  {
   "cell_type": "code",
   "execution_count": 41,
   "id": "b446de14",
   "metadata": {},
   "outputs": [
    {
     "data": {
      "text/plain": [
       "['park', 177.2, 'jeong', 167.4]"
      ]
     },
     "execution_count": 41,
     "metadata": {},
     "output_type": "execute_result"
    }
   ],
   "source": [
    "my_friends1[2:6]"
   ]
  },
  {
   "cell_type": "code",
   "execution_count": 42,
   "id": "fc56a7cb",
   "metadata": {},
   "outputs": [
    {
     "data": {
      "text/plain": [
       "['kim', 187.2]"
      ]
     },
     "execution_count": 42,
     "metadata": {},
     "output_type": "execute_result"
    }
   ],
   "source": [
    "my_friends1[0:2]"
   ]
  },
  {
   "cell_type": "code",
   "execution_count": 43,
   "id": "cfb76a57",
   "metadata": {},
   "outputs": [
    {
     "data": {
      "text/plain": [
       "['jeong', 167.4]"
      ]
     },
     "execution_count": 43,
     "metadata": {},
     "output_type": "execute_result"
    }
   ],
   "source": [
    "my_friends1[4:6]"
   ]
  },
  {
   "cell_type": "code",
   "execution_count": 44,
   "id": "72944822",
   "metadata": {},
   "outputs": [
    {
     "data": {
      "text/plain": [
       "['kim', 187.2]"
      ]
     },
     "execution_count": 44,
     "metadata": {},
     "output_type": "execute_result"
    }
   ],
   "source": [
    "my_friends1[:2]"
   ]
  },
  {
   "cell_type": "code",
   "execution_count": 45,
   "id": "1bc46406",
   "metadata": {},
   "outputs": [
    {
     "data": {
      "text/plain": [
       "[167.4, 'jeong', 177.2, 'park', 187.2, 'kim']"
      ]
     },
     "execution_count": 45,
     "metadata": {},
     "output_type": "execute_result"
    }
   ],
   "source": [
    "my_friends1[::-1]"
   ]
  },
  {
   "cell_type": "code",
   "execution_count": 46,
   "id": "f6e84f05",
   "metadata": {},
   "outputs": [
    {
     "data": {
      "text/plain": [
       "['jeong', 167.4]"
      ]
     },
     "execution_count": 46,
     "metadata": {},
     "output_type": "execute_result"
    }
   ],
   "source": [
    "my_friends1[4:]"
   ]
  },
  {
   "cell_type": "code",
   "execution_count": 47,
   "id": "9c4cebbc",
   "metadata": {},
   "outputs": [
    {
     "data": {
      "text/plain": [
       "['jeong', 167.4]"
      ]
     },
     "execution_count": 47,
     "metadata": {},
     "output_type": "execute_result"
    }
   ],
   "source": [
    "my_friends1[-2:]"
   ]
  },
  {
   "cell_type": "code",
   "execution_count": 48,
   "id": "29039a79",
   "metadata": {},
   "outputs": [
    {
     "data": {
      "text/plain": [
       "['kim', 187.2, 'park', 177.2]"
      ]
     },
     "execution_count": 48,
     "metadata": {},
     "output_type": "execute_result"
    }
   ],
   "source": [
    "my_friends1[:-2]"
   ]
  },
  {
   "cell_type": "code",
   "execution_count": 49,
   "id": "d19343c1",
   "metadata": {},
   "outputs": [
    {
     "data": {
      "text/plain": [
       "[187.2, 177.2, 167.4]"
      ]
     },
     "execution_count": 49,
     "metadata": {},
     "output_type": "execute_result"
    }
   ],
   "source": [
    "my_friends1[1:6:2]"
   ]
  },
  {
   "cell_type": "code",
   "execution_count": 50,
   "id": "3d92c5d3",
   "metadata": {},
   "outputs": [
    {
     "data": {
      "text/plain": [
       "['kim', 'park', 'jeong']"
      ]
     },
     "execution_count": 50,
     "metadata": {},
     "output_type": "execute_result"
    }
   ],
   "source": [
    "my_friends1[0:6:2]"
   ]
  },
  {
   "cell_type": "code",
   "execution_count": 51,
   "id": "dda72b5b",
   "metadata": {},
   "outputs": [
    {
     "data": {
      "text/plain": [
       "['kim', 'park', 'jeong']"
      ]
     },
     "execution_count": 51,
     "metadata": {},
     "output_type": "execute_result"
    }
   ],
   "source": [
    "my_friends1[::2]"
   ]
  },
  {
   "cell_type": "code",
   "execution_count": 53,
   "id": "859d8a27",
   "metadata": {},
   "outputs": [
    {
     "data": {
      "text/plain": [
       "[187.2, 177.2, 167.4]"
      ]
     },
     "execution_count": 53,
     "metadata": {},
     "output_type": "execute_result"
    }
   ],
   "source": [
    "my_friends1[1::2]"
   ]
  },
  {
   "cell_type": "code",
   "execution_count": 55,
   "id": "5c59db08",
   "metadata": {},
   "outputs": [
    {
     "data": {
      "text/plain": [
       "[167.4, 'jeong', 177.2, 'park', 187.2, 'kim']"
      ]
     },
     "execution_count": 55,
     "metadata": {},
     "output_type": "execute_result"
    }
   ],
   "source": [
    "my_friends1[::-1]"
   ]
  },
  {
   "cell_type": "code",
   "execution_count": null,
   "id": "708006ae",
   "metadata": {},
   "outputs": [],
   "source": []
  },
  {
   "cell_type": "markdown",
   "id": "a115d6fa",
   "metadata": {},
   "source": [
    "### 리스트의 원소 값을 자유롭게 조작\n",
    "* 리스트의 메소드\n",
    "    \n",
    "        index(x) : 원소x를 이용하여 위치 찾는 기능\n",
    "        append(x) : 원소x를 리스트의 끝에 추가\n",
    "        count(x) : 리스트 내에서 x원소의 개수를 반환\n",
    "        extend([x1, x2]) : [x1, x2]리스트를 기존 리스트에 삽입\n",
    "        insert(index, x) : 원하는 index 위치에 x 추가\n",
    "        remove(x) : x 원소를 리스트에서 삭제\n",
    "        pop(index) : index 위치릐 원소를 삭제한 후 반환\n",
    "        sort() : 값을 오름차순 순서대로 정렬.키워드 인자 reverse=True이면 내림차순\n",
    "        reverse() : 리스트를 원래 원소들의 역순으로 만듬\n",
    "        "
   ]
  },
  {
   "cell_type": "code",
   "execution_count": 56,
   "id": "c8d14cf0",
   "metadata": {},
   "outputs": [
    {
     "data": {
      "text/plain": [
       "0"
      ]
     },
     "execution_count": 56,
     "metadata": {},
     "output_type": "execute_result"
    }
   ],
   "source": [
    "my_friends1.index(\"kim\")"
   ]
  },
  {
   "cell_type": "code",
   "execution_count": 59,
   "id": "bb25f991",
   "metadata": {},
   "outputs": [
    {
     "data": {
      "text/plain": [
       "['kim', 187.2, 'park', 177.2, 'jeong', 167.4, 'choi', 'choi']"
      ]
     },
     "execution_count": 59,
     "metadata": {},
     "output_type": "execute_result"
    }
   ],
   "source": [
    "my_friends1.append(\"choi\")\n",
    "my_friends1"
   ]
  },
  {
   "cell_type": "code",
   "execution_count": 60,
   "id": "9625fa4a",
   "metadata": {},
   "outputs": [
    {
     "data": {
      "text/plain": [
       "2"
      ]
     },
     "execution_count": 60,
     "metadata": {},
     "output_type": "execute_result"
    }
   ],
   "source": [
    "my_friends1.count(\"choi\")"
   ]
  },
  {
   "cell_type": "code",
   "execution_count": 63,
   "id": "f93cd300",
   "metadata": {},
   "outputs": [
    {
     "data": {
      "text/plain": [
       "['kim',\n",
       " 187.2,\n",
       " 'park',\n",
       " 177.2,\n",
       " 'jeong',\n",
       " 167.4,\n",
       " 'choi',\n",
       " 'choi',\n",
       " ['cho', 177.2],\n",
       " ['cho', 177.2]]"
      ]
     },
     "execution_count": 63,
     "metadata": {},
     "output_type": "execute_result"
    }
   ],
   "source": [
    "my_friends1.append([\"cho\", 177.2])\n",
    "my_friends1"
   ]
  },
  {
   "cell_type": "code",
   "execution_count": 65,
   "id": "688e8d1f",
   "metadata": {},
   "outputs": [
    {
     "data": {
      "text/plain": [
       "[['cho', 177.2],\n",
       " ['cho', 177.2],\n",
       " 'choi',\n",
       " 'choi',\n",
       " 167.4,\n",
       " 'jeong',\n",
       " 177.2,\n",
       " 'park',\n",
       " 187.2]"
      ]
     },
     "execution_count": 65,
     "metadata": {},
     "output_type": "execute_result"
    }
   ],
   "source": [
    "my_friends1 = my_friends1[:-1]\n",
    "my_friends1"
   ]
  },
  {
   "cell_type": "code",
   "execution_count": 67,
   "id": "16dd2f48",
   "metadata": {},
   "outputs": [
    {
     "data": {
      "text/plain": [
       "[['cho', 177.2],\n",
       " ['cho', 177.2],\n",
       " 'choi',\n",
       " 'choi',\n",
       " 167.4,\n",
       " 'jeong',\n",
       " 177.2,\n",
       " 'park',\n",
       " 187.2,\n",
       " 'cho',\n",
       " 198,\n",
       " 'cho',\n",
       " 198]"
      ]
     },
     "execution_count": 67,
     "metadata": {},
     "output_type": "execute_result"
    }
   ],
   "source": [
    "my_friends1.extend([\"cho\", 198])\n",
    "my_friends1"
   ]
  },
  {
   "cell_type": "code",
   "execution_count": 69,
   "id": "9d383b7f",
   "metadata": {},
   "outputs": [
    {
     "data": {
      "text/plain": [
       "[['cho', 177.2],\n",
       " ['cho', 177.2],\n",
       " 'go',\n",
       " 'go',\n",
       " 'choi',\n",
       " 'choi',\n",
       " 167.4,\n",
       " 'jeong',\n",
       " 177.2,\n",
       " 'park',\n",
       " 187.2,\n",
       " 'cho',\n",
       " 198,\n",
       " 'cho',\n",
       " 198]"
      ]
     },
     "execution_count": 69,
     "metadata": {},
     "output_type": "execute_result"
    }
   ],
   "source": [
    "my_friends1.insert(2, 'go')\n",
    "my_friends1"
   ]
  },
  {
   "cell_type": "code",
   "execution_count": 71,
   "id": "c3375a56",
   "metadata": {},
   "outputs": [
    {
     "data": {
      "text/plain": [
       "[['cho', 177.2],\n",
       " ['cho', 177.2],\n",
       " 'choi',\n",
       " 'choi',\n",
       " 167.4,\n",
       " 'jeong',\n",
       " 177.2,\n",
       " 'park',\n",
       " 187.2,\n",
       " 'cho',\n",
       " 198,\n",
       " 'cho',\n",
       " 198]"
      ]
     },
     "execution_count": 71,
     "metadata": {},
     "output_type": "execute_result"
    }
   ],
   "source": [
    "my_friends1.remove('go')\n",
    "my_friends1"
   ]
  },
  {
   "cell_type": "code",
   "execution_count": 73,
   "id": "9a9aced7",
   "metadata": {},
   "outputs": [
    {
     "data": {
      "text/plain": [
       "[['cho', 177.2],\n",
       " ['cho', 177.2],\n",
       " 'choi',\n",
       " 'choi',\n",
       " 167.4,\n",
       " 'jeong',\n",
       " 177.2,\n",
       " 'park',\n",
       " 187.2,\n",
       " 198,\n",
       " 198]"
      ]
     },
     "execution_count": 73,
     "metadata": {},
     "output_type": "execute_result"
    }
   ],
   "source": [
    "my_friends1.remove('cho')\n",
    "my_friends1"
   ]
  },
  {
   "cell_type": "code",
   "execution_count": 75,
   "id": "36b54224",
   "metadata": {},
   "outputs": [
    {
     "data": {
      "text/plain": [
       "[['cho', 177.2],\n",
       " ['cho', 177.2],\n",
       " 'choi',\n",
       " 'choi',\n",
       " 167.4,\n",
       " 'jeong',\n",
       " 177.2,\n",
       " 'park',\n",
       " 187.2]"
      ]
     },
     "execution_count": 75,
     "metadata": {},
     "output_type": "execute_result"
    }
   ],
   "source": [
    "my_friends1.remove(198)\n",
    "my_friends1"
   ]
  },
  {
   "cell_type": "markdown",
   "id": "abe89790",
   "metadata": {},
   "source": [
    "### 항목을 삭제하는 방법\n",
    "* remove(), pop(), del 명령을 사용가능\n",
    "*  del명령어는 리스트의 명령어가 아니므로 주의"
   ]
  },
  {
   "cell_type": "code",
   "execution_count": 76,
   "id": "9134068a",
   "metadata": {},
   "outputs": [],
   "source": [
    "del my_friends1"
   ]
  },
  {
   "cell_type": "code",
   "execution_count": 77,
   "id": "1c9629b8",
   "metadata": {},
   "outputs": [
    {
     "data": {
      "text/plain": [
       "[['kim', 187.2], ['park', 177.2], ['jeong', 167.4]]"
      ]
     },
     "execution_count": 77,
     "metadata": {},
     "output_type": "execute_result"
    }
   ],
   "source": [
    "my_friends2"
   ]
  },
  {
   "cell_type": "code",
   "execution_count": 78,
   "id": "930908d3",
   "metadata": {},
   "outputs": [
    {
     "data": {
      "text/plain": [
       "[['kim', 187.2], ['park', 177.2]]"
      ]
     },
     "execution_count": 78,
     "metadata": {},
     "output_type": "execute_result"
    }
   ],
   "source": [
    "my_friends2.pop()\n",
    "my_friends2"
   ]
  },
  {
   "cell_type": "code",
   "execution_count": 79,
   "id": "d91b77e0",
   "metadata": {},
   "outputs": [],
   "source": [
    "del my_friends2[0]"
   ]
  },
  {
   "cell_type": "code",
   "execution_count": 80,
   "id": "5f990c28",
   "metadata": {},
   "outputs": [
    {
     "data": {
      "text/plain": [
       "[['park', 177.2]]"
      ]
     },
     "execution_count": 80,
     "metadata": {},
     "output_type": "execute_result"
    }
   ],
   "source": [
    "my_friends2"
   ]
  },
  {
   "cell_type": "markdown",
   "id": "36bc7764",
   "metadata": {},
   "source": [
    "### 리스트의 객체의 생성과 참조라는 깊이있는 개념\n",
    "* 효과적으로 활용하기 위해 주소만 사용 \n",
    "* 메모리 참조"
   ]
  },
  {
   "cell_type": "code",
   "execution_count": 81,
   "id": "71d62deb",
   "metadata": {},
   "outputs": [],
   "source": [
    "name = ['park', 'kim', 'choi', 'jeong']"
   ]
  },
  {
   "cell_type": "code",
   "execution_count": 82,
   "id": "92e92677",
   "metadata": {},
   "outputs": [
    {
     "data": {
      "text/plain": [
       "['park', 'kim', 'choi', 'jeong']"
      ]
     },
     "execution_count": 82,
     "metadata": {},
     "output_type": "execute_result"
    }
   ],
   "source": [
    "named = name\n",
    "named"
   ]
  },
  {
   "cell_type": "code",
   "execution_count": 84,
   "id": "81d7654b",
   "metadata": {},
   "outputs": [
    {
     "data": {
      "text/plain": [
       "['park', 'kim', 'choi', 'jeong', 'lee', 'lee']"
      ]
     },
     "execution_count": 84,
     "metadata": {},
     "output_type": "execute_result"
    }
   ],
   "source": [
    "named.extend(['lee'])\n",
    "named"
   ]
  },
  {
   "cell_type": "code",
   "execution_count": 85,
   "id": "1adabd1a",
   "metadata": {},
   "outputs": [
    {
     "data": {
      "text/plain": [
       "['park', 'kim', 'choi', 'jeong', 'lee']"
      ]
     },
     "execution_count": 85,
     "metadata": {},
     "output_type": "execute_result"
    }
   ],
   "source": [
    "named.pop()\n",
    "named"
   ]
  },
  {
   "cell_type": "code",
   "execution_count": 86,
   "id": "1077a8f5",
   "metadata": {},
   "outputs": [
    {
     "data": {
      "text/plain": [
       "['park', 'kim', 'choi', 'jeong', 'lee', 'ryuj']"
      ]
     },
     "execution_count": 86,
     "metadata": {},
     "output_type": "execute_result"
    }
   ],
   "source": [
    "name.append('ryuj')\n",
    "name"
   ]
  },
  {
   "cell_type": "code",
   "execution_count": 87,
   "id": "c50daa7a",
   "metadata": {},
   "outputs": [
    {
     "data": {
      "text/plain": [
       "['park', 'kim', 'choi', 'jeong', 'lee', 'ryuj']"
      ]
     },
     "execution_count": 87,
     "metadata": {},
     "output_type": "execute_result"
    }
   ],
   "source": [
    "named"
   ]
  },
  {
   "cell_type": "code",
   "execution_count": 88,
   "id": "0b0b78b5",
   "metadata": {},
   "outputs": [
    {
     "data": {
      "text/plain": [
       "2056628392768"
      ]
     },
     "execution_count": 88,
     "metadata": {},
     "output_type": "execute_result"
    }
   ],
   "source": [
    "id(name)"
   ]
  },
  {
   "cell_type": "code",
   "execution_count": 89,
   "id": "25e1878a",
   "metadata": {},
   "outputs": [
    {
     "data": {
      "text/plain": [
       "2056628392768"
      ]
     },
     "execution_count": 89,
     "metadata": {},
     "output_type": "execute_result"
    }
   ],
   "source": [
    "id(named)"
   ]
  },
  {
   "cell_type": "markdown",
   "id": "df6ae86e",
   "metadata": {},
   "source": [
    "###  리스트를 복제한 새로운 리스트 만들기"
   ]
  },
  {
   "cell_type": "code",
   "execution_count": 90,
   "id": "ef05ef56",
   "metadata": {},
   "outputs": [],
   "source": [
    "named = name[:]"
   ]
  },
  {
   "cell_type": "code",
   "execution_count": 91,
   "id": "8777f482",
   "metadata": {},
   "outputs": [
    {
     "data": {
      "text/plain": [
       "2056629950848"
      ]
     },
     "execution_count": 91,
     "metadata": {},
     "output_type": "execute_result"
    }
   ],
   "source": [
    "id(named)"
   ]
  },
  {
   "cell_type": "code",
   "execution_count": 92,
   "id": "c533e6fe",
   "metadata": {},
   "outputs": [
    {
     "data": {
      "text/plain": [
       "2056628392768"
      ]
     },
     "execution_count": 92,
     "metadata": {},
     "output_type": "execute_result"
    }
   ],
   "source": [
    "id(name)"
   ]
  },
  {
   "cell_type": "code",
   "execution_count": 94,
   "id": "52f4a538",
   "metadata": {},
   "outputs": [
    {
     "data": {
      "text/plain": [
       "['choi', 'jeong', 'lee', 'ryuj']"
      ]
     },
     "execution_count": 94,
     "metadata": {},
     "output_type": "execute_result"
    }
   ],
   "source": [
    "name = name[2:]\n",
    "name"
   ]
  },
  {
   "cell_type": "code",
   "execution_count": 95,
   "id": "3f9e8863",
   "metadata": {},
   "outputs": [
    {
     "data": {
      "text/plain": [
       "['park', 'kim', 'choi', 'jeong', 'lee', 'ryuj']"
      ]
     },
     "execution_count": 95,
     "metadata": {},
     "output_type": "execute_result"
    }
   ],
   "source": [
    "named"
   ]
  },
  {
   "cell_type": "code",
   "execution_count": 96,
   "id": "d969a64f",
   "metadata": {},
   "outputs": [
    {
     "data": {
      "text/plain": [
       "['choi', 'jeong', 'lee', 'ryuj']"
      ]
     },
     "execution_count": 96,
     "metadata": {},
     "output_type": "execute_result"
    }
   ],
   "source": [
    "names = name.copy()\n",
    "names"
   ]
  },
  {
   "cell_type": "code",
   "execution_count": 97,
   "id": "f54720ea",
   "metadata": {},
   "outputs": [
    {
     "data": {
      "text/plain": [
       "(2056629826624, 2056629950848, 2056624448896)"
      ]
     },
     "execution_count": 97,
     "metadata": {},
     "output_type": "execute_result"
    }
   ],
   "source": [
    "id(names), id(named), id(name)"
   ]
  },
  {
   "cell_type": "markdown",
   "id": "54b34428",
   "metadata": {},
   "source": [
    "### 리스트 탐색\n",
    "* in 이라는 연산자 사용"
   ]
  },
  {
   "cell_type": "code",
   "execution_count": 99,
   "id": "a3c51f4c",
   "metadata": {},
   "outputs": [
    {
     "data": {
      "text/plain": [
       "True"
      ]
     },
     "execution_count": 99,
     "metadata": {},
     "output_type": "execute_result"
    }
   ],
   "source": [
    "'park' in named"
   ]
  },
  {
   "cell_type": "code",
   "execution_count": 102,
   "id": "07453817",
   "metadata": {},
   "outputs": [
    {
     "data": {
      "text/plain": [
       "True"
      ]
     },
     "execution_count": 102,
     "metadata": {},
     "output_type": "execute_result"
    }
   ],
   "source": [
    "'kim' in named"
   ]
  },
  {
   "cell_type": "code",
   "execution_count": 103,
   "id": "b5a47cc4",
   "metadata": {},
   "outputs": [
    {
     "data": {
      "text/plain": [
       "True"
      ]
     },
     "execution_count": 103,
     "metadata": {},
     "output_type": "execute_result"
    }
   ],
   "source": [
    "'jeong' in name"
   ]
  },
  {
   "cell_type": "markdown",
   "id": "7957541b",
   "metadata": {},
   "source": [
    "### 리스트의 크기에 따라 정렬"
   ]
  },
  {
   "cell_type": "code",
   "execution_count": 109,
   "id": "b62424f5",
   "metadata": {},
   "outputs": [
    {
     "data": {
      "text/plain": [
       "[1, 2, 3, 4, 5, 6, 7, 8, 9]"
      ]
     },
     "execution_count": 109,
     "metadata": {},
     "output_type": "execute_result"
    }
   ],
   "source": [
    "number = [1,2,3,4,5,6,8,7,9]\n",
    "number.sort()\n",
    "number"
   ]
  },
  {
   "cell_type": "code",
   "execution_count": 110,
   "id": "400c1b13",
   "metadata": {},
   "outputs": [
    {
     "data": {
      "text/plain": [
       "[9, 8, 7, 6, 5, 4, 3, 2, 1]"
      ]
     },
     "execution_count": 110,
     "metadata": {},
     "output_type": "execute_result"
    }
   ],
   "source": [
    "number.sort(reverse=True)\n",
    "number"
   ]
  },
  {
   "cell_type": "code",
   "execution_count": 113,
   "id": "7af339c1",
   "metadata": {},
   "outputs": [],
   "source": [
    "number = [1,2,3,4,5,6,8,7,9] * 2"
   ]
  },
  {
   "cell_type": "code",
   "execution_count": 114,
   "id": "9ce8d6c8",
   "metadata": {},
   "outputs": [
    {
     "data": {
      "text/plain": [
       "[1, 2, 3, 4, 5, 6, 8, 7, 9, 1, 2, 3, 4, 5, 6, 8, 7, 9]"
      ]
     },
     "execution_count": 114,
     "metadata": {},
     "output_type": "execute_result"
    }
   ],
   "source": [
    "number"
   ]
  },
  {
   "cell_type": "code",
   "execution_count": 115,
   "id": "8d1737b6",
   "metadata": {},
   "outputs": [
    {
     "data": {
      "text/plain": [
       "[1, 2, 3, 4, 5]"
      ]
     },
     "execution_count": 115,
     "metadata": {},
     "output_type": "execute_result"
    }
   ],
   "source": [
    "num = [1,2,3,4,5]\n",
    "num"
   ]
  },
  {
   "cell_type": "code",
   "execution_count": 124,
   "id": "b3a67ff5",
   "metadata": {},
   "outputs": [
    {
     "data": {
      "text/plain": [
       "[2, 6, 10]"
      ]
     },
     "execution_count": 124,
     "metadata": {},
     "output_type": "execute_result"
    }
   ],
   "source": [
    "num1 = []\n",
    "for n in num:\n",
    "    if n %  2 == 1:\n",
    "        num1.append(n * 2)\n",
    "    \n",
    "num1"
   ]
  },
  {
   "cell_type": "markdown",
   "id": "cdef5cf1",
   "metadata": {},
   "source": [
    "### 리스트 함축(list comprehension)"
   ]
  },
  {
   "cell_type": "code",
   "execution_count": 120,
   "id": "8aae425b",
   "metadata": {},
   "outputs": [
    {
     "data": {
      "text/plain": [
       "[2, 4, 6, 8, 10]"
      ]
     },
     "execution_count": 120,
     "metadata": {},
     "output_type": "execute_result"
    }
   ],
   "source": [
    "num2 = [n * 2 for n in num]\n",
    "num2"
   ]
  },
  {
   "cell_type": "code",
   "execution_count": 126,
   "id": "7b27ea86",
   "metadata": {},
   "outputs": [],
   "source": [
    "num2 = [n ** 2 for n in num if n % 2 == 1]"
   ]
  },
  {
   "cell_type": "code",
   "execution_count": 127,
   "id": "3e7d1695",
   "metadata": {},
   "outputs": [
    {
     "data": {
      "text/plain": [
       "[1, 9, 25]"
      ]
     },
     "execution_count": 127,
     "metadata": {},
     "output_type": "execute_result"
    }
   ],
   "source": [
    "num2"
   ]
  },
  {
   "cell_type": "code",
   "execution_count": 130,
   "id": "25d6ce54",
   "metadata": {},
   "outputs": [],
   "source": [
    "num2 = [n ** 2 for n in num if n % 2 == 0]"
   ]
  },
  {
   "cell_type": "code",
   "execution_count": 131,
   "id": "dafca4f5",
   "metadata": {},
   "outputs": [
    {
     "data": {
      "text/plain": [
       "[4, 16]"
      ]
     },
     "execution_count": 131,
     "metadata": {},
     "output_type": "execute_result"
    }
   ],
   "source": [
    "num2"
   ]
  },
  {
   "cell_type": "code",
   "execution_count": null,
   "id": "d2a8c285",
   "metadata": {},
   "outputs": [],
   "source": []
  }
 ],
 "metadata": {
  "kernelspec": {
   "display_name": "Python 3 (ipykernel)",
   "language": "python",
   "name": "python3"
  },
  "language_info": {
   "codemirror_mode": {
    "name": "ipython",
    "version": 3
   },
   "file_extension": ".py",
   "mimetype": "text/x-python",
   "name": "python",
   "nbconvert_exporter": "python",
   "pygments_lexer": "ipython3",
   "version": "3.11.5"
  }
 },
 "nbformat": 4,
 "nbformat_minor": 5
}
