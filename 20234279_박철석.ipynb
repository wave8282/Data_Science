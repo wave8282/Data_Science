{
 "cells": [
  {
   "cell_type": "markdown",
   "id": "379a532f",
   "metadata": {},
   "source": [
    "## 4단원 핵심정리\n",
    "* 제어문이란 프로그램의 순차적 흐름이 아닌 조건에 맞는 실행과 반복을 하는 명령문이다.\n",
    "* 조건문이란 프로그램머가 명시한 특정 조건을 만족할 때에만 특정 블록이 실행되도록 하는 문법인다\n",
    "* 조건문의 키워드는 if, elif의 다음에는 조건식이 나타나고 바로 이어서 실행문 블록이 시작되기 전에 콜론(:)을 표시한다. 그리고 실행문 블록은 반드시 들여쓰기를 해주어야 한다.\n",
    "* 조건식은 부울형인 참(True)과 거짓(False)의 값을 가질 수 있다,.\n",
    "* 블록은 같은 실행 흐름에서 순서대로 실행되는 코드의 집합을 의미한다.\n",
    "* 조건문에서 실행문 블록은 반드시 들여쓰기를 해주어야 한다.\n",
    "* if-elif-else 문에서 if 문의 조건식을 제일 먼저 조사하고, if 문의 조건식이 참이 아닐 때, elif 조건식을 검사하고, elif 문의 조건식도 참이 아닐 때에는 마지막으로 else 문의 블록을 실행한다.\n"
   ]
  },
  {
   "cell_type": "markdown",
   "id": "b3891f45",
   "metadata": {},
   "source": [
    "## 5단원 핵심정리\n",
    "* 문장들을 반복 실행하려면 for나 while을 사용한다.\n",
    "* 반복 실행되는 문장들을 들여쓰기 하여야 한다.\n",
    "* for문은 반복 횟수가 정해져 잇을 때 적합하다.\n",
    "* while 문은 반복 조건이 정해져 있을 때 유요하다,\n",
    "* while 반복문은 문자의 초입에서 조건식이 검사된다,\n",
    "* continue와 break는 루프제어를 위한 고급기능을 제공한다."
   ]
  },
  {
   "cell_type": "markdown",
   "id": "09bacfa0",
   "metadata": {},
   "source": [
    "### 심화문제"
   ]
  },
  {
   "cell_type": "markdown",
   "id": "dfd7defa",
   "metadata": {},
   "source": [
    "#### 4.1 사용자로부터 a에서 z까지의 알파벳 문자 하나를 입력 받아서 a,e,i,o,u일 경우다음과 같이 '모음입니다'를 출력하고, 이"
   ]
  }
 ],
 "metadata": {
  "kernelspec": {
   "display_name": "Python 3 (ipykernel)",
   "language": "python",
   "name": "python3"
  },
  "language_info": {
   "codemirror_mode": {
    "name": "ipython",
    "version": 3
   },
   "file_extension": ".py",
   "mimetype": "text/x-python",
   "name": "python",
   "nbconvert_exporter": "python",
   "pygments_lexer": "ipython3",
   "version": "3.9.7"
  }
 },
 "nbformat": 4,
 "nbformat_minor": 5
}
