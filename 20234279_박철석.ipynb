{
 "cells": [
  {
   "cell_type": "markdown",
   "id": "8d5fc652",
   "metadata": {},
   "source": [
    "# 7단원 핵심정리\n",
    "* 리스트는 항목들을 모아둔 곳이다.\n",
    "* 리스트의 항목은 어떤 것이든 가능하다.\n",
    "* 공백 리스트를 만들고 append()를 호출하여서 코드로 항목을 추가할 수 있다.\n",
    "* 튜플은 변경불가능 자료형으로 리스트에 비하여 처리속도가 빠르지만 그 항목값을 수정할 수 없다.\n",
    "* 튜플을 사용하여 함수로부터 여러 개의 값을 반환 받을 수 있다.\n",
    "* 파이썬은 여러가지 종류의 클래스를 미리 만들어서 개발시에 사용할 수 있도록 제공하는 * 객체지향 프로그래밍 언어이다."
   ]
  },
  {
   "cell_type": "markdown",
   "id": "4d7bc44c",
   "metadata": {},
   "source": [
    "# 8단원 핵심정리\n",
    "* 딕셔너리는 키와 값으로 이루어진다.\n",
    "* 딕셔너리에 키를 제시하면 값을 반환한다.\n",
    "* 딕셔너리는 인덱스를 이용하여 접근하지 않고 키를 이용하여 항목에 접근한다.\n",
    "* 키를 이용하기 때문에 항목들 사이의 순서는 중요하지 않다.\n",
    "* 항목의 순서가 중요하지 않은 데이터로 집합이 있다.\n",
    "* 딕셔너리와 집합은 항목의 순서에 의미가 없으므로 슬라이싱을 적요할 수 없다.\n",
    "* 집합연산을 지원하는 풍부한 연산자와 메소드가 제공되고 있다."
   ]
  },
  {
   "cell_type": "code",
   "execution_count": null,
   "id": "112a19a4",
   "metadata": {},
   "outputs": [],
   "source": []
  }
 ],
 "metadata": {
  "kernelspec": {
   "display_name": "Python 3 (ipykernel)",
   "language": "python",
   "name": "python3"
  },
  "language_info": {
   "codemirror_mode": {
    "name": "ipython",
    "version": 3
   },
   "file_extension": ".py",
   "mimetype": "text/x-python",
   "name": "python",
   "nbconvert_exporter": "python",
   "pygments_lexer": "ipython3",
   "version": "3.11.5"
  }
 },
 "nbformat": 4,
 "nbformat_minor": 5
}
