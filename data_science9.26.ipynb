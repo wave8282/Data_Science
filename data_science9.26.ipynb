{
 "cells": [
  {
   "cell_type": "markdown",
   "id": "1bfefa62",
   "metadata": {},
   "source": [
    "## 심화문제 풀이"
   ]
  },
  {
   "cell_type": "markdown",
   "id": "44956db0",
   "metadata": {},
   "source": [
    "## 2.1"
   ]
  },
  {
   "cell_type": "code",
   "execution_count": 1,
   "id": "491452aa",
   "metadata": {},
   "outputs": [
    {
     "name": "stdout",
     "output_type": "stream",
     "text": [
      "200 + 300 + 400 = 900\n"
     ]
    }
   ],
   "source": [
    "print(200, \"+\", 300, \"+\", 400, \"=\", 200+300+400)"
   ]
  },
  {
   "cell_type": "markdown",
   "id": "4dc64d4d",
   "metadata": {},
   "source": [
    "## 2.2"
   ]
  },
  {
   "cell_type": "code",
   "execution_count": 2,
   "id": "6e23dd3c",
   "metadata": {},
   "outputs": [
    {
     "name": "stdout",
     "output_type": "stream",
     "text": [
      "30\n",
      "60\n"
     ]
    }
   ],
   "source": [
    "width = 30\n",
    "height = 60\n",
    "print(width)\n",
    "print(height)"
   ]
  },
  {
   "cell_type": "markdown",
   "id": "4ec3e427",
   "metadata": {},
   "source": [
    "## 2.3"
   ]
  },
  {
   "cell_type": "code",
   "execution_count": 3,
   "id": "4420726c",
   "metadata": {},
   "outputs": [
    {
     "name": "stdout",
     "output_type": "stream",
     "text": [
      "30\n",
      "60\n"
     ]
    }
   ],
   "source": [
    "width, height = 30, 60\n",
    "print(width)\n",
    "print(height)"
   ]
  },
  {
   "cell_type": "markdown",
   "id": "eb6b2a33",
   "metadata": {},
   "source": [
    "## 2.4"
   ]
  },
  {
   "cell_type": "code",
   "execution_count": 5,
   "id": "83dc09fb",
   "metadata": {},
   "outputs": [
    {
     "name": "stdout",
     "output_type": "stream",
     "text": [
      "삼각형의 면적 :  400.0\n"
     ]
    }
   ],
   "source": [
    "width, height = 40, 20\n",
    "area = width * height / 2\n",
    "print(\"삼각형의 면적 : \", area)"
   ]
  },
  {
   "cell_type": "markdown",
   "id": "35d50cd4",
   "metadata": {},
   "source": [
    "## 2.5"
   ]
  },
  {
   "cell_type": "code",
   "execution_count": 7,
   "id": "16ba0534",
   "metadata": {},
   "outputs": [
    {
     "name": "stdout",
     "output_type": "stream",
     "text": [
      "정사각형의 밑변의 길이를 입력 : 50\n",
      "정사각형의 면적 :  2500\n"
     ]
    }
   ],
   "source": [
    "width = int(input(\"정사각형의 밑변의 길이를 입력 : \"))\n",
    "area = width * width\n",
    "print(\"정사각형의 면적 : \", area)"
   ]
  },
  {
   "cell_type": "markdown",
   "id": "8436aa54",
   "metadata": {},
   "source": [
    "## 2.6"
   ]
  },
  {
   "cell_type": "code",
   "execution_count": 8,
   "id": "a13154d6",
   "metadata": {},
   "outputs": [
    {
     "name": "stdout",
     "output_type": "stream",
     "text": [
      "1에서 10까지의 합 :  55\n"
     ]
    }
   ],
   "source": [
    "print(\"1에서 10까지의 합 : \", 1+2+3+4+5+6+7+8+9+10)"
   ]
  },
  {
   "cell_type": "code",
   "execution_count": 18,
   "id": "0cba3c00",
   "metadata": {},
   "outputs": [
    {
     "name": "stdout",
     "output_type": "stream",
     "text": [
      "55\n"
     ]
    }
   ],
   "source": [
    "output = 0\n",
    "for i in range(1, 11):\n",
    "    output = output + i\n",
    "\n",
    "print(output)"
   ]
  },
  {
   "cell_type": "markdown",
   "id": "c1f42aa4",
   "metadata": {},
   "source": [
    "## 2.7"
   ]
  },
  {
   "cell_type": "code",
   "execution_count": 22,
   "id": "8ccd06c0",
   "metadata": {},
   "outputs": [
    {
     "name": "stdout",
     "output_type": "stream",
     "text": [
      "3628800\n"
     ]
    }
   ],
   "source": [
    "output = 1\n",
    "for i in range(1, 11):\n",
    "    output *= i\n",
    "    \n",
    "print(output)"
   ]
  },
  {
   "cell_type": "markdown",
   "id": "78f52949",
   "metadata": {},
   "source": [
    "## 2.8"
   ]
  },
  {
   "cell_type": "code",
   "execution_count": 26,
   "id": "a5e57509",
   "metadata": {},
   "outputs": [
    {
     "name": "stdout",
     "output_type": "stream",
     "text": [
      "0 32.0\n",
      "10 50.0\n",
      "20 68.0\n",
      "30 86.0\n",
      "40 104.0\n",
      "50 122.0\n"
     ]
    }
   ],
   "source": [
    "for cel in range(0, 51, 10):\n",
    "    print(cel, (9/5) * cel + 32)"
   ]
  },
  {
   "cell_type": "markdown",
   "id": "ac6293e5",
   "metadata": {},
   "source": [
    "## 2.10"
   ]
  },
  {
   "cell_type": "code",
   "execution_count": 28,
   "id": "6d853623",
   "metadata": {},
   "outputs": [
    {
     "ename": "SyntaxError",
     "evalue": "invalid syntax (Temp/ipykernel_356/1420710521.py, line 3)",
     "output_type": "error",
     "traceback": [
      "\u001b[1;36m  File \u001b[1;32m\"C:\\Users\\PC-\\AppData\\Local\\Temp/ipykernel_356/1420710521.py\"\u001b[1;36m, line \u001b[1;32m3\u001b[0m\n\u001b[1;33m    circumference = pi * radius * radius\u001b[0m\n\u001b[1;37m    ^\u001b[0m\n\u001b[1;31mSyntaxError\u001b[0m\u001b[1;31m:\u001b[0m invalid syntax\n"
     ]
    }
   ],
   "source": [
    "pi = 3.141592\n",
    "radius = float(input((\"원의 반지름 입력 : \"))\n",
    "circumference = pi * radius * radius\n",
    "circle = pi * radius *2"
   ]
  },
  {
   "cell_type": "markdown",
   "id": "fb35ec51",
   "metadata": {},
   "source": [
    "## 2.11"
   ]
  },
  {
   "cell_type": "code",
   "execution_count": 35,
   "id": "1bf102f2",
   "metadata": {},
   "outputs": [
    {
     "name": "stdout",
     "output_type": "stream",
     "text": [
      "It's really hot!\n",
      "I said \"Hello!\" to him.\n",
      "He said \"What's there?\"\n",
      "Newline charater is \\n,Tab character is \\t.\n",
      "Working directory is C:\\workspace\\mywork.\n"
     ]
    }
   ],
   "source": [
    "print(\"\"\"It's really hot!\\nI said \\\"Hello!\\\" to him.\\nHe said \\\"What's there?\\\"\\nNewline charater is \\\\n,Tab character is \\\\t.\\nWorking directory is C:\\workspace\\mywork.\"\"\")"
   ]
  },
  {
   "cell_type": "markdown",
   "id": "6b64332d",
   "metadata": {},
   "source": [
    "## 심화문제 풀이\n",
    "## 3.1"
   ]
  },
  {
   "cell_type": "code",
   "execution_count": 36,
   "id": "05735ca8",
   "metadata": {},
   "outputs": [
    {
     "name": "stdout",
     "output_type": "stream",
     "text": [
      "2\t2\t4\n",
      "3\t2\t9\n",
      "4\t2\t16\n",
      "5\t2\t25\n",
      "6\t2\t36\n"
     ]
    }
   ],
   "source": [
    "!python square_table.py"
   ]
  },
  {
   "cell_type": "markdown",
   "id": "435c3d86",
   "metadata": {},
   "source": [
    "## 3.2"
   ]
  },
  {
   "cell_type": "code",
   "execution_count": 38,
   "id": "dbe7c12f",
   "metadata": {},
   "outputs": [
    {
     "name": "stdout",
     "output_type": "stream",
     "text": [
      "2 의 제곱근은 =  1.4142135623730951\n",
      "3 의 제곱근은 =  1.7320508075688772\n",
      "4 의 제곱근은 =  2.0\n",
      "5 의 제곱근은 =  2.23606797749979\n",
      "6 의 제곱근은 =  2.449489742783178\n",
      "7 의 제곱근은 =  2.6457513110645907\n",
      "8 의 제곱근은 =  2.8284271247461903\n",
      "9 의 제곱근은 =  3.0\n",
      "10 의 제곱근은 =  3.1622776601683795\n"
     ]
    }
   ],
   "source": [
    "start_a = 2\n",
    "end_a = 10\n",
    "\n",
    "n = 0.5\n",
    "\n",
    "for a in range(start_a, end_a + 1):\n",
    "    result = a ** n\n",
    "    print(a,\"의 제곱근은 = \",result)"
   ]
  },
  {
   "cell_type": "markdown",
   "id": "2213c7a0",
   "metadata": {},
   "source": [
    "## 3.3"
   ]
  },
  {
   "cell_type": "code",
   "execution_count": 41,
   "id": "1130219e",
   "metadata": {},
   "outputs": [
    {
     "name": "stdout",
     "output_type": "stream",
     "text": [
      "2 4 8 16 32 64 128 256 512 1024 "
     ]
    }
   ],
   "source": [
    "for i in range(0, 10):\n",
    "    print(2 <<i, end= ' ')"
   ]
  },
  {
   "cell_type": "markdown",
   "id": "23fb665c",
   "metadata": {},
   "source": [
    "## 3.4"
   ]
  },
  {
   "cell_type": "code",
   "execution_count": 48,
   "id": "b521ebe9",
   "metadata": {},
   "outputs": [
    {
     "name": "stdout",
     "output_type": "stream",
     "text": [
      "정수를 입력하시오 : 65\n"
     ]
    },
    {
     "data": {
      "text/plain": [
       "False"
      ]
     },
     "execution_count": 48,
     "metadata": {},
     "output_type": "execute_result"
    }
   ],
   "source": [
    "num = int(input(\"정수를 입력하시오 : \"))\n",
    "0 <= num < 100 and num % 2 == 0"
   ]
  },
  {
   "cell_type": "markdown",
   "id": "a184d560",
   "metadata": {},
   "source": [
    "## 3.5"
   ]
  },
  {
   "cell_type": "code",
   "execution_count": 46,
   "id": "a14a6a85",
   "metadata": {},
   "outputs": [
    {
     "name": "stdout",
     "output_type": "stream",
     "text": [
      "0b101\n"
     ]
    }
   ],
   "source": [
    "print(bin(5))"
   ]
  },
  {
   "cell_type": "code",
   "execution_count": 47,
   "id": "0ad38afd",
   "metadata": {},
   "outputs": [
    {
     "name": "stdout",
     "output_type": "stream",
     "text": [
      "0b110\n"
     ]
    }
   ],
   "source": [
    "print(bin(6))"
   ]
  },
  {
   "cell_type": "markdown",
   "id": "faea15f7",
   "metadata": {},
   "source": [
    "## 3.6"
   ]
  },
  {
   "cell_type": "code",
   "execution_count": 50,
   "id": "da0112e8",
   "metadata": {},
   "outputs": [
    {
     "name": "stdout",
     "output_type": "stream",
     "text": [
      "정수 a를 입력하시오 : 202\n",
      "정수 b를 입력하시오 : 50\n",
      "a / b 의 몫은 4\n",
      "a / b 의 나머지는 2\n"
     ]
    }
   ],
   "source": [
    "a = int(input(\"정수 a를 입력하시오 : \"))\n",
    "b = int(input(\"정수 b를 입력하시오 : \"))\n",
    "print(\"a / b 의 몫은\", a // b)\n",
    "print(\"a / b 의 나머지는\", a % b)"
   ]
  },
  {
   "cell_type": "markdown",
   "id": "d517523d",
   "metadata": {},
   "source": [
    "## 3.7"
   ]
  },
  {
   "cell_type": "code",
   "execution_count": 52,
   "id": "7fa49b06",
   "metadata": {},
   "outputs": [
    {
     "name": "stdout",
     "output_type": "stream",
     "text": [
      "세 자리 정수 입력 : 347\n",
      "백의 자리 : 3\n",
      "십의 자리 : 4\n",
      "일의 자리 : 7\n"
     ]
    }
   ],
   "source": [
    "n = int(input(\"세 자리 정수 입력 : \"))\n",
    "hundreds_place = n // 100\n",
    "tens_place = (n // 10) % 10\n",
    "ones_place = n % 10\n",
    "num = \"백의 자리 : {}\\n십의 자리 : {}\\n일의 자리 : {}\".format(hundreds_place, tens_place, ones_place)\n",
    "print(num)"
   ]
  },
  {
   "cell_type": "markdown",
   "id": "051956bd",
   "metadata": {},
   "source": [
    "## 3.8"
   ]
  },
  {
   "cell_type": "code",
   "execution_count": 56,
   "id": "b00fcba3",
   "metadata": {},
   "outputs": [
    {
     "name": "stdout",
     "output_type": "stream",
     "text": [
      "세 자리 정수 입력 : 349\n",
      "943\n"
     ]
    }
   ],
   "source": [
    "n = int(input(\"세 자리 정수 입력 : \"))\n",
    "ones_place = n % 10\n",
    "tens_place = (n // 10) % 10\n",
    "hundreds_place = n // 100\n",
    "print(f\"{ones_place}{tens_place}{hundreds_place}\")"
   ]
  },
  {
   "cell_type": "code",
   "execution_count": 63,
   "id": "2557eeb3",
   "metadata": {},
   "outputs": [
    {
     "data": {
      "text/plain": [
       "564"
      ]
     },
     "execution_count": 63,
     "metadata": {},
     "output_type": "execute_result"
    }
   ],
   "source": [
    "num = 465\n",
    "int(str(num)[::-1])"
   ]
  },
  {
   "cell_type": "markdown",
   "id": "59d6c3b4",
   "metadata": {},
   "source": [
    "## 3.9"
   ]
  },
  {
   "cell_type": "code",
   "execution_count": 65,
   "id": "161a5371",
   "metadata": {},
   "outputs": [
    {
     "name": "stdout",
     "output_type": "stream",
     "text": [
      "평균 시속을 입력하시오 : 46.5\n",
      "이동 시간을 입력하시오 : 12.342\n",
      "평균 시속 : 46.5km/h\n",
      "이동 시간 : 12시간 20분 31초\n",
      "이동 거리 : 573.903 km\n"
     ]
    }
   ],
   "source": [
    "avarage_speed = float(input(\"평균 시속을 입력하시오 : \"))\n",
    "moving_time = float(input(\"이동 시간을 입력하시오 : \"))\n",
    "distance = avarage_speed * moving_time\n",
    "moving_time_seconds = moving_time * 3600\n",
    "hours = int(moving_time_seconds // 3600)\n",
    "minutes = int((moving_time_seconds % 3600) // 60)\n",
    "seconds = int(moving_time_seconds % 60)\n",
    "print(f\"평균 시속 : {avarage_speed}km/h\")\n",
    "print(f\"이동 시간 : {hours}시간 {minutes}분 {seconds}초\")\n",
    "print(f\"이동 거리 : {distance} km\")"
   ]
  },
  {
   "cell_type": "markdown",
   "id": "e8c7f05e",
   "metadata": {},
   "source": [
    "## 3.10"
   ]
  },
  {
   "cell_type": "code",
   "execution_count": 67,
   "id": "852c42bf",
   "metadata": {},
   "outputs": [
    {
     "name": "stdout",
     "output_type": "stream",
     "text": [
      "x1 좌표를 입력하시오0\n",
      "y1 좌표를 입력하시오0\n",
      "x2 좌표를 입력하시오3\n",
      "y2 좌표를 입력하시오4\n",
      "두 점의 거리 : 5.0\n"
     ]
    }
   ],
   "source": [
    "import math\n",
    "\n",
    "x1 = float(input((\"x1 좌표를 입력하시오\")))\n",
    "y1 = float(input((\"y1 좌표를 입력하시오\")))\n",
    "x2 = float(input((\"x2 좌표를 입력하시오\")))\n",
    "y2 = float(input((\"y2 좌표를 입력하시오\")))\n",
    "\n",
    "distance = math.sqrt((x2 - x1)**2 + (y2 - y1)**2)\n",
    "print(f\"두 점의 거리 : {distance}\")"
   ]
  },
  {
   "cell_type": "code",
   "execution_count": 69,
   "id": "b9d60668",
   "metadata": {},
   "outputs": [
    {
     "name": "stdout",
     "output_type": "stream",
     "text": [
      "x1 좌표를 입력하시오0\n",
      "y1 좌표를 입력하시오0\n",
      "x2 좌표를 입력하시오3\n",
      "y2 좌표를 입력하시오4\n",
      "직각 삼각형의 면적 6.0\n"
     ]
    }
   ],
   "source": [
    "x1 = float(input((\"x1 좌표를 입력하시오\")))\n",
    "y1 = float(input((\"y1 좌표를 입력하시오\")))\n",
    "x2 = float(input((\"x2 좌표를 입력하시오\")))\n",
    "y2 = float(input((\"y2 좌표를 입력하시오\")))\n",
    "\n",
    "height = y2 - y1\n",
    "lower_base = x2 - x1\n",
    "area = (height * lower_base) / 2\n",
    "print(\"직각 삼각형의 면적\",area)"
   ]
  },
  {
   "cell_type": "markdown",
   "id": "6d5f65fb",
   "metadata": {},
   "source": [
    "|입체도형|입체도형의 부피|입력 값|\n",
    "|:---|---:|:---:|\n",
    "|정육면체|가로) × (세로) × (높이)|모서리의 길이|\n",
    "|직육면체|가로) × (세로) × (높이)|w :가로, h : 세로, l : 높이|\n",
    "|원뿔|1/3πr2h|r : 원뿔의 반지름, h : 원뿔의 높이|\n",
    "|구|(4/3) × π × 반지름(r)^3| r : 구의 반지름|\n",
    "|원기둥|(밑넓이) × (높이)|r : 원기둥의 반지름, h : 원기둥의 높이|"
   ]
  },
  {
   "cell_type": "code",
   "execution_count": 76,
   "id": "8c0f44ce",
   "metadata": {},
   "outputs": [
    {
     "name": "stdout",
     "output_type": "stream",
     "text": [
      "2197\n",
      "10648\n",
      "6800\n",
      "1569.9999999999998\n",
      "65416.666666666664\n",
      "4710.0\n"
     ]
    }
   ],
   "source": [
    "def cube_volume(x):\n",
    "    return x * x * x\n",
    "\n",
    "print(cube_volume(13))\n",
    "\n",
    "def cube_volume(x):\n",
    "    return x * x * x\n",
    "\n",
    "print(cube_volume(22))\n",
    "\n",
    "def cuboid_volume(l, w, h):\n",
    "    return (l * w) * h\n",
    "\n",
    "print(cuboid_volume(17, 25, 16))\n",
    "\n",
    "def cone_volume(radius, height):\n",
    "    return (1/3) * 3.14 * radius**2 * height\n",
    "\n",
    "print(cone_volume(10, 15))\n",
    "\n",
    "def sphere_volume(radius):\n",
    "    return 4/3 * 3.14 * radius ** 3\n",
    "\n",
    "print(sphere_volume(25))\n",
    "\n",
    "def cylinder_volume(radius, height):\n",
    "    return 3.14 * radius ** 2 * height\n",
    "\n",
    "print(cylinder_volume(10,15))"
   ]
  },
  {
   "cell_type": "code",
   "execution_count": 77,
   "id": "5649b32f",
   "metadata": {},
   "outputs": [
    {
     "name": "stdout",
     "output_type": "stream",
     "text": [
      "1570.7963267948965\n",
      "65449.84694978735\n",
      "4712.38898038469\n"
     ]
    }
   ],
   "source": [
    "import math\n",
    "\n",
    "def cone_volume(radius, height):\n",
    "    return (1/3) * math.pi * radius**2 * height\n",
    "\n",
    "print(cone_volume(10, 15))\n",
    "\n",
    "def sphere_volume(radius):\n",
    "    return 4/3 * math.pi * radius ** 3\n",
    "\n",
    "print(sphere_volume(25))\n",
    "\n",
    "def cylinder_volume(radius, height):\n",
    "    return math.pi * radius ** 2 * height\n",
    "\n",
    "print(cylinder_volume(10,15))"
   ]
  },
  {
   "cell_type": "code",
   "execution_count": null,
   "id": "93f95bcd",
   "metadata": {},
   "outputs": [],
   "source": []
  }
 ],
 "metadata": {
  "kernelspec": {
   "display_name": "Python 3 (ipykernel)",
   "language": "python",
   "name": "python3"
  },
  "language_info": {
   "codemirror_mode": {
    "name": "ipython",
    "version": 3
   },
   "file_extension": ".py",
   "mimetype": "text/x-python",
   "name": "python",
   "nbconvert_exporter": "python",
   "pygments_lexer": "ipython3",
   "version": "3.9.7"
  }
 },
 "nbformat": 4,
 "nbformat_minor": 5
}
