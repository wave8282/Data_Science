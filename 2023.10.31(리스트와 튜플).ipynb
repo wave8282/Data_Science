{
 "cells": [
  {
   "cell_type": "markdown",
   "id": "9bc1e703",
   "metadata": {},
   "source": [
    "## 7장 리스트와 튜플"
   ]
  },
  {
   "cell_type": "markdown",
   "id": "44c0a321",
   "metadata": {},
   "source": [
    "* 여러 개의 데이터를 하나로 묶어서 처리하는 리스트와 튜플\n",
    "* 리스트나 튜플의 항목들을 인덱스를 이용하여 접근\n",
    "* 리스트는 가변속성을 갖고 튜플은 불변속성\n",
    "* 리스트나 튜플같이 데이터가 연속해서 나타나는 것을 시퀀스라 한다\n",
    "* 시퀀스의 일부를 잘라내는 슬라이싱 익히기\n",
    "* 슬라이싱을 이용하여 효율저긍로 데이터를 다루기\n",
    "* 복잡한 기능의 자료형을 설계하고 만드는 객체지향 개념"
   ]
  },
  {
   "cell_type": "markdown",
   "id": "550cc1be",
   "metadata": {},
   "source": [
    "### 리스트는 무엇이고 왜 필요한가?\n",
    "* 여러 가지 종류의 데이터를 메모이 안의 변수로 저장할 수 있다.\n",
    "* 여러 개의 데이터를 하나로 묶어서 저장하는 것이 필요\n",
    "* 리스트와 딕셔너리를 이용하여 여러 개의 데이터 한꺼번에 저장하고 처리\n",
    "* 리스트는 대괄호를 이용해서 만들수 있다.\n",
    "* 리스트 안에 저장된 각각의 데이터를 항목 또는 요소라고 한다.\n",
    "* 긱 항목은 순서대로 나열되고, 항목마다 몇 번째인지 번호로 관리할 수 있다.\n",
    "* 내부의 항목을 분리하기 위하여 (,)쉼표를 사용한다."
   ]
  },
  {
   "cell_type": "code",
   "execution_count": 1,
   "id": "3ef31f9a",
   "metadata": {},
   "outputs": [
    {
     "data": {
      "text/plain": [
       "[187.3, 176.3, 192.1, 165.2]"
      ]
     },
     "execution_count": 1,
     "metadata": {},
     "output_type": "execute_result"
    }
   ],
   "source": [
    "heights = [187.3, 176.3, 192.1, 165.2]\n",
    "heights"
   ]
  },
  {
   "cell_type": "code",
   "execution_count": 2,
   "id": "0821f5c9",
   "metadata": {},
   "outputs": [
    {
     "data": {
      "text/plain": [
       "176.3"
      ]
     },
     "execution_count": 2,
     "metadata": {},
     "output_type": "execute_result"
    }
   ],
   "source": [
    "heights[1]"
   ]
  },
  {
   "cell_type": "code",
   "execution_count": 5,
   "id": "521efaeb",
   "metadata": {},
   "outputs": [
    {
     "data": {
      "text/plain": [
       "187.3"
      ]
     },
     "execution_count": 5,
     "metadata": {},
     "output_type": "execute_result"
    }
   ],
   "source": [
    "heights[0]"
   ]
  },
  {
   "cell_type": "markdown",
   "id": "3bbbc3b0",
   "metadata": {},
   "source": [
    "### 여러 개의 항목이 들어가는 리스트를 만들자\n",
    "* 리스트는 다른 변수처럼 생성 가능\n",
    "* 빈 리스트도 만들 수 있다.\n",
    "* 리스트에 항목을 추가하려면 리스트가 먼저 생성 되어 잇어야 한다.\n",
    "* 리스트의 요소를 추가하는 매우 간단한 방법은 + 연산자를 이용하는것\n",
    "* 연속된 정수 리스트는 range()함수를 사용하여 쉽게 생성 가능\n",
    "* range()는 (시작값, 종료값, 스탭값)을 인자로 가질 수 있으면 시작값과 스텝값 생략 가능\n",
    "* 리스트에 항목을 새롭게 추가 append(항목) 메소드 사용\n",
    "* 리스트에 대해서도 다양한 연산이 가능 \n",
    "* 문자열 뿐만 아니라 정수리스트를 서로 더해도 리스트는 합쳐진다.\n",
    "* 리스트에 어떤 값이 포함되는 지를 알려면 in 연산자를 사용한다."
   ]
  },
  {
   "cell_type": "code",
   "execution_count": 29,
   "id": "dccea44e",
   "metadata": {},
   "outputs": [],
   "source": [
    "your_friends = []\n",
    "friends"
   ]
  },
  {
   "cell_type": "code",
   "execution_count": 33,
   "id": "4d29ba95",
   "metadata": {},
   "outputs": [
    {
     "data": {
      "text/plain": [
       "['park', 'kim', 'choi']"
      ]
     },
     "execution_count": 33,
     "metadata": {},
     "output_type": "execute_result"
    }
   ],
   "source": [
    "friend"
   ]
  },
  {
   "cell_type": "code",
   "execution_count": 34,
   "id": "893bdb0a",
   "metadata": {},
   "outputs": [],
   "source": [
    "friends"
   ]
  },
  {
   "cell_type": "code",
   "execution_count": 35,
   "id": "5b053292",
   "metadata": {},
   "outputs": [
    {
     "data": {
      "text/plain": [
       "[0, 1, 2, 3, 4]"
      ]
     },
     "execution_count": 35,
     "metadata": {},
     "output_type": "execute_result"
    }
   ],
   "source": [
    "list(range(5))"
   ]
  },
  {
   "cell_type": "code",
   "execution_count": 36,
   "id": "e5520ab1",
   "metadata": {},
   "outputs": [
    {
     "data": {
      "text/plain": [
       "[1, 3, 5, 7, 9]"
      ]
     },
     "execution_count": 36,
     "metadata": {},
     "output_type": "execute_result"
    }
   ],
   "source": [
    "list(range(1, 10, 2))"
   ]
  },
  {
   "cell_type": "code",
   "execution_count": 40,
   "id": "aea5ab5b",
   "metadata": {},
   "outputs": [
    {
     "data": {
      "text/plain": [
       "['park', 'kim', 'choi']"
      ]
     },
     "execution_count": 40,
     "metadata": {},
     "output_type": "execute_result"
    }
   ],
   "source": [
    "friend"
   ]
  },
  {
   "cell_type": "code",
   "execution_count": 41,
   "id": "f7ec239b",
   "metadata": {},
   "outputs": [
    {
     "data": {
      "text/plain": [
       "[0, 1, 2, 3, 4]"
      ]
     },
     "execution_count": 41,
     "metadata": {},
     "output_type": "execute_result"
    }
   ],
   "source": [
    "list(range(0, 5))"
   ]
  },
  {
   "cell_type": "code",
   "execution_count": 42,
   "id": "92dd56e0",
   "metadata": {},
   "outputs": [
    {
     "data": {
      "text/plain": [
       "[3, 4, 5]"
      ]
     },
     "execution_count": 42,
     "metadata": {},
     "output_type": "execute_result"
    }
   ],
   "source": [
    "list(range(3, 6))"
   ]
  },
  {
   "cell_type": "code",
   "execution_count": 43,
   "id": "d82429fc",
   "metadata": {},
   "outputs": [
    {
     "data": {
      "text/plain": [
       "range(0, 5)"
      ]
     },
     "execution_count": 43,
     "metadata": {},
     "output_type": "execute_result"
    }
   ],
   "source": [
    "range(0, 5)"
   ]
  },
  {
   "cell_type": "code",
   "execution_count": 44,
   "id": "87d3cd5b",
   "metadata": {},
   "outputs": [
    {
     "data": {
      "text/plain": [
       "['park', 'kim', 'choi']"
      ]
     },
     "execution_count": 44,
     "metadata": {},
     "output_type": "execute_result"
    }
   ],
   "source": [
    "friend"
   ]
  },
  {
   "cell_type": "code",
   "execution_count": 47,
   "id": "61db2599",
   "metadata": {},
   "outputs": [
    {
     "data": {
      "text/plain": [
       "['park', 'kim', 'choi', 'park', 'kim', 'choi']"
      ]
     },
     "execution_count": 47,
     "metadata": {},
     "output_type": "execute_result"
    }
   ],
   "source": [
    "friend + friend"
   ]
  },
  {
   "cell_type": "code",
   "execution_count": 48,
   "id": "81e70b3d",
   "metadata": {},
   "outputs": [
    {
     "data": {
      "text/plain": [
       "['park', 'kim', 'choi', 'park', 'kim', 'choi', 'park', 'kim', 'choi']"
      ]
     },
     "execution_count": 48,
     "metadata": {},
     "output_type": "execute_result"
    }
   ],
   "source": [
    "friend * 3"
   ]
  },
  {
   "cell_type": "code",
   "execution_count": 50,
   "id": "5a79ff8a",
   "metadata": {},
   "outputs": [
    {
     "data": {
      "text/plain": [
       "[10, 20, 30, 40, 50, 60]"
      ]
     },
     "execution_count": 50,
     "metadata": {},
     "output_type": "execute_result"
    }
   ],
   "source": [
    "numbers = [10, 20, 30] + [40, 50, 60]\n",
    "numbers"
   ]
  },
  {
   "cell_type": "code",
   "execution_count": 51,
   "id": "4670c0e4",
   "metadata": {},
   "outputs": [
    {
     "data": {
      "text/plain": [
       "[1, 2, 3, 1, 2, 3, 1, 2, 3]"
      ]
     },
     "execution_count": 51,
     "metadata": {},
     "output_type": "execute_result"
    }
   ],
   "source": [
    "[1, 2, 3] * 3"
   ]
  },
  {
   "cell_type": "code",
   "execution_count": 52,
   "id": "8f14c45d",
   "metadata": {},
   "outputs": [
    {
     "data": {
      "text/plain": [
       "True"
      ]
     },
     "execution_count": 52,
     "metadata": {},
     "output_type": "execute_result"
    }
   ],
   "source": [
    "'park' in friend"
   ]
  },
  {
   "cell_type": "code",
   "execution_count": 53,
   "id": "ed3007e8",
   "metadata": {},
   "outputs": [
    {
     "data": {
      "text/plain": [
       "False"
      ]
     },
     "execution_count": 53,
     "metadata": {},
     "output_type": "execute_result"
    }
   ],
   "source": [
    "'jo' in friend"
   ]
  },
  {
   "cell_type": "code",
   "execution_count": 57,
   "id": "b3972c8c",
   "metadata": {},
   "outputs": [
    {
     "data": {
      "text/plain": [
       "['jisoo', 'jennie', 'rose', 'lisa']"
      ]
     },
     "execution_count": 57,
     "metadata": {},
     "output_type": "execute_result"
    }
   ],
   "source": [
    "black_pink = [\"jisoo\", 'jennie', 'rose', 'lisa']\n",
    "black_pink"
   ]
  },
  {
   "cell_type": "code",
   "execution_count": 55,
   "id": "a44b9de1",
   "metadata": {},
   "outputs": [
    {
     "data": {
      "text/plain": [
       "True"
      ]
     },
     "execution_count": 55,
     "metadata": {},
     "output_type": "execute_result"
    }
   ],
   "source": [
    "\"jisoo\" in black_pink"
   ]
  },
  {
   "cell_type": "code",
   "execution_count": 60,
   "id": "fffc5470",
   "metadata": {},
   "outputs": [
    {
     "data": {
      "text/plain": [
       "False"
      ]
     },
     "execution_count": 60,
     "metadata": {},
     "output_type": "execute_result"
    }
   ],
   "source": [
    "'psy' in black_pink"
   ]
  },
  {
   "cell_type": "code",
   "execution_count": 63,
   "id": "29a26612",
   "metadata": {},
   "outputs": [
    {
     "name": "stdout",
     "output_type": "stream",
     "text": [
      "jisoo jennie rose lisa "
     ]
    }
   ],
   "source": [
    "for name in black_pink:\n",
    "    print(name, end=' ')"
   ]
  },
  {
   "cell_type": "code",
   "execution_count": 64,
   "id": "81e1970a",
   "metadata": {},
   "outputs": [
    {
     "name": "stdout",
     "output_type": "stream",
     "text": [
      "좋아하는 과일 입력하시오 : (끝내려면 99 입력)바나나\n",
      "좋아하는 과일 입력하시오 : (끝내려면 99 입력)사과\n",
      "좋아하는 과일 입력하시오 : (끝내려면 99 입력)배\n",
      "좋아하는 과일 입력하시오 : (끝내려면 99 입력)체리\n",
      "좋아하는 과일 입력하시오 : (끝내려면 99 입력)귤\n",
      "좋아하는 과일 입력하시오 : (끝내려면 99 입력)수박\n",
      "좋아하는 과일 입력하시오 : (끝내려면 99 입력)포도\n",
      "좋아하는 과일 입력하시오 : (끝내려면 99 입력)99\n"
     ]
    },
    {
     "data": {
      "text/plain": [
       "['바나나', '사과', '배', '체리', '귤', '수박', '포도']"
      ]
     },
     "execution_count": 64,
     "metadata": {},
     "output_type": "execute_result"
    }
   ],
   "source": [
    "fruits = []\n",
    "\n",
    "while True:\n",
    "    fruit = input(\"좋아하는 과일 입력하시오 : (끝내려면 99 입력)\")\n",
    "    if fruit == \"99\":break\n",
    "    fruits.append(fruit)\n",
    "    \n",
    "fruits"
   ]
  },
  {
   "cell_type": "code",
   "execution_count": 65,
   "id": "794aac85",
   "metadata": {},
   "outputs": [
    {
     "name": "stdout",
     "output_type": "stream",
     "text": [
      "좋아하는 과일 입력 : 바나나\n",
      "바나나은 좋아하는 과일입니다.\n"
     ]
    }
   ],
   "source": [
    "fav_fruits = input(\"좋아하는 과일 입력 : \")\n",
    "if fav_fruits in fruits:\n",
    "    print(f\"{fav_fruits}은 좋아하는 과일입니다.\")\n",
    "else:\n",
    "    print(f\"{fav_fruits}는 좋아하는 과일이 아닙니다\")"
   ]
  },
  {
   "cell_type": "markdown",
   "id": "9ab687f8",
   "metadata": {},
   "source": [
    "### 리스트에 사용 가능한 함수를 알아보자"
   ]
  },
  {
   "cell_type": "markdown",
   "id": "bb1aa1fa",
   "metadata": {},
   "source": [
    "* 리스트 안에는 여러 가지 타입의 데이터를 섞어서 저장하는 것도 가능\n",
    "* 지료형을 알아보려면 type()함수를 사용 \n",
    "* 자료형에 따라서 작업방식이 달라지는것 기억"
   ]
  },
  {
   "cell_type": "code",
   "execution_count": null,
   "id": "64036f2f",
   "metadata": {},
   "outputs": [],
   "source": []
  }
 ],
 "metadata": {
  "kernelspec": {
   "display_name": "Python 3 (ipykernel)",
   "language": "python",
   "name": "python3"
  },
  "language_info": {
   "codemirror_mode": {
    "name": "ipython",
    "version": 3
   },
   "file_extension": ".py",
   "mimetype": "text/x-python",
   "name": "python",
   "nbconvert_exporter": "python",
   "pygments_lexer": "ipython3",
   "version": "3.9.7"
  }
 },
 "nbformat": 4,
 "nbformat_minor": 5
}
