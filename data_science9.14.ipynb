{
 "cells": [
  {
   "cell_type": "markdown",
   "id": "9abcbff6",
   "metadata": {},
   "source": [
    "## 연산자로 계산을 해보자\n",
    "* 비교 연산자 / 논리 연산자"
   ]
  },
  {
   "cell_type": "markdown",
   "id": "502f3929",
   "metadata": {},
   "source": [
    "할당 연산자(대입 연산자) : =\n",
    "\n",
    "왼쪽에는 변수 오른쪽은 값을 표현하는 숫자나 변수 혹은 수식이 와야한다\n",
    "\n",
    "다중할당문 : 여러 개의 변수에 동일한 값을 저장하는 것\n",
    "\n",
    "동시할당문 : 여러 변수에 한꺼번에 여러 값을 할당"
   ]
  },
  {
   "cell_type": "code",
   "execution_count": 1,
   "id": "69cf6cc4",
   "metadata": {},
   "outputs": [
    {
     "data": {
      "text/plain": [
       "100"
      ]
     },
     "execution_count": 1,
     "metadata": {},
     "output_type": "execute_result"
    }
   ],
   "source": [
    "x=y=100\n",
    "x"
   ]
  },
  {
   "cell_type": "code",
   "execution_count": 2,
   "id": "5db47c53",
   "metadata": {},
   "outputs": [
    {
     "data": {
      "text/plain": [
       "100"
      ]
     },
     "execution_count": 2,
     "metadata": {},
     "output_type": "execute_result"
    }
   ],
   "source": [
    "y"
   ]
  },
  {
   "cell_type": "code",
   "execution_count": 3,
   "id": "cf92de38",
   "metadata": {},
   "outputs": [
    {
     "data": {
      "text/plain": [
       "(100, 200)"
      ]
     },
     "execution_count": 3,
     "metadata": {},
     "output_type": "execute_result"
    }
   ],
   "source": [
    "x,y =100,200\n",
    "x,y"
   ]
  },
  {
   "cell_type": "markdown",
   "id": "3292c237",
   "metadata": {},
   "source": [
    "연산자 : 연산을 나타내는 기호\n",
    "\n",
    "피연산자 : 연산의 대상이 되는 숫자나 변수\n"
   ]
  },
  {
   "cell_type": "code",
   "execution_count": 4,
   "id": "21b0f603",
   "metadata": {},
   "outputs": [
    {
     "data": {
      "text/plain": [
       "1"
      ]
     },
     "execution_count": 4,
     "metadata": {},
     "output_type": "execute_result"
    }
   ],
   "source": [
    "7 // 4"
   ]
  },
  {
   "cell_type": "code",
   "execution_count": 5,
   "id": "828b7fb4",
   "metadata": {},
   "outputs": [
    {
     "data": {
      "text/plain": [
       "2"
      ]
     },
     "execution_count": 5,
     "metadata": {},
     "output_type": "execute_result"
    }
   ],
   "source": [
    "9 // 4"
   ]
  },
  {
   "cell_type": "code",
   "execution_count": 6,
   "id": "7c69a951",
   "metadata": {},
   "outputs": [
    {
     "data": {
      "text/plain": [
       "2"
      ]
     },
     "execution_count": 6,
     "metadata": {},
     "output_type": "execute_result"
    }
   ],
   "source": [
    "11 // 4"
   ]
  },
  {
   "cell_type": "code",
   "execution_count": 7,
   "id": "54134801",
   "metadata": {},
   "outputs": [
    {
     "data": {
      "text/plain": [
       "1280000000"
      ]
     },
     "execution_count": 7,
     "metadata": {},
     "output_type": "execute_result"
    }
   ],
   "source": [
    "(10*2)**7"
   ]
  },
  {
   "cell_type": "markdown",
   "id": "fa04e53c",
   "metadata": {},
   "source": [
    "컴퓨터 과학에서 아주 주요한 나머지 연산자 : %"
   ]
  },
  {
   "cell_type": "code",
   "execution_count": 21,
   "id": "218fbd9a",
   "metadata": {},
   "outputs": [
    {
     "name": "stdout",
     "output_type": "stream",
     "text": [
      "초를 입력하시오2323423\n",
      "645 시간 23 분 43 초\n"
     ]
    }
   ],
   "source": [
    "second = int(input(\"초를 입력하시오\"))\n",
    "hour, reminder = second // 3600, second % 3600\n",
    "min, sec = reminder // 60, reminder % 60\n",
    "\n",
    "print(hour, \"시간\", min,\"분\", sec, \"초\")"
   ]
  },
  {
   "cell_type": "code",
   "execution_count": 23,
   "id": "7371ca25",
   "metadata": {},
   "outputs": [
    {
     "data": {
      "text/plain": [
       "5.0"
      ]
     },
     "execution_count": 23,
     "metadata": {},
     "output_type": "execute_result"
    }
   ],
   "source": [
    "width = 3\n",
    "height = 4\n",
    "\n",
    "(width ** 2 + height ** 2)**(1/2)"
   ]
  },
  {
   "cell_type": "code",
   "execution_count": null,
   "id": "8238f14d",
   "metadata": {},
   "outputs": [],
   "source": [
    "import turtle\n",
    "t = turtle.Turtle()\n",
    "t.shape(\"turtle\")\n",
    "n = int(input(\"몇각형을 그리시겠어요?(3-6): \"))\n",
    "\n",
    "for i in range(n):\n",
    "    t.forward(100)\n",
    "    t.left(360 // n)\n",
    "\n",
    "turtle.done()"
   ]
  },
  {
   "cell_type": "code",
   "execution_count": null,
   "id": "3e7935cf",
   "metadata": {},
   "outputs": [],
   "source": []
  }
 ],
 "metadata": {
  "kernelspec": {
   "display_name": "Python 3 (ipykernel)",
   "language": "python",
   "name": "python3"
  },
  "language_info": {
   "codemirror_mode": {
    "name": "ipython",
    "version": 3
   },
   "file_extension": ".py",
   "mimetype": "text/x-python",
   "name": "python",
   "nbconvert_exporter": "python",
   "pygments_lexer": "ipython3",
   "version": "3.9.7"
  }
 },
 "nbformat": 4,
 "nbformat_minor": 5
}
