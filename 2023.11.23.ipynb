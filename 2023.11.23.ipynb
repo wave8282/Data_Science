{
 "cells": [
  {
   "cell_type": "markdown",
   "id": "7bd73df0",
   "metadata": {},
   "source": [
    "### 넘파이(numpy)"
   ]
  },
  {
   "cell_type": "code",
   "execution_count": null,
   "id": "3bc005d5",
   "metadata": {},
   "outputs": [],
   "source": [
    "!pip install numpy"
   ]
  },
  {
   "cell_type": "code",
   "execution_count": 1,
   "id": "fd5edc76",
   "metadata": {},
   "outputs": [],
   "source": [
    "import numpy as np"
   ]
  },
  {
   "cell_type": "code",
   "execution_count": 15,
   "id": "b2e6116c",
   "metadata": {},
   "outputs": [],
   "source": [
    "num_arr = np.arange(1,21)"
   ]
  },
  {
   "cell_type": "code",
   "execution_count": 16,
   "id": "c1933b3e",
   "metadata": {},
   "outputs": [
    {
     "data": {
      "text/plain": [
       "array([ 1,  2,  3,  4,  5,  6,  7,  8,  9, 10, 11, 12, 13, 14, 15, 16, 17,\n",
       "       18, 19, 20])"
      ]
     },
     "execution_count": 16,
     "metadata": {},
     "output_type": "execute_result"
    }
   ],
   "source": [
    "num_arr"
   ]
  },
  {
   "cell_type": "code",
   "execution_count": 17,
   "id": "2a4d1c34",
   "metadata": {},
   "outputs": [
    {
     "data": {
      "text/plain": [
       "array([20, 19, 18, 17, 16, 15, 14, 13, 12, 11, 10,  9,  8,  7,  6,  5,  4,\n",
       "        3,  2,  1])"
      ]
     },
     "execution_count": 17,
     "metadata": {},
     "output_type": "execute_result"
    }
   ],
   "source": [
    "num_arr[::-1]"
   ]
  },
  {
   "cell_type": "code",
   "execution_count": 25,
   "id": "6197c337",
   "metadata": {},
   "outputs": [
    {
     "data": {
      "text/plain": [
       "210"
      ]
     },
     "execution_count": 25,
     "metadata": {},
     "output_type": "execute_result"
    }
   ],
   "source": [
    "np.sum(num_arr)"
   ]
  },
  {
   "cell_type": "code",
   "execution_count": 26,
   "id": "4dca87e4",
   "metadata": {},
   "outputs": [
    {
     "data": {
      "text/plain": [
       "210"
      ]
     },
     "execution_count": 26,
     "metadata": {},
     "output_type": "execute_result"
    }
   ],
   "source": [
    "num_arr.sum()"
   ]
  },
  {
   "cell_type": "code",
   "execution_count": 70,
   "id": "f90b4868",
   "metadata": {},
   "outputs": [
    {
     "data": {
      "text/plain": [
       "array([[ 1,  2,  3,  4],\n",
       "       [ 5,  6,  7,  8],\n",
       "       [ 9, 10, 11, 12],\n",
       "       [13, 14, 15, 16],\n",
       "       [17, 18, 19, 20]])"
      ]
     },
     "execution_count": 70,
     "metadata": {},
     "output_type": "execute_result"
    }
   ],
   "source": [
    "new_arr = num_arr.reshape(5, -1)\n",
    "new_arr"
   ]
  },
  {
   "cell_type": "markdown",
   "id": "6daf3e51",
   "metadata": {},
   "source": [
    "* 2차원 배열 = matrix\n",
    "* 차원 = dimension\n",
    "* 축 = axis\n",
    "    \n",
    "        * scalar, vector, matrix, tensor => array\n",
    "             0       1       2      >=3"
   ]
  },
  {
   "cell_type": "code",
   "execution_count": 48,
   "id": "3d84d784",
   "metadata": {},
   "outputs": [],
   "source": [
    "a = np.array([1,2,3])  # 1차원 scalar"
   ]
  },
  {
   "cell_type": "code",
   "execution_count": 49,
   "id": "13baa3e2",
   "metadata": {},
   "outputs": [],
   "source": [
    "b = np.array([[1,2,3], \n",
    "          [4,5,6,]]) # 2차원 matrix"
   ]
  },
  {
   "cell_type": "code",
   "execution_count": 50,
   "id": "235ee027",
   "metadata": {},
   "outputs": [
    {
     "data": {
      "text/plain": [
       "array([[[ 1,  2,  3],\n",
       "        [ 4,  5,  6]],\n",
       "\n",
       "       [[ 7,  8,  9],\n",
       "        [10, 11, 12]]])"
      ]
     },
     "execution_count": 50,
     "metadata": {},
     "output_type": "execute_result"
    }
   ],
   "source": [
    "c = np.array([[[1,2,3,],\n",
    "            [4,5,6]],\n",
    "            \n",
    "              [[7,8,9],\n",
    "           [10,11,12]]])\n",
    "c                             # 3차원 tensor "
   ]
  },
  {
   "cell_type": "code",
   "execution_count": 46,
   "id": "03e3657b",
   "metadata": {},
   "outputs": [
    {
     "data": {
      "text/plain": [
       "3"
      ]
     },
     "execution_count": 46,
     "metadata": {},
     "output_type": "execute_result"
    }
   ],
   "source": [
    "c.ndim"
   ]
  },
  {
   "cell_type": "code",
   "execution_count": 52,
   "id": "81314ed6",
   "metadata": {},
   "outputs": [
    {
     "data": {
      "text/plain": [
       "2"
      ]
     },
     "execution_count": 52,
     "metadata": {},
     "output_type": "execute_result"
    }
   ],
   "source": [
    "b.ndim"
   ]
  },
  {
   "cell_type": "code",
   "execution_count": 88,
   "id": "69051590",
   "metadata": {},
   "outputs": [
    {
     "data": {
      "text/plain": [
       "array([[ 0,  1,  2,  3,  4],\n",
       "       [ 5,  6,  7,  8,  9],\n",
       "       [10, 11, 12, 13, 14],\n",
       "       [15, 16, 17, 18, 19],\n",
       "       [20, 21, 22, 23, 24]])"
      ]
     },
     "execution_count": 88,
     "metadata": {},
     "output_type": "execute_result"
    }
   ],
   "source": [
    "n_arr = np.arange(25).reshape(5, -1)\n",
    "n_arr"
   ]
  },
  {
   "cell_type": "code",
   "execution_count": 90,
   "id": "f6b3d35b",
   "metadata": {},
   "outputs": [
    {
     "data": {
      "text/plain": [
       "0"
      ]
     },
     "execution_count": 90,
     "metadata": {},
     "output_type": "execute_result"
    }
   ],
   "source": [
    "n_arr[0, 0]"
   ]
  },
  {
   "cell_type": "code",
   "execution_count": 91,
   "id": "0f044eac",
   "metadata": {},
   "outputs": [
    {
     "data": {
      "text/plain": [
       "24"
      ]
     },
     "execution_count": 91,
     "metadata": {},
     "output_type": "execute_result"
    }
   ],
   "source": [
    "n_arr[-1,-1]"
   ]
  },
  {
   "cell_type": "code",
   "execution_count": 93,
   "id": "f86f4c2a",
   "metadata": {},
   "outputs": [
    {
     "data": {
      "text/plain": [
       "array([[10, 11, 12, 13, 14],\n",
       "       [15, 16, 17, 18, 19],\n",
       "       [20, 21, 22, 23, 24]])"
      ]
     },
     "execution_count": 93,
     "metadata": {},
     "output_type": "execute_result"
    }
   ],
   "source": [
    "n_arr = np.arange(25).reshape(5, -1)[2:, :]\n",
    "n_arr"
   ]
  },
  {
   "cell_type": "code",
   "execution_count": 95,
   "id": "6bb07c65",
   "metadata": {},
   "outputs": [
    {
     "data": {
      "text/plain": [
       "array([[0, 1, 2, 3, 4],\n",
       "       [5, 6, 7, 8, 9]])"
      ]
     },
     "execution_count": 95,
     "metadata": {},
     "output_type": "execute_result"
    }
   ],
   "source": [
    "n_arr = np.arange(25).reshape(5, -1)[0:2, :]\n",
    "n_arr"
   ]
  },
  {
   "cell_type": "code",
   "execution_count": 99,
   "id": "e508f4ef",
   "metadata": {},
   "outputs": [
    {
     "data": {
      "text/plain": [
       "array([[ 0,  2,  4],\n",
       "       [ 5,  7,  9],\n",
       "       [10, 12, 14],\n",
       "       [15, 17, 19],\n",
       "       [20, 22, 24]])"
      ]
     },
     "execution_count": 99,
     "metadata": {},
     "output_type": "execute_result"
    }
   ],
   "source": [
    "n_arr = np.arange(25).reshape(5, -1)\n",
    "n_arr[0: , ::2]"
   ]
  },
  {
   "cell_type": "code",
   "execution_count": 101,
   "id": "80cfa44f",
   "metadata": {},
   "outputs": [
    {
     "data": {
      "text/plain": [
       "array([[ 0,  2,  4],\n",
       "       [10, 12, 14],\n",
       "       [20, 22, 24]])"
      ]
     },
     "execution_count": 101,
     "metadata": {},
     "output_type": "execute_result"
    }
   ],
   "source": [
    "n_arr[0::2, ::2]"
   ]
  },
  {
   "cell_type": "code",
   "execution_count": 112,
   "id": "6eab9234",
   "metadata": {},
   "outputs": [
    {
     "data": {
      "text/plain": [
       "array([[0, 1],\n",
       "       [2, 3],\n",
       "       [4, 5],\n",
       "       [6, 7],\n",
       "       [8, 9]])"
      ]
     },
     "execution_count": 112,
     "metadata": {},
     "output_type": "execute_result"
    }
   ],
   "source": [
    "n_arr[:2].reshape(5, -1)"
   ]
  },
  {
   "cell_type": "code",
   "execution_count": 152,
   "id": "d36343b1",
   "metadata": {},
   "outputs": [
    {
     "data": {
      "text/plain": [
       "array([[[0.37454012, 0.95071431, 0.73199394, 0.59865848, 0.15601864],\n",
       "        [0.15599452, 0.05808361, 0.86617615, 0.60111501, 0.70807258]],\n",
       "\n",
       "       [[0.02058449, 0.96990985, 0.83244264, 0.21233911, 0.18182497],\n",
       "        [0.18340451, 0.30424224, 0.52475643, 0.43194502, 0.29122914]],\n",
       "\n",
       "       [[0.61185289, 0.13949386, 0.29214465, 0.36636184, 0.45606998],\n",
       "        [0.78517596, 0.19967378, 0.51423444, 0.59241457, 0.04645041]],\n",
       "\n",
       "       [[0.60754485, 0.17052412, 0.06505159, 0.94888554, 0.96563203],\n",
       "        [0.80839735, 0.30461377, 0.09767211, 0.68423303, 0.44015249]]])"
      ]
     },
     "execution_count": 152,
     "metadata": {},
     "output_type": "execute_result"
    }
   ],
   "source": [
    "np.random.seed(42)\n",
    "random_num = np.random.rand(4, 2, 5)\n",
    "random_num"
   ]
  },
  {
   "cell_type": "code",
   "execution_count": 153,
   "id": "1bd6c28d",
   "metadata": {},
   "outputs": [
    {
     "data": {
      "text/plain": [
       "(4, 2, 5)"
      ]
     },
     "execution_count": 153,
     "metadata": {},
     "output_type": "execute_result"
    }
   ],
   "source": [
    "random_num.shape"
   ]
  },
  {
   "cell_type": "code",
   "execution_count": 154,
   "id": "2547c1a9",
   "metadata": {},
   "outputs": [
    {
     "data": {
      "text/plain": [
       "11"
      ]
     },
     "execution_count": 154,
     "metadata": {},
     "output_type": "execute_result"
    }
   ],
   "source": [
    "random_num.argmax()"
   ]
  },
  {
   "cell_type": "code",
   "execution_count": 155,
   "id": "7772b258",
   "metadata": {},
   "outputs": [
    {
     "data": {
      "text/plain": [
       "0.9699098521619943"
      ]
     },
     "execution_count": 155,
     "metadata": {},
     "output_type": "execute_result"
    }
   ],
   "source": [
    "random_num.max()"
   ]
  },
  {
   "cell_type": "code",
   "execution_count": 158,
   "id": "dddcad50",
   "metadata": {},
   "outputs": [
    {
     "data": {
      "text/plain": [
       "0.9699098521619943"
      ]
     },
     "execution_count": 158,
     "metadata": {},
     "output_type": "execute_result"
    }
   ],
   "source": [
    "random_num.flatten()[11]"
   ]
  },
  {
   "cell_type": "code",
   "execution_count": 164,
   "id": "022dacb7",
   "metadata": {},
   "outputs": [
    {
     "data": {
      "text/plain": [
       "array([[1, 0, 1, 0, 1],\n",
       "       [0, 1, 0, 1, 0],\n",
       "       [1, 0, 1, 0, 1],\n",
       "       [0, 1, 0, 1, 0],\n",
       "       [1, 0, 1, 0, 1]])"
      ]
     },
     "execution_count": 164,
     "metadata": {},
     "output_type": "execute_result"
    }
   ],
   "source": [
    "A = np.ones(25, dtype=int)\n",
    "A[1::2] = 0\n",
    "A.reshape(5, 5)"
   ]
  },
  {
   "cell_type": "code",
   "execution_count": 167,
   "id": "f945442a",
   "metadata": {},
   "outputs": [
    {
     "data": {
      "text/plain": [
       "array([[1, 0, 1, 0, 1],\n",
       "       [0, 1, 0, 1, 0],\n",
       "       [1, 0, 1, 0, 1],\n",
       "       [0, 1, 0, 1, 0],\n",
       "       [1, 0, 1, 0, 1]])"
      ]
     },
     "execution_count": 167,
     "metadata": {},
     "output_type": "execute_result"
    }
   ],
   "source": [
    "A = np.zeros(25, dtype=int)\n",
    "A[::2] = 1\n",
    "A.reshape(5, 5)"
   ]
  },
  {
   "cell_type": "code",
   "execution_count": 184,
   "id": "d0fbe1d5",
   "metadata": {},
   "outputs": [
    {
     "data": {
      "text/plain": [
       "array([[1, 0, 1, 0, 1],\n",
       "       [0, 1, 0, 1, 0],\n",
       "       [1, 0, 1, 0, 1],\n",
       "       [0, 1, 0, 1, 0],\n",
       "       [1, 0, 1, 0, 1]])"
      ]
     },
     "execution_count": 184,
     "metadata": {},
     "output_type": "execute_result"
    }
   ],
   "source": [
    "import numpy as np\n",
    "A = np.array([0]*25)\n",
    "A[::2] = 1\n",
    "A.reshape(5, 5)"
   ]
  },
  {
   "cell_type": "code",
   "execution_count": 188,
   "id": "27ec8054",
   "metadata": {},
   "outputs": [
    {
     "data": {
      "text/plain": [
       "13"
      ]
     },
     "execution_count": 188,
     "metadata": {},
     "output_type": "execute_result"
    }
   ],
   "source": [
    "A.sum(axis=0)"
   ]
  },
  {
   "cell_type": "code",
   "execution_count": 196,
   "id": "91cfa4e5",
   "metadata": {},
   "outputs": [
    {
     "data": {
      "text/plain": [
       "9"
      ]
     },
     "execution_count": 196,
     "metadata": {},
     "output_type": "execute_result"
    }
   ],
   "source": [
    "A = np.arange(32).reshape(4,4,2)\n",
    "A.flatten()[9]"
   ]
  },
  {
   "cell_type": "code",
   "execution_count": 199,
   "id": "91b2be56",
   "metadata": {},
   "outputs": [
    {
     "data": {
      "text/plain": [
       "19"
      ]
     },
     "execution_count": 199,
     "metadata": {},
     "output_type": "execute_result"
    }
   ],
   "source": [
    "A.flatten()[19]"
   ]
  },
  {
   "cell_type": "code",
   "execution_count": 202,
   "id": "740c0a39",
   "metadata": {},
   "outputs": [],
   "source": [
    "import matplotlib.pyplot as plt # 상관관계가 직선에 가까우면 1을 나타낸다."
   ]
  },
  {
   "cell_type": "code",
   "execution_count": 204,
   "id": "df346739",
   "metadata": {},
   "outputs": [],
   "source": [
    "x1 = np.arange(100)\n",
    "x2 = x1 + np.random.randint(1, 10, size=(100,))\n",
    "x3 = x1 + np.random.randint(1, 50, size=(100,))\n",
    "x4 = np.random.randint(1, 100, size=(100,))"
   ]
  },
  {
   "cell_type": "code",
   "execution_count": 214,
   "id": "a810a935",
   "metadata": {},
   "outputs": [
    {
     "data": {
      "text/plain": [
       "array([[1.        , 0.99600625, 0.89589711, 0.03388571],\n",
       "       [0.99600625, 1.        , 0.88622648, 0.02218858],\n",
       "       [0.89589711, 0.88622648, 1.        , 0.1288981 ],\n",
       "       [0.03388571, 0.02218858, 0.1288981 , 1.        ]])"
      ]
     },
     "execution_count": 214,
     "metadata": {},
     "output_type": "execute_result"
    }
   ],
   "source": [
    "np.corrcoef([x1, x2, x3, x4])"
   ]
  },
  {
   "cell_type": "code",
   "execution_count": null,
   "id": "83dc949a",
   "metadata": {},
   "outputs": [],
   "source": []
  },
  {
   "cell_type": "code",
   "execution_count": null,
   "id": "bedfb3da",
   "metadata": {},
   "outputs": [],
   "source": []
  }
 ],
 "metadata": {
  "kernelspec": {
   "display_name": "Python 3 (ipykernel)",
   "language": "python",
   "name": "python3"
  },
  "language_info": {
   "codemirror_mode": {
    "name": "ipython",
    "version": 3
   },
   "file_extension": ".py",
   "mimetype": "text/x-python",
   "name": "python",
   "nbconvert_exporter": "python",
   "pygments_lexer": "ipython3",
   "version": "3.11.5"
  }
 },
 "nbformat": 4,
 "nbformat_minor": 5
}
