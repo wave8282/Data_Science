{
 "cells": [
  {
   "cell_type": "markdown",
   "id": "9718c6e3",
   "metadata": {},
   "source": [
    "## 6장\n",
    "* 함수로 일처리를 짜임새 있게 하기"
   ]
  },
  {
   "cell_type": "markdown",
   "id": "9f73b1db",
   "metadata": {},
   "source": [
    "* 매개변수(parameters) # 함수 내부 작성시\n",
    "* 인수(arguments) # 함수 호출시"
   ]
  },
  {
   "cell_type": "markdown",
   "id": "18387750",
   "metadata": {},
   "source": [
    "* return = 함수 내부의 값을 외부에 보낼때"
   ]
  },
  {
   "cell_type": "code",
   "execution_count": 1,
   "id": "937613e7",
   "metadata": {},
   "outputs": [
    {
     "name": "stdout",
     "output_type": "stream",
     "text": [
      "50.24\n"
     ]
    }
   ],
   "source": [
    "def get_circle_area(radius):\n",
    "    area = 3.14 * radius**2\n",
    "    return area\n",
    "\n",
    "area = get_circle_area(4)\n",
    "print(area)"
   ]
  },
  {
   "cell_type": "code",
   "execution_count": 3,
   "id": "7fb29811",
   "metadata": {},
   "outputs": [
    {
     "data": {
      "text/plain": [
       "78.5"
      ]
     },
     "execution_count": 3,
     "metadata": {},
     "output_type": "execute_result"
    }
   ],
   "source": [
    "get_circle_area(5)"
   ]
  },
  {
   "cell_type": "code",
   "execution_count": 4,
   "id": "2576e27e",
   "metadata": {},
   "outputs": [
    {
     "name": "stdout",
     "output_type": "stream",
     "text": [
      "314.0\n"
     ]
    }
   ],
   "source": [
    "print(get_circle_area(5) * 4)"
   ]
  },
  {
   "cell_type": "code",
   "execution_count": 7,
   "id": "dd11b654",
   "metadata": {},
   "outputs": [
    {
     "name": "stdout",
     "output_type": "stream",
     "text": [
      "45\n"
     ]
    }
   ],
   "source": [
    "def get_sum(start, end):\n",
    "    s = 0\n",
    "    for i in range(start, end+1):\n",
    "        s += i\n",
    "    return s\n",
    "\n",
    "sum_value = get_sum(5, 10) # positional argumenes\n",
    "print(sum_value)"
   ]
  },
  {
   "cell_type": "code",
   "execution_count": 9,
   "id": "c486bc93",
   "metadata": {},
   "outputs": [
    {
     "name": "stdout",
     "output_type": "stream",
     "text": [
      "0\n"
     ]
    }
   ],
   "source": [
    "sum_value = get_sum(10, 8) # positional argumenes\n",
    "print(sum_value)"
   ]
  },
  {
   "cell_type": "markdown",
   "id": "8239d119",
   "metadata": {},
   "source": [
    "* keyword argument"
   ]
  },
  {
   "cell_type": "code",
   "execution_count": 12,
   "id": "6f49f3da",
   "metadata": {},
   "outputs": [
    {
     "data": {
      "text/plain": [
       "45"
      ]
     },
     "execution_count": 12,
     "metadata": {},
     "output_type": "execute_result"
    }
   ],
   "source": [
    "get_sum(start=5, end=10) # keyword arguments"
   ]
  },
  {
   "cell_type": "code",
   "execution_count": 13,
   "id": "79f99aac",
   "metadata": {},
   "outputs": [
    {
     "data": {
      "text/plain": [
       "45"
      ]
     },
     "execution_count": 13,
     "metadata": {},
     "output_type": "execute_result"
    }
   ],
   "source": [
    "get_sum(end=10, start=5) # keyword arguments"
   ]
  },
  {
   "cell_type": "code",
   "execution_count": 14,
   "id": "988efc15",
   "metadata": {},
   "outputs": [
    {
     "data": {
      "text/plain": [
       "45"
      ]
     },
     "execution_count": 14,
     "metadata": {},
     "output_type": "execute_result"
    }
   ],
   "source": [
    "get_sum(5, end=10)"
   ]
  },
  {
   "cell_type": "code",
   "execution_count": 15,
   "id": "b67c036f",
   "metadata": {},
   "outputs": [
    {
     "ename": "SyntaxError",
     "evalue": "positional argument follows keyword argument (Temp/ipykernel_5528/3486452503.py, line 1)",
     "output_type": "error",
     "traceback": [
      "\u001b[1;36m  File \u001b[1;32m\"C:\\Users\\User\\AppData\\Local\\Temp/ipykernel_5528/3486452503.py\"\u001b[1;36m, line \u001b[1;32m1\u001b[0m\n\u001b[1;33m    get_sum(start=5, 10)\u001b[0m\n\u001b[1;37m                       ^\u001b[0m\n\u001b[1;31mSyntaxError\u001b[0m\u001b[1;31m:\u001b[0m positional argument follows keyword argument\n"
     ]
    }
   ],
   "source": [
    "get_sum(start=5, 10)"
   ]
  },
  {
   "cell_type": "markdown",
   "id": "32d80908",
   "metadata": {},
   "source": [
    "* positinonal arguments 가 먼저 와야함"
   ]
  },
  {
   "cell_type": "markdown",
   "id": "c6dcce9c",
   "metadata": {},
   "source": [
    "* default parameter"
   ]
  },
  {
   "cell_type": "code",
   "execution_count": 16,
   "id": "7549ad99",
   "metadata": {},
   "outputs": [
    {
     "data": {
      "text/plain": [
       "45"
      ]
     },
     "execution_count": 16,
     "metadata": {},
     "output_type": "execute_result"
    }
   ],
   "source": [
    "def get_sum(start, end=10):  # default parameter\n",
    "    s = 0\n",
    "    for i in range(start, end+1):\n",
    "        s += i\n",
    "    return s\n",
    "\n",
    "get_sum(5) #positional argument"
   ]
  },
  {
   "cell_type": "code",
   "execution_count": 17,
   "id": "b82290d1",
   "metadata": {},
   "outputs": [
    {
     "data": {
      "text/plain": [
       "200"
      ]
     },
     "execution_count": 17,
     "metadata": {},
     "output_type": "execute_result"
    }
   ],
   "source": [
    "get_sum(5, 20)"
   ]
  },
  {
   "cell_type": "markdown",
   "id": "9fe0dc1a",
   "metadata": {},
   "source": [
    "### 여러 개의 값을 넘겨주고 여러 개 값 돌려받기"
   ]
  },
  {
   "cell_type": "code",
   "execution_count": 6,
   "id": "e87a9379",
   "metadata": {},
   "outputs": [],
   "source": [
    "import turtle\n",
    "\n",
    "t = turtle.Turtle()\n",
    "t.shape(\"turtle\")\n",
    "\n",
    "def draw_polygon(n, length=100):\n",
    "    t = turtle.Turtle()\n",
    "    for i in range(n):\n",
    "        t.forward(100)\n",
    "        t.left(360 / n)\n",
    "        \n",
    "for k in range(10):\n",
    "    draw_polygon(6, length=150)\n",
    "    t.left(20)\n",
    "    \n",
    "turtle.done()"
   ]
  },
  {
   "cell_type": "markdown",
   "id": "9eaeac9a",
   "metadata": {},
   "source": [
    "### 변수의 범위는 어디까지인가\n",
    "* 함수를 호출하는 순간 내부와 외부를 다 찾아보고 가져다가 씀\n",
    "* 함수 내부 = 지역변수 local variable\n",
    "* 함수 외부 = 글로벌 변수 global variable"
   ]
  },
  {
   "cell_type": "code",
   "execution_count": 2,
   "id": "b77b7a8c",
   "metadata": {},
   "outputs": [
    {
     "ename": "NameError",
     "evalue": "name 'count' is not defined",
     "output_type": "error",
     "traceback": [
      "\u001b[1;31m---------------------------------------------------------------------------\u001b[0m",
      "\u001b[1;31mNameError\u001b[0m                                 Traceback (most recent call last)",
      "\u001b[1;32m~\\AppData\\Local\\Temp/ipykernel_6440/3406982192.py\u001b[0m in \u001b[0;36m<module>\u001b[1;34m\u001b[0m\n\u001b[0;32m      2\u001b[0m     \u001b[0mprint\u001b[0m\u001b[1;33m(\u001b[0m\u001b[1;34m\"count = \"\u001b[0m\u001b[1;33m,\u001b[0m \u001b[0mcount\u001b[0m\u001b[1;33m)\u001b[0m\u001b[1;33m\u001b[0m\u001b[1;33m\u001b[0m\u001b[0m\n\u001b[0;32m      3\u001b[0m \u001b[1;33m\u001b[0m\u001b[0m\n\u001b[1;32m----> 4\u001b[1;33m \u001b[0mprint_count\u001b[0m\u001b[1;33m(\u001b[0m\u001b[1;33m)\u001b[0m\u001b[1;33m\u001b[0m\u001b[1;33m\u001b[0m\u001b[0m\n\u001b[0m",
      "\u001b[1;32m~\\AppData\\Local\\Temp/ipykernel_6440/3406982192.py\u001b[0m in \u001b[0;36mprint_count\u001b[1;34m()\u001b[0m\n\u001b[0;32m      1\u001b[0m \u001b[1;32mdef\u001b[0m \u001b[0mprint_count\u001b[0m\u001b[1;33m(\u001b[0m\u001b[1;33m)\u001b[0m\u001b[1;33m:\u001b[0m\u001b[1;33m\u001b[0m\u001b[1;33m\u001b[0m\u001b[0m\n\u001b[1;32m----> 2\u001b[1;33m     \u001b[0mprint\u001b[0m\u001b[1;33m(\u001b[0m\u001b[1;34m\"count = \"\u001b[0m\u001b[1;33m,\u001b[0m \u001b[0mcount\u001b[0m\u001b[1;33m)\u001b[0m\u001b[1;33m\u001b[0m\u001b[1;33m\u001b[0m\u001b[0m\n\u001b[0m\u001b[0;32m      3\u001b[0m \u001b[1;33m\u001b[0m\u001b[0m\n\u001b[0;32m      4\u001b[0m \u001b[0mprint_count\u001b[0m\u001b[1;33m(\u001b[0m\u001b[1;33m)\u001b[0m\u001b[1;33m\u001b[0m\u001b[1;33m\u001b[0m\u001b[0m\n",
      "\u001b[1;31mNameError\u001b[0m: name 'count' is not defined"
     ]
    }
   ],
   "source": [
    "def print_count():\n",
    "    print(\"count = \", count)\n",
    "    \n",
    "print_count()"
   ]
  },
  {
   "cell_type": "code",
   "execution_count": 4,
   "id": "722f5c7e",
   "metadata": {},
   "outputs": [
    {
     "name": "stdout",
     "output_type": "stream",
     "text": [
      "count =  100\n",
      "100\n"
     ]
    }
   ],
   "source": [
    "count = 100\n",
    "print_count()\n",
    "print(count)"
   ]
  },
  {
   "cell_type": "code",
   "execution_count": 3,
   "id": "8d5bbf44",
   "metadata": {},
   "outputs": [
    {
     "name": "stdout",
     "output_type": "stream",
     "text": [
      "count =  100\n",
      "100\n"
     ]
    }
   ],
   "source": [
    "def print_count():\n",
    "    print(\"count = \", count)\n",
    "    \n",
    "print_count()"
   ]
  },
  {
   "cell_type": "code",
   "execution_count": 8,
   "id": "37b5e7ba",
   "metadata": {},
   "outputs": [
    {
     "name": "stdout",
     "output_type": "stream",
     "text": [
      "count =  500\n",
      "500\n"
     ]
    }
   ],
   "source": [
    "def print_count():\n",
    "    global count\n",
    "    count = 500 # local variable\n",
    "    print(\"count = \", count)\n",
    "    \n",
    "count = 100 # global variable\n",
    "print_count()\n",
    "print(count)"
   ]
  },
  {
   "cell_type": "markdown",
   "id": "5fbb9437",
   "metadata": {},
   "source": [
    "### 함수에 쉽게 일을 시키는 디폴트 인자"
   ]
  },
  {
   "cell_type": "code",
   "execution_count": 9,
   "id": "9f0808d2",
   "metadata": {},
   "outputs": [
    {
     "ename": "IndentationError",
     "evalue": "unexpected indent (Temp/ipykernel_6440/3757812257.py, line 2)",
     "output_type": "error",
     "traceback": [
      "\u001b[1;36m  File \u001b[1;32m\"C:\\Users\\User\\AppData\\Local\\Temp/ipykernel_6440/3757812257.py\"\u001b[1;36m, line \u001b[1;32m2\u001b[0m\n\u001b[1;33m    salary = hours * pay_per_hour\u001b[0m\n\u001b[1;37m    ^\u001b[0m\n\u001b[1;31mIndentationError\u001b[0m\u001b[1;31m:\u001b[0m unexpected indent\n"
     ]
    }
   ],
   "source": [
    "def weekly_pay(hours, pay_per_hour = 10000) : weeklyPay\n",
    "    salary = hours * pay_per_hour\n",
    "    if hours > 30:\n",
    "        salary = 30 * pay_per_hour + 1.5*(hours - 30)*pay_per_hour\n",
    "        \n",
    "    return salary\n",
    "print(\"salary\", weekly_pay(45, pay_per_hour=11000))"
   ]
  },
  {
   "cell_type": "code",
   "execution_count": 13,
   "id": "f15feeb7",
   "metadata": {},
   "outputs": [
    {
     "data": {
      "text/plain": [
       "5"
      ]
     },
     "execution_count": 13,
     "metadata": {},
     "output_type": "execute_result"
    }
   ],
   "source": [
    "def get_min(values):\n",
    "    min_val = 999999999999999\n",
    "    for v in values:\n",
    "        if v < min_val:\n",
    "            min_val = v\n",
    "    return min_val\n",
    "\n",
    "def get_max(values):\n",
    "    max_val = -999999999999999\n",
    "    for v in values:\n",
    "        if v > max_val:\n",
    "            max_val = v\n",
    "    return max_val\n",
    "\n",
    "def get_min_max(values, method=\"max\"):\n",
    "    if method == \"max\":\n",
    "        return get_max(values)\n",
    "    elif method == \"min\":\n",
    "        return get_min(values)\n",
    "    else:\n",
    "        print(\"Illigal method\")\n",
    "    \n",
    "get_min_max(values=[1, 2, -4, 5], method='max')"
   ]
  },
  {
   "cell_type": "markdown",
   "id": "c080d82f",
   "metadata": {},
   "source": [
    "### 자신을 호출하는 재귀 함수\n",
    "    factorial...\n",
    "    1! = 1\n",
    "    2! = 2 * 1\n",
    "    3! = 3 * 2 * 1 = 3 * 2!\n",
    "\n",
    "    n! = n * (n-1)!"
   ]
  },
  {
   "cell_type": "code",
   "execution_count": 14,
   "id": "1cbecfed",
   "metadata": {},
   "outputs": [
    {
     "data": {
      "text/plain": [
       "6"
      ]
     },
     "execution_count": 14,
     "metadata": {},
     "output_type": "execute_result"
    }
   ],
   "source": [
    "def factorial(n):\n",
    "    if n <= 1:\n",
    "        return 1\n",
    "    else:\n",
    "        return n * factorial(n-1)\n",
    "\n",
    "factorial(3)"
   ]
  },
  {
   "cell_type": "code",
   "execution_count": 15,
   "id": "9fb814a4",
   "metadata": {},
   "outputs": [
    {
     "data": {
      "text/plain": [
       "21"
      ]
     },
     "execution_count": 15,
     "metadata": {},
     "output_type": "execute_result"
    }
   ],
   "source": [
    "def fibonnacci(n):\n",
    "    if n == 1:\n",
    "        return 0 \n",
    "    elif n == 2:\n",
    "        return 1\n",
    "    else:\n",
    "        return fibonnacci(n-1) + fibonnacci(n-2)\n",
    "    \n",
    "fibonnacci(9)"
   ]
  },
  {
   "cell_type": "markdown",
   "id": "95b75b7c",
   "metadata": {},
   "source": [
    "### 모듈을 이용해서 함수 사용하기\n",
    "\n",
    "* 함수들을 모아서 만들어 놓은 파일"
   ]
  },
  {
   "cell_type": "code",
   "execution_count": 16,
   "id": "c4b914c2",
   "metadata": {},
   "outputs": [
    {
     "data": {
      "text/plain": [
       "6"
      ]
     },
     "execution_count": 16,
     "metadata": {},
     "output_type": "execute_result"
    }
   ],
   "source": [
    "import random\n",
    "\n",
    "random.randint(1,9)"
   ]
  },
  {
   "cell_type": "code",
   "execution_count": 17,
   "id": "024a1919",
   "metadata": {},
   "outputs": [
    {
     "data": {
      "text/plain": [
       "8"
      ]
     },
     "execution_count": 17,
     "metadata": {},
     "output_type": "execute_result"
    }
   ],
   "source": [
    "from random import randint\n",
    "\n",
    "randint(1, 8)"
   ]
  },
  {
   "cell_type": "code",
   "execution_count": 18,
   "id": "238c8405",
   "metadata": {},
   "outputs": [
    {
     "data": {
      "text/plain": [
       "87"
      ]
     },
     "execution_count": 18,
     "metadata": {},
     "output_type": "execute_result"
    }
   ],
   "source": [
    "from random import *\n",
    "\n",
    "randrange(0, 100)"
   ]
  },
  {
   "cell_type": "code",
   "execution_count": 19,
   "id": "3657760b",
   "metadata": {},
   "outputs": [
    {
     "data": {
      "text/plain": [
       "0.7565064623145963"
      ]
     },
     "execution_count": 19,
     "metadata": {},
     "output_type": "execute_result"
    }
   ],
   "source": [
    "import random as 별명 # alias\n",
    "\n",
    "별명.random()\n"
   ]
  },
  {
   "cell_type": "code",
   "execution_count": 21,
   "id": "294762b8",
   "metadata": {},
   "outputs": [
    {
     "data": {
      "text/plain": [
       "datetime.datetime(2023, 10, 19, 10, 44, 11, 985643)"
      ]
     },
     "execution_count": 21,
     "metadata": {},
     "output_type": "execute_result"
    }
   ],
   "source": [
    "import datetime\n",
    "\n",
    "datetime.datetime.now()"
   ]
  },
  {
   "cell_type": "code",
   "execution_count": 22,
   "id": "fa20ec74",
   "metadata": {},
   "outputs": [
    {
     "data": {
      "text/plain": [
       "datetime.datetime(2023, 10, 19, 10, 45, 39, 888448)"
      ]
     },
     "execution_count": 22,
     "metadata": {},
     "output_type": "execute_result"
    }
   ],
   "source": [
    "import datetime as dt\n",
    "\n",
    "dt.datetime.now()"
   ]
  },
  {
   "cell_type": "markdown",
   "id": "0488a9d6",
   "metadata": {},
   "source": [
    "### 나만의 모듈을 만들고 불러서 사용하기"
   ]
  },
  {
   "cell_type": "code",
   "execution_count": 27,
   "id": "fa11ccdd",
   "metadata": {},
   "outputs": [
    {
     "name": "stdout",
     "output_type": "stream",
     "text": [
      "hello\n"
     ]
    }
   ],
   "source": [
    "import my_func\n",
    "\n",
    "my_func.mf_print(\"hello\")"
   ]
  },
  {
   "cell_type": "code",
   "execution_count": 28,
   "id": "197c5ca4",
   "metadata": {},
   "outputs": [
    {
     "name": "stdout",
     "output_type": "stream",
     "text": [
      "3\n"
     ]
    }
   ],
   "source": [
    "print(my_func.my_favorite_number)"
   ]
  },
  {
   "cell_type": "code",
   "execution_count": 29,
   "id": "71c6dd26",
   "metadata": {},
   "outputs": [
    {
     "name": "stdout",
     "output_type": "stream",
     "text": [
      "hello\n"
     ]
    }
   ],
   "source": [
    "from my_func import *\n",
    "\n",
    "mf_print(\"hello\")"
   ]
  },
  {
   "cell_type": "code",
   "execution_count": 30,
   "id": "db910621",
   "metadata": {},
   "outputs": [
    {
     "data": {
      "text/plain": [
       "3"
      ]
     },
     "execution_count": 30,
     "metadata": {},
     "output_type": "execute_result"
    }
   ],
   "source": [
    "my_favorite_number"
   ]
  },
  {
   "cell_type": "code",
   "execution_count": null,
   "id": "4a93486f",
   "metadata": {},
   "outputs": [],
   "source": []
  }
 ],
 "metadata": {
  "kernelspec": {
   "display_name": "Python 3 (ipykernel)",
   "language": "python",
   "name": "python3"
  },
  "language_info": {
   "codemirror_mode": {
    "name": "ipython",
    "version": 3
   },
   "file_extension": ".py",
   "mimetype": "text/x-python",
   "name": "python",
   "nbconvert_exporter": "python",
   "pygments_lexer": "ipython3",
   "version": "3.9.7"
  }
 },
 "nbformat": 4,
 "nbformat_minor": 5
}
