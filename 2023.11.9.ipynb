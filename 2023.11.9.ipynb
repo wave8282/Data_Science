{
 "cells": [
  {
   "cell_type": "code",
   "execution_count": 1,
   "id": "f71599b0",
   "metadata": {},
   "outputs": [],
   "source": [
    "num_list = [100, 200, 300, 400, 500, 600, 700, 800]\n",
    "high = 6\n",
    "low = 3"
   ]
  },
  {
   "cell_type": "code",
   "execution_count": 4,
   "id": "bf452621",
   "metadata": {},
   "outputs": [
    {
     "data": {
      "text/plain": [
       "700"
      ]
     },
     "execution_count": 4,
     "metadata": {},
     "output_type": "execute_result"
    }
   ],
   "source": [
    "num_list[high]"
   ]
  },
  {
   "cell_type": "code",
   "execution_count": 5,
   "id": "202af05b",
   "metadata": {},
   "outputs": [
    {
     "data": {
      "text/plain": [
       "500"
      ]
     },
     "execution_count": 5,
     "metadata": {},
     "output_type": "execute_result"
    }
   ],
   "source": [
    "num_list[high - 2]"
   ]
  },
  {
   "cell_type": "code",
   "execution_count": 6,
   "id": "4513cc26",
   "metadata": {},
   "outputs": [
    {
     "data": {
      "text/plain": [
       "400"
      ]
     },
     "execution_count": 6,
     "metadata": {},
     "output_type": "execute_result"
    }
   ],
   "source": [
    "num_list[high - low]"
   ]
  },
  {
   "cell_type": "code",
   "execution_count": 7,
   "id": "9ddf6f93",
   "metadata": {},
   "outputs": [
    {
     "data": {
      "text/plain": [
       "800"
      ]
     },
     "execution_count": 7,
     "metadata": {},
     "output_type": "execute_result"
    }
   ],
   "source": [
    "num_list[-1]"
   ]
  },
  {
   "cell_type": "code",
   "execution_count": 8,
   "id": "c0fb84e3",
   "metadata": {},
   "outputs": [
    {
     "data": {
      "text/plain": [
       "600"
      ]
     },
     "execution_count": 8,
     "metadata": {},
     "output_type": "execute_result"
    }
   ],
   "source": [
    "num_list[-low]"
   ]
  },
  {
   "cell_type": "code",
   "execution_count": 9,
   "id": "d4bc3f15",
   "metadata": {},
   "outputs": [
    {
     "data": {
      "text/plain": [
       "700"
      ]
     },
     "execution_count": 9,
     "metadata": {},
     "output_type": "execute_result"
    }
   ],
   "source": [
    "num_list[2 * 3]"
   ]
  },
  {
   "cell_type": "code",
   "execution_count": 15,
   "id": "10382b48",
   "metadata": {},
   "outputs": [
    {
     "data": {
      "text/plain": [
       "900"
      ]
     },
     "execution_count": 15,
     "metadata": {},
     "output_type": "execute_result"
    }
   ],
   "source": [
    "num_list[2] * 3"
   ]
  },
  {
   "cell_type": "code",
   "execution_count": 20,
   "id": "46fb637f",
   "metadata": {},
   "outputs": [
    {
     "data": {
      "text/plain": [
       "200"
      ]
     },
     "execution_count": 20,
     "metadata": {},
     "output_type": "execute_result"
    }
   ],
   "source": [
    "num_list[5 % 4]"
   ]
  },
  {
   "cell_type": "code",
   "execution_count": 21,
   "id": "c086e128",
   "metadata": {},
   "outputs": [
    {
     "data": {
      "text/plain": [
       "8"
      ]
     },
     "execution_count": 21,
     "metadata": {},
     "output_type": "execute_result"
    }
   ],
   "source": [
    "len(num_list)"
   ]
  },
  {
   "cell_type": "code",
   "execution_count": 22,
   "id": "b17231c6",
   "metadata": {},
   "outputs": [
    {
     "data": {
      "text/plain": [
       "100"
      ]
     },
     "execution_count": 22,
     "metadata": {},
     "output_type": "execute_result"
    }
   ],
   "source": [
    "min(num_list)"
   ]
  },
  {
   "cell_type": "code",
   "execution_count": 23,
   "id": "72fa31c4",
   "metadata": {},
   "outputs": [
    {
     "data": {
      "text/plain": [
       "800"
      ]
     },
     "execution_count": 23,
     "metadata": {},
     "output_type": "execute_result"
    }
   ],
   "source": [
    "max(num_list)"
   ]
  },
  {
   "cell_type": "code",
   "execution_count": 41,
   "id": "d44abe57",
   "metadata": {},
   "outputs": [
    {
     "data": {
      "text/plain": [
       "[100, 200, 300]"
      ]
     },
     "execution_count": 41,
     "metadata": {},
     "output_type": "execute_result"
    }
   ],
   "source": [
    "num_list[:3]"
   ]
  },
  {
   "cell_type": "code",
   "execution_count": 42,
   "id": "2c61bcb1",
   "metadata": {},
   "outputs": [
    {
     "data": {
      "text/plain": [
       "[200, 300, 400, 500]"
      ]
     },
     "execution_count": 42,
     "metadata": {},
     "output_type": "execute_result"
    }
   ],
   "source": [
    "num_list[1:5]"
   ]
  },
  {
   "cell_type": "code",
   "execution_count": 43,
   "id": "19b889b4",
   "metadata": {},
   "outputs": [
    {
     "data": {
      "text/plain": [
       "[800, 700]"
      ]
     },
     "execution_count": 43,
     "metadata": {},
     "output_type": "execute_result"
    }
   ],
   "source": [
    "num_list[-1:5:-1]"
   ]
  },
  {
   "cell_type": "code",
   "execution_count": 44,
   "id": "58286867",
   "metadata": {},
   "outputs": [
    {
     "data": {
      "text/plain": [
       "[400, 500, 600, 700]"
      ]
     },
     "execution_count": 44,
     "metadata": {},
     "output_type": "execute_result"
    }
   ],
   "source": [
    "num_list[-5:-1:1]"
   ]
  },
  {
   "cell_type": "code",
   "execution_count": 70,
   "id": "44681238",
   "metadata": {},
   "outputs": [
    {
     "data": {
      "text/plain": [
       "42"
      ]
     },
     "execution_count": 70,
     "metadata": {},
     "output_type": "execute_result"
    }
   ],
   "source": [
    "list1 = [3, 5, 7]\n",
    "list2 = [2, 3, 4, 5, 6]\n",
    "sum = []\n",
    "\n",
    "for i in list1:\n",
    "    for z in list2:\n",
    "        sum = i * z\n",
    "sum"
   ]
  },
  {
   "cell_type": "code",
   "execution_count": 74,
   "id": "627f38aa",
   "metadata": {},
   "outputs": [
    {
     "ename": "AttributeError",
     "evalue": "'tuple' object has no attribute 'append'",
     "output_type": "error",
     "traceback": [
      "\u001b[1;31m---------------------------------------------------------------------------\u001b[0m",
      "\u001b[1;31mAttributeError\u001b[0m                            Traceback (most recent call last)",
      "Cell \u001b[1;32mIn[74], line 2\u001b[0m\n\u001b[0;32m      1\u001b[0m t \u001b[38;5;241m=\u001b[39m (\u001b[38;5;241m10\u001b[39m, \u001b[38;5;241m20\u001b[39m, \u001b[38;5;241m30\u001b[39m, \u001b[38;5;241m40\u001b[39m)\n\u001b[1;32m----> 2\u001b[0m t\u001b[38;5;241m.\u001b[39mappend(\u001b[38;5;241m50\u001b[39m)\n",
      "\u001b[1;31mAttributeError\u001b[0m: 'tuple' object has no attribute 'append'"
     ]
    }
   ],
   "source": [
    "t = (10, 20, 30, 40)\n",
    "t.append(50)     # 튜플은 불가변성 "
   ]
  },
  {
   "cell_type": "code",
   "execution_count": 75,
   "id": "3b30ecf3",
   "metadata": {},
   "outputs": [
    {
     "ename": "AttributeError",
     "evalue": "'tuple' object has no attribute 'remove'",
     "output_type": "error",
     "traceback": [
      "\u001b[1;31m---------------------------------------------------------------------------\u001b[0m",
      "\u001b[1;31mAttributeError\u001b[0m                            Traceback (most recent call last)",
      "Cell \u001b[1;32mIn[75], line 2\u001b[0m\n\u001b[0;32m      1\u001b[0m t \u001b[38;5;241m=\u001b[39m (\u001b[38;5;241m10\u001b[39m, \u001b[38;5;241m20\u001b[39m, \u001b[38;5;241m30\u001b[39m, \u001b[38;5;241m40\u001b[39m)\n\u001b[1;32m----> 2\u001b[0m t\u001b[38;5;241m.\u001b[39mremove(\u001b[38;5;241m40\u001b[39m)\n",
      "\u001b[1;31mAttributeError\u001b[0m: 'tuple' object has no attribute 'remove'"
     ]
    }
   ],
   "source": [
    "t = (10, 20, 30, 40)\n",
    "t.remove(40)     # 튜플은 불가변성"
   ]
  },
  {
   "cell_type": "code",
   "execution_count": 77,
   "id": "f02709d5",
   "metadata": {},
   "outputs": [
    {
     "ename": "TypeError",
     "evalue": "'tuple' object does not support item assignment",
     "output_type": "error",
     "traceback": [
      "\u001b[1;31m---------------------------------------------------------------------------\u001b[0m",
      "\u001b[1;31mTypeError\u001b[0m                                 Traceback (most recent call last)",
      "Cell \u001b[1;32mIn[77], line 2\u001b[0m\n\u001b[0;32m      1\u001b[0m t \u001b[38;5;241m=\u001b[39m (\u001b[38;5;241m10\u001b[39m, \u001b[38;5;241m20\u001b[39m, \u001b[38;5;241m30\u001b[39m, \u001b[38;5;241m40\u001b[39m)\n\u001b[1;32m----> 2\u001b[0m t[\u001b[38;5;241m0\u001b[39m] \u001b[38;5;241m=\u001b[39m \u001b[38;5;241m0\u001b[39m\n",
      "\u001b[1;31mTypeError\u001b[0m: 'tuple' object does not support item assignment"
     ]
    }
   ],
   "source": [
    "t = (10, 20, 30, 40)\n",
    "t[0] = 0   # 튜플은 불가변성"
   ]
  },
  {
   "cell_type": "code",
   "execution_count": null,
   "id": "65a5747c",
   "metadata": {},
   "outputs": [],
   "source": [
    "num = input(\"문자열 입력: \")"
   ]
  },
  {
   "cell_type": "code",
   "execution_count": null,
   "id": "4c83177a",
   "metadata": {},
   "outputs": [],
   "source": [
    "fruit_list = ['banana', 'orange', 'kiwi', 'apple', 'melon']"
   ]
  },
  {
   "cell_type": "code",
   "execution_count": null,
   "id": "64a790a4",
   "metadata": {},
   "outputs": [],
   "source": []
  },
  {
   "cell_type": "code",
   "execution_count": null,
   "id": "aa4dd45c",
   "metadata": {},
   "outputs": [],
   "source": []
  },
  {
   "cell_type": "code",
   "execution_count": null,
   "id": "ed89c6e1",
   "metadata": {},
   "outputs": [],
   "source": []
  },
  {
   "cell_type": "code",
   "execution_count": null,
   "id": "5e164c5e",
   "metadata": {},
   "outputs": [],
   "source": []
  },
  {
   "cell_type": "code",
   "execution_count": 10,
   "id": "905f41f1",
   "metadata": {},
   "outputs": [
    {
     "data": {
      "text/plain": [
       "{'math': 90, 'eng': 88, 'com': 77}"
      ]
     },
     "execution_count": 10,
     "metadata": {},
     "output_type": "execute_result"
    }
   ],
   "source": [
    "scores = {\"math\": 90, \"eng\" : 88, \"com\" : 77}\n",
    "scores"
   ]
  },
  {
   "cell_type": "code",
   "execution_count": 11,
   "id": "cc2442f2",
   "metadata": {},
   "outputs": [
    {
     "data": {
      "text/plain": [
       "{'math': 90, 'eng': 88, 'com': 77, 'korean': 66}"
      ]
     },
     "execution_count": 11,
     "metadata": {},
     "output_type": "execute_result"
    }
   ],
   "source": [
    "scores[\"korean\"] = 66\n",
    "scores"
   ]
  },
  {
   "cell_type": "code",
   "execution_count": 12,
   "id": "4838521e",
   "metadata": {},
   "outputs": [
    {
     "data": {
      "text/plain": [
       "90"
      ]
     },
     "execution_count": 12,
     "metadata": {},
     "output_type": "execute_result"
    }
   ],
   "source": [
    "scores[\"math\"]"
   ]
  },
  {
   "cell_type": "code",
   "execution_count": 14,
   "id": "85a135c0",
   "metadata": {},
   "outputs": [
    {
     "ename": "TypeError",
     "evalue": "'int' object is not subscriptable",
     "output_type": "error",
     "traceback": [
      "\u001b[1;31m---------------------------------------------------------------------------\u001b[0m",
      "\u001b[1;31mTypeError\u001b[0m                                 Traceback (most recent call last)",
      "Cell \u001b[1;32mIn[14], line 1\u001b[0m\n\u001b[1;32m----> 1\u001b[0m scores[\u001b[38;5;124m\"\u001b[39m\u001b[38;5;124mmath\u001b[39m\u001b[38;5;124m\"\u001b[39m][\u001b[38;5;124m\"\u001b[39m\u001b[38;5;124meng\u001b[39m\u001b[38;5;124m\"\u001b[39m]\n",
      "\u001b[1;31mTypeError\u001b[0m: 'int' object is not subscriptable"
     ]
    }
   ],
   "source": [
    "scores[\"math\"][\"eng\"]"
   ]
  },
  {
   "cell_type": "code",
   "execution_count": 16,
   "id": "dff9befc",
   "metadata": {},
   "outputs": [
    {
     "data": {
      "text/plain": [
       "dict_keys(['math', 'eng', 'com', 'korean'])"
      ]
     },
     "execution_count": 16,
     "metadata": {},
     "output_type": "execute_result"
    }
   ],
   "source": [
    "scores.keys()"
   ]
  },
  {
   "cell_type": "code",
   "execution_count": 17,
   "id": "692e0191",
   "metadata": {},
   "outputs": [
    {
     "data": {
      "text/plain": [
       "dict_values([90, 88, 77, 66])"
      ]
     },
     "execution_count": 17,
     "metadata": {},
     "output_type": "execute_result"
    }
   ],
   "source": [
    "scores.values()"
   ]
  },
  {
   "cell_type": "code",
   "execution_count": 19,
   "id": "10634c23",
   "metadata": {},
   "outputs": [
    {
     "data": {
      "text/plain": [
       "dict_items([('math', 90), ('eng', 88), ('com', 77), ('korean', 66)])"
      ]
     },
     "execution_count": 19,
     "metadata": {},
     "output_type": "execute_result"
    }
   ],
   "source": [
    "scores.items()"
   ]
  },
  {
   "cell_type": "code",
   "execution_count": 24,
   "id": "c98ca2df",
   "metadata": {},
   "outputs": [
    {
     "data": {
      "text/plain": [
       "90"
      ]
     },
     "execution_count": 24,
     "metadata": {},
     "output_type": "execute_result"
    }
   ],
   "source": [
    "scores.get(\"math\")"
   ]
  },
  {
   "cell_type": "code",
   "execution_count": 27,
   "id": "d8002d46",
   "metadata": {},
   "outputs": [],
   "source": [
    "scores.get(\"gym\")"
   ]
  },
  {
   "cell_type": "code",
   "execution_count": 30,
   "id": "d8a6291f",
   "metadata": {},
   "outputs": [
    {
     "data": {
      "text/plain": [
       "66"
      ]
     },
     "execution_count": 30,
     "metadata": {},
     "output_type": "execute_result"
    }
   ],
   "source": [
    "scores.pop(\"korean\")"
   ]
  },
  {
   "cell_type": "code",
   "execution_count": 31,
   "id": "39ecfd94",
   "metadata": {},
   "outputs": [
    {
     "data": {
      "text/plain": [
       "{'math': 90, 'eng': 88, 'com': 77}"
      ]
     },
     "execution_count": 31,
     "metadata": {},
     "output_type": "execute_result"
    }
   ],
   "source": [
    "scores"
   ]
  },
  {
   "cell_type": "code",
   "execution_count": 32,
   "id": "147d94fe",
   "metadata": {},
   "outputs": [
    {
     "data": {
      "text/plain": [
       "{'math': 90, 'eng': 88, 'com': 77, 'korean': 66}"
      ]
     },
     "execution_count": 32,
     "metadata": {},
     "output_type": "execute_result"
    }
   ],
   "source": [
    "scores[\"korean\"] = 66\n",
    "scores"
   ]
  },
  {
   "cell_type": "code",
   "execution_count": 34,
   "id": "b4b1bfd2",
   "metadata": {},
   "outputs": [
    {
     "name": "stdout",
     "output_type": "stream",
     "text": [
      "66\n"
     ]
    }
   ],
   "source": [
    "print(scores.get(\"korean\"))"
   ]
  },
  {
   "cell_type": "code",
   "execution_count": 35,
   "id": "39bfded3",
   "metadata": {},
   "outputs": [
    {
     "name": "stdout",
     "output_type": "stream",
     "text": [
      "None\n"
     ]
    }
   ],
   "source": [
    "print(scores.get(\"gym\"))"
   ]
  },
  {
   "cell_type": "code",
   "execution_count": 37,
   "id": "0014f759",
   "metadata": {},
   "outputs": [
    {
     "data": {
      "text/plain": [
       "('korean', 66)"
      ]
     },
     "execution_count": 37,
     "metadata": {},
     "output_type": "execute_result"
    }
   ],
   "source": [
    "scores.popitem()"
   ]
  },
  {
   "cell_type": "code",
   "execution_count": 38,
   "id": "38ac2eb0",
   "metadata": {},
   "outputs": [
    {
     "data": {
      "text/plain": [
       "{'math': 90, 'eng': 88, 'com': 77}"
      ]
     },
     "execution_count": 38,
     "metadata": {},
     "output_type": "execute_result"
    }
   ],
   "source": [
    "scores"
   ]
  },
  {
   "cell_type": "code",
   "execution_count": 39,
   "id": "4f9817e5",
   "metadata": {},
   "outputs": [],
   "source": [
    "scores.clear()"
   ]
  },
  {
   "cell_type": "code",
   "execution_count": 40,
   "id": "b1950fe6",
   "metadata": {},
   "outputs": [
    {
     "data": {
      "text/plain": [
       "{}"
      ]
     },
     "execution_count": 40,
     "metadata": {},
     "output_type": "execute_result"
    }
   ],
   "source": [
    "scores"
   ]
  },
  {
   "cell_type": "code",
   "execution_count": 47,
   "id": "ccf30c20",
   "metadata": {},
   "outputs": [],
   "source": [
    "scores = {\"math\": 90, \"eng\" : 88, \"com\" : 77}"
   ]
  },
  {
   "cell_type": "code",
   "execution_count": 48,
   "id": "6b359022",
   "metadata": {},
   "outputs": [
    {
     "data": {
      "text/plain": [
       "['com', 'eng', 'math']"
      ]
     },
     "execution_count": 48,
     "metadata": {},
     "output_type": "execute_result"
    }
   ],
   "source": [
    "sorted(scores)"
   ]
  },
  {
   "cell_type": "code",
   "execution_count": 51,
   "id": "67096b91",
   "metadata": {},
   "outputs": [
    {
     "data": {
      "text/plain": [
       "{'com': 77, 'eng': 88, 'math': 90}"
      ]
     },
     "execution_count": 51,
     "metadata": {},
     "output_type": "execute_result"
    }
   ],
   "source": [
    "sorted_scores = {}\n",
    "for k in sorted(scores):\n",
    "    sorted_scores [k] = scores[k]\n",
    "    \n",
    "sorted_scores"
   ]
  },
  {
   "cell_type": "code",
   "execution_count": 53,
   "id": "08dffe9e",
   "metadata": {},
   "outputs": [
    {
     "data": {
      "text/plain": [
       "{'math': 90, 'eng': 88, 'com': 77}"
      ]
     },
     "execution_count": 53,
     "metadata": {},
     "output_type": "execute_result"
    }
   ],
   "source": [
    "{k: scores[k] for k in sorted(scores, reverse=True)}"
   ]
  },
  {
   "cell_type": "code",
   "execution_count": 54,
   "id": "e02acada",
   "metadata": {},
   "outputs": [
    {
     "data": {
      "text/plain": [
       "{'com': 77, 'eng': 88, 'math': 90}"
      ]
     },
     "execution_count": 54,
     "metadata": {},
     "output_type": "execute_result"
    }
   ],
   "source": [
    "{k: scores[k] for k in sorted(scores)}"
   ]
  },
  {
   "cell_type": "code",
   "execution_count": 58,
   "id": "5ae92060",
   "metadata": {},
   "outputs": [
    {
     "data": {
      "text/plain": [
       "[('com', 77), ('eng', 88), ('math', 90)]"
      ]
     },
     "execution_count": 58,
     "metadata": {},
     "output_type": "execute_result"
    }
   ],
   "source": [
    "def ref(x):\n",
    "    return x[1]\n",
    "\n",
    "sorted(scores.items(), key=ref) "
   ]
  },
  {
   "cell_type": "code",
   "execution_count": 55,
   "id": "158cdb00",
   "metadata": {},
   "outputs": [
    {
     "data": {
      "text/plain": [
       "dict_items([('math', 90), ('eng', 88), ('com', 77)])"
      ]
     },
     "execution_count": 55,
     "metadata": {},
     "output_type": "execute_result"
    }
   ],
   "source": [
    "scores.items()"
   ]
  },
  {
   "cell_type": "code",
   "execution_count": 60,
   "id": "dd3cf611",
   "metadata": {},
   "outputs": [
    {
     "data": {
      "text/plain": [
       "{'com': 77, 'eng': 88, 'math': 90}"
      ]
     },
     "execution_count": 60,
     "metadata": {},
     "output_type": "execute_result"
    }
   ],
   "source": [
    "{k:v for k, v in sorted(scores.items(), key=ref)} "
   ]
  },
  {
   "cell_type": "markdown",
   "id": "56580062",
   "metadata": {},
   "source": [
    "#### 람다 함수 = 이름이 없는 함수"
   ]
  },
  {
   "cell_type": "code",
   "execution_count": 61,
   "id": "70f2c762",
   "metadata": {},
   "outputs": [
    {
     "data": {
      "text/plain": [
       "2"
      ]
     },
     "execution_count": 61,
     "metadata": {},
     "output_type": "execute_result"
    }
   ],
   "source": [
    "(lambda x: x[1])([1, 2, 3])"
   ]
  },
  {
   "cell_type": "code",
   "execution_count": 62,
   "id": "a7dbd7c7",
   "metadata": {},
   "outputs": [
    {
     "data": {
      "text/plain": [
       "15"
      ]
     },
     "execution_count": 62,
     "metadata": {},
     "output_type": "execute_result"
    }
   ],
   "source": [
    "(lambda x, y: x * y)(3, 5)"
   ]
  },
  {
   "cell_type": "code",
   "execution_count": 67,
   "id": "dd73ee19",
   "metadata": {},
   "outputs": [
    {
     "data": {
      "text/plain": [
       "7"
      ]
     },
     "execution_count": 67,
     "metadata": {},
     "output_type": "execute_result"
    }
   ],
   "source": [
    "def add(x, y):\n",
    "    return x + y\n",
    "\n",
    "add(3, 4)"
   ]
  },
  {
   "cell_type": "code",
   "execution_count": 66,
   "id": "bafabb9c",
   "metadata": {},
   "outputs": [
    {
     "data": {
      "text/plain": [
       "[('com', 77), ('eng', 88), ('math', 90)]"
      ]
     },
     "execution_count": 66,
     "metadata": {},
     "output_type": "execute_result"
    }
   ],
   "source": [
    "sorted(scores.items(), key=lambda x: x[1]) # 원하는 키의 값을 가져옴"
   ]
  },
  {
   "cell_type": "code",
   "execution_count": 73,
   "id": "2a6a4b85",
   "metadata": {},
   "outputs": [
    {
     "name": "stdout",
     "output_type": "stream",
     "text": [
      "물건 이름 입력 : 책\n",
      "재고 :  5\n"
     ]
    }
   ],
   "source": [
    "items = {\"커피음료\": 7, \"펜\": 3, \"종이컵\": 2,  \"우유\": 1, \"콜라\": 4, \"책\": 5}\n",
    "\n",
    "name = input(\"물건 이름 입력 : \")\n",
    "print(\"재고 : \", items[name])"
   ]
  },
  {
   "cell_type": "code",
   "execution_count": 7,
   "id": "a8f1c88d",
   "metadata": {},
   "outputs": [],
   "source": [
    "items = {\"coffee\": 7, \"pen\": 3, \"cup\": 2,  \"milk\": 1, \"cola\": 4, \"books\": 5}"
   ]
  },
  {
   "cell_type": "code",
   "execution_count": 9,
   "id": "86e52970",
   "metadata": {},
   "outputs": [
    {
     "name": "stdout",
     "output_type": "stream",
     "text": [
      "메뉴를 선택하시오 : 1)재고조회 2)입고 3)출고 4)종료4\n"
     ]
    }
   ],
   "source": [
    "while True:\n",
    "    choice = input(\"메뉴를 선택하시오 : 1)재고조회 2)입고 3)출고 4)종료\")\n",
    "    if choice == \"1\":\n",
    "        item = input(\"[재고조회] 물건의 입력 입력하시오 : \")\n",
    "        print(f\"{item}는 {itmes[item]}개 남았습니다\")\n",
    "    if  choice == \"2\":\n",
    "        springs = input(\"[입고] 물건의 이름과 수량을 입력하시오: \")\n",
    "        item, value = springs.split()\n",
    "        itmes[item] += int(value)\n",
    "        print(f\"{item}는 {itmes[item]}개 되엇습니다.\")\n",
    "    elif choice == \"4\":\n",
    "        break"
   ]
  },
  {
   "cell_type": "code",
   "execution_count": 12,
   "id": "65f7ebd4",
   "metadata": {},
   "outputs": [
    {
     "data": {
      "text/plain": [
       "['abc ', ' def']"
      ]
     },
     "execution_count": 12,
     "metadata": {},
     "output_type": "execute_result"
    }
   ],
   "source": [
    "string = \"abc : def\"\n",
    "string.split(':')"
   ]
  },
  {
   "cell_type": "code",
   "execution_count": 14,
   "id": "6e1ce725",
   "metadata": {},
   "outputs": [
    {
     "data": {
      "text/plain": [
       "['abc', 'def']"
      ]
     },
     "execution_count": 14,
     "metadata": {},
     "output_type": "execute_result"
    }
   ],
   "source": [
    "string = \"abc def\"\n",
    "string.split()"
   ]
  },
  {
   "cell_type": "code",
   "execution_count": 16,
   "id": "e3f623d1",
   "metadata": {},
   "outputs": [
    {
     "data": {
      "text/plain": [
       "'abc'"
      ]
     },
     "execution_count": 16,
     "metadata": {},
     "output_type": "execute_result"
    }
   ],
   "source": [
    "\"abc   \".strip()"
   ]
  },
  {
   "cell_type": "markdown",
   "id": "356d6be0",
   "metadata": {},
   "source": [
    "#### 순서가 중요하지 않은 대상들이 모이면  = 집합 / set()\n",
    "* 요소가 중복되면 자동으로 중복된 요소 제거\n",
    "* 집합은 중복을 허용하지 않음\n",
    "* 집합의 항목에 접근하는 in 연산자"
   ]
  },
  {
   "cell_type": "code",
   "execution_count": 18,
   "id": "0e0fed00",
   "metadata": {},
   "outputs": [
    {
     "data": {
      "text/plain": [
       "{1, 2, 3}"
      ]
     },
     "execution_count": 18,
     "metadata": {},
     "output_type": "execute_result"
    }
   ],
   "source": [
    "a_set = {1,2,3}\n",
    "a_set"
   ]
  },
  {
   "cell_type": "code",
   "execution_count": 19,
   "id": "b30ef410",
   "metadata": {},
   "outputs": [
    {
     "data": {
      "text/plain": [
       "{1, 2, 3}"
      ]
     },
     "execution_count": 19,
     "metadata": {},
     "output_type": "execute_result"
    }
   ],
   "source": [
    "{1, 2, 3, 1, 2, 3}"
   ]
  },
  {
   "cell_type": "code",
   "execution_count": 21,
   "id": "307cdc81",
   "metadata": {},
   "outputs": [],
   "source": [
    "number = set()"
   ]
  },
  {
   "cell_type": "code",
   "execution_count": 23,
   "id": "81129aa4",
   "metadata": {},
   "outputs": [
    {
     "data": {
      "text/plain": [
       "{1, 2, 3, 5}"
      ]
     },
     "execution_count": 23,
     "metadata": {},
     "output_type": "execute_result"
    }
   ],
   "source": [
    "a_set.add(5)\n",
    "a_set"
   ]
  },
  {
   "cell_type": "code",
   "execution_count": 25,
   "id": "cbb245fa",
   "metadata": {},
   "outputs": [
    {
     "data": {
      "text/plain": [
       "{1, 2, 3, 5, 'a'}"
      ]
     },
     "execution_count": 25,
     "metadata": {},
     "output_type": "execute_result"
    }
   ],
   "source": [
    "a_set.add(\"a\")\n",
    "a_set"
   ]
  },
  {
   "cell_type": "code",
   "execution_count": 26,
   "id": "82581f10",
   "metadata": {},
   "outputs": [
    {
     "data": {
      "text/plain": [
       "True"
      ]
     },
     "execution_count": 26,
     "metadata": {},
     "output_type": "execute_result"
    }
   ],
   "source": [
    "3 in a_set"
   ]
  },
  {
   "cell_type": "code",
   "execution_count": 27,
   "id": "b2d4a929",
   "metadata": {},
   "outputs": [
    {
     "name": "stdout",
     "output_type": "stream",
     "text": [
      "1 2 3 5 a "
     ]
    }
   ],
   "source": [
    "for i in a_set:\n",
    "    print(i, end=' ')"
   ]
  },
  {
   "cell_type": "markdown",
   "id": "b4efe4b8",
   "metadata": {},
   "source": [
    "#### 집합 비교 연산 "
   ]
  },
  {
   "cell_type": "code",
   "execution_count": 32,
   "id": "8b9610d0",
   "metadata": {},
   "outputs": [
    {
     "data": {
      "text/plain": [
       "True"
      ]
     },
     "execution_count": 32,
     "metadata": {},
     "output_type": "execute_result"
    }
   ],
   "source": [
    "A = {1,2,3}\n",
    "B = {1,2,3}\n",
    "A == B"
   ]
  },
  {
   "cell_type": "code",
   "execution_count": 33,
   "id": "9297813f",
   "metadata": {},
   "outputs": [
    {
     "data": {
      "text/plain": [
       "False"
      ]
     },
     "execution_count": 33,
     "metadata": {},
     "output_type": "execute_result"
    }
   ],
   "source": [
    "A != B"
   ]
  },
  {
   "cell_type": "code",
   "execution_count": 34,
   "id": "97c09f11",
   "metadata": {},
   "outputs": [
    {
     "data": {
      "text/plain": [
       "True"
      ]
     },
     "execution_count": 34,
     "metadata": {},
     "output_type": "execute_result"
    }
   ],
   "source": [
    "A = {1,2,3,4,5}\n",
    "B = {1,2,3}\n",
    "B < A   # B가 A의 진주분 집합인가 검사"
   ]
  },
  {
   "cell_type": "code",
   "execution_count": 36,
   "id": "c026f4d4",
   "metadata": {},
   "outputs": [
    {
     "data": {
      "text/plain": [
       "False"
      ]
     },
     "execution_count": 36,
     "metadata": {},
     "output_type": "execute_result"
    }
   ],
   "source": [
    "num = {1, 23, 42, 0}\n",
    "all(num)"
   ]
  },
  {
   "cell_type": "code",
   "execution_count": 37,
   "id": "d2afcb52",
   "metadata": {},
   "outputs": [
    {
     "data": {
      "text/plain": [
       "True"
      ]
     },
     "execution_count": 37,
     "metadata": {},
     "output_type": "execute_result"
    }
   ],
   "source": [
    "any(num)"
   ]
  },
  {
   "cell_type": "code",
   "execution_count": 39,
   "id": "7a933093",
   "metadata": {},
   "outputs": [
    {
     "data": {
      "text/plain": [
       "{1, 2, 3, 4, 5}"
      ]
     },
     "execution_count": 39,
     "metadata": {},
     "output_type": "execute_result"
    }
   ],
   "source": [
    "A = {1,2,3}\n",
    "B = {3,4,5}\n",
    "A | B   # 합집합 연산"
   ]
  },
  {
   "cell_type": "code",
   "execution_count": 41,
   "id": "df6dfe5e",
   "metadata": {},
   "outputs": [
    {
     "data": {
      "text/plain": [
       "{1, 2, 3, 4, 5}"
      ]
     },
     "execution_count": 41,
     "metadata": {},
     "output_type": "execute_result"
    }
   ],
   "source": [
    "A.union(B)  #  합집합 메소드"
   ]
  },
  {
   "cell_type": "code",
   "execution_count": 42,
   "id": "9f7fc6d3",
   "metadata": {},
   "outputs": [
    {
     "data": {
      "text/plain": [
       "{3}"
      ]
     },
     "execution_count": 42,
     "metadata": {},
     "output_type": "execute_result"
    }
   ],
   "source": [
    "A & B # 교집합 연산"
   ]
  },
  {
   "cell_type": "code",
   "execution_count": 44,
   "id": "66844242",
   "metadata": {},
   "outputs": [
    {
     "data": {
      "text/plain": [
       "{3}"
      ]
     },
     "execution_count": 44,
     "metadata": {},
     "output_type": "execute_result"
    }
   ],
   "source": [
    "A.intersection(B) # 교집합 메소드"
   ]
  },
  {
   "cell_type": "code",
   "execution_count": 43,
   "id": "606ff078",
   "metadata": {},
   "outputs": [
    {
     "data": {
      "text/plain": [
       "{1, 2}"
      ]
     },
     "execution_count": 43,
     "metadata": {},
     "output_type": "execute_result"
    }
   ],
   "source": [
    "A - B  # 차집합 연산"
   ]
  },
  {
   "cell_type": "code",
   "execution_count": 46,
   "id": "c7024510",
   "metadata": {},
   "outputs": [
    {
     "data": {
      "text/plain": [
       "{1, 2}"
      ]
     },
     "execution_count": 46,
     "metadata": {},
     "output_type": "execute_result"
    }
   ],
   "source": [
    "A.difference(B) # 차집합 메소드"
   ]
  },
  {
   "cell_type": "code",
   "execution_count": 50,
   "id": "f58cff78",
   "metadata": {},
   "outputs": [
    {
     "data": {
      "text/plain": [
       "{1, 2, 4, 5}"
      ]
     },
     "execution_count": 50,
     "metadata": {},
     "output_type": "execute_result"
    }
   ],
   "source": [
    "A ^ B # 대칭 차집합 연산"
   ]
  },
  {
   "cell_type": "code",
   "execution_count": 49,
   "id": "6e242ec4",
   "metadata": {},
   "outputs": [
    {
     "data": {
      "text/plain": [
       "{1, 2, 4, 5}"
      ]
     },
     "execution_count": 49,
     "metadata": {},
     "output_type": "execute_result"
    }
   ],
   "source": [
    "A.symmetric_difference(B) # 대칭 차집합 메소드"
   ]
  },
  {
   "cell_type": "code",
   "execution_count": 52,
   "id": "70de28cb",
   "metadata": {},
   "outputs": [
    {
     "data": {
      "text/plain": [
       "{'park'}"
      ]
     },
     "execution_count": 52,
     "metadata": {},
     "output_type": "execute_result"
    }
   ],
   "source": [
    "partyA = set(['park', 'kim', 'lee'])\n",
    "partyB = set(['park', 'choi'])\n",
    "\n",
    "partyA & partyB"
   ]
  },
  {
   "cell_type": "code",
   "execution_count": 53,
   "id": "0ac4c4fd",
   "metadata": {},
   "outputs": [
    {
     "data": {
      "text/plain": [
       "{'choi', 'kim', 'lee', 'park'}"
      ]
     },
     "execution_count": 53,
     "metadata": {},
     "output_type": "execute_result"
    }
   ],
   "source": [
    "partyA | partyB"
   ]
  },
  {
   "cell_type": "code",
   "execution_count": 55,
   "id": "4e3564d9",
   "metadata": {},
   "outputs": [
    {
     "data": {
      "text/plain": [
       "{'choi', 'kim', 'lee'}"
      ]
     },
     "execution_count": 55,
     "metadata": {},
     "output_type": "execute_result"
    }
   ],
   "source": [
    "partyA ^ partyB"
   ]
  },
  {
   "cell_type": "code",
   "execution_count": 56,
   "id": "7d8a5e64",
   "metadata": {},
   "outputs": [
    {
     "data": {
      "text/plain": [
       "{'kim', 'lee'}"
      ]
     },
     "execution_count": 56,
     "metadata": {},
     "output_type": "execute_result"
    }
   ],
   "source": [
    "partyA - partyB"
   ]
  },
  {
   "cell_type": "markdown",
   "id": "a0f91a9e",
   "metadata": {},
   "source": [
    "#### 파일로부터 자료 읽고 저장하기\n",
    "* 하드디스크나 외장디스크에 저정한 후 필요할 때 불러쓰기"
   ]
  },
  {
   "cell_type": "code",
   "execution_count": 58,
   "id": "59d70687",
   "metadata": {},
   "outputs": [],
   "source": [
    "f = open(\"Hello.txt\", \"w\")\n",
    "f.write(\"hello Python\\n\")\n",
    "f.write(\"programming\")\n",
    "f.close()"
   ]
  },
  {
   "cell_type": "code",
   "execution_count": 61,
   "id": "6cca1e24",
   "metadata": {},
   "outputs": [
    {
     "data": {
      "text/plain": [
       "'hello Python\\nprogramming'"
      ]
     },
     "execution_count": 61,
     "metadata": {},
     "output_type": "execute_result"
    }
   ],
   "source": [
    "f = open(\"Hello.txt\", \"r\")\n",
    "data = f.read()\n",
    "f.close()\n",
    "\n",
    "data"
   ]
  },
  {
   "cell_type": "code",
   "execution_count": null,
   "id": "f5b31efa",
   "metadata": {},
   "outputs": [],
   "source": []
  }
 ],
 "metadata": {
  "kernelspec": {
   "display_name": "Python 3 (ipykernel)",
   "language": "python",
   "name": "python3"
  },
  "language_info": {
   "codemirror_mode": {
    "name": "ipython",
    "version": 3
   },
   "file_extension": ".py",
   "mimetype": "text/x-python",
   "name": "python",
   "nbconvert_exporter": "python",
   "pygments_lexer": "ipython3",
   "version": "3.11.5"
  }
 },
 "nbformat": 4,
 "nbformat_minor": 5
}
