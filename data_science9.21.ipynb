{
 "cells": [
  {
   "cell_type": "markdown",
   "id": "2d4b069d",
   "metadata": {},
   "source": [
    "## 제 4장 조건을 따져 실행하기"
   ]
  },
  {
   "cell_type": "markdown",
   "id": "d130e070",
   "metadata": {},
   "source": [
    "### 프로그램의 기본 제어 구조는 크게 세 가지가 있다\n",
    "* 순차구조 : 여러 명령이  순차적으로 실행되는 구조\n",
    "* 선택구조 : 여러 개 중 하나의 명령문을 선택하여 실행\n",
    "* 반복구조 : 동일한 명령이 반복되면서 실행되는 구조"
   ]
  },
  {
   "cell_type": "markdown",
   "id": "604abc31",
   "metadata": {},
   "source": [
    "### 왜 선택구조가 필요한가?\n",
    "### 조건이 맞을때만 실행되는 if문"
   ]
  },
  {
   "cell_type": "code",
   "execution_count": 1,
   "id": "47c8ef7d",
   "metadata": {},
   "outputs": [
    {
     "data": {
      "text/plain": [
       "True"
      ]
     },
     "execution_count": 1,
     "metadata": {},
     "output_type": "execute_result"
    }
   ],
   "source": [
    "100 > 1"
   ]
  },
  {
   "cell_type": "code",
   "execution_count": 2,
   "id": "c2f072b2",
   "metadata": {},
   "outputs": [
    {
     "data": {
      "text/plain": [
       "False"
      ]
     },
     "execution_count": 2,
     "metadata": {},
     "output_type": "execute_result"
    }
   ],
   "source": [
    "100 < 1"
   ]
  },
  {
   "cell_type": "code",
   "execution_count": 19,
   "id": "dd1e2721",
   "metadata": {},
   "outputs": [
    {
     "name": "stdout",
     "output_type": "stream",
     "text": [
      "정수 입력90\n",
      "축하\n",
      "합격\n",
      "장학금도 받는다\n"
     ]
    }
   ],
   "source": [
    "score = int(input(\"정수 입력\"))\n",
    "if score >= 90 :\n",
    "    print(\"축하\")\n",
    "    print(\"합격\")\n",
    "    print(\"장학금도 받는다\")"
   ]
  },
  {
   "cell_type": "markdown",
   "id": "3703b3c3",
   "metadata": {},
   "source": [
    "### 배타적 조건에 따라 실행하는 if-else 문"
   ]
  },
  {
   "cell_type": "code",
   "execution_count": 21,
   "id": "28ff1ffe",
   "metadata": {},
   "outputs": [
    {
     "name": "stdout",
     "output_type": "stream",
     "text": [
      "정수 입력55\n",
      "불합\n"
     ]
    }
   ],
   "source": [
    "score = int(input(\"정수 입력\"))\n",
    "if score >= 60 :\n",
    "    print(\"축하\")\n",
    "    print(\"합격\")\n",
    "else:\n",
    "    print(\"불합\")"
   ]
  },
  {
   "cell_type": "code",
   "execution_count": 22,
   "id": "4df5ea25",
   "metadata": {},
   "outputs": [
    {
     "name": "stdout",
     "output_type": "stream",
     "text": [
      "오전\n"
     ]
    }
   ],
   "source": [
    "hour = 10\n",
    "\n",
    "if hour < 12:\n",
    "    print(\"오전\")\n",
    "else:\n",
    "    print(\"오후\")"
   ]
  },
  {
   "cell_type": "code",
   "execution_count": 26,
   "id": "f99cbf9d",
   "metadata": {},
   "outputs": [
    {
     "name": "stdout",
     "output_type": "stream",
     "text": [
      "지금은 오전\n"
     ]
    }
   ],
   "source": [
    "import datetime\n",
    "\n",
    "now = datetime.datetime.now()\n",
    "now.hour\n",
    "\n",
    "if hour < 12:\n",
    "    print(\"지금은 오전\")\n",
    "else:\n",
    "    print(\"지금은 오후\")"
   ]
  },
  {
   "cell_type": "code",
   "execution_count": 27,
   "id": "3ce8b562",
   "metadata": {},
   "outputs": [
    {
     "name": "stdout",
     "output_type": "stream",
     "text": [
      "정수 입력:23123123\n",
      "홀수\n"
     ]
    }
   ],
   "source": [
    "num = int(input(\"정수 입력:\"))\n",
    "if num % 2 == 0:\n",
    "    print(\"짝수\")\n",
    "else:\n",
    "    print(\"홀수\")"
   ]
  },
  {
   "cell_type": "code",
   "execution_count": 32,
   "id": "8238e0b4",
   "metadata": {},
   "outputs": [
    {
     "name": "stdout",
     "output_type": "stream",
     "text": [
      "정수 입력:-23\n",
      "음수\n"
     ]
    }
   ],
   "source": [
    "num = int(input(\"정수 입력:\"))\n",
    "if num < 0:\n",
    "    print(\"음수\")\n",
    "else:\n",
    "    print(\"양수\")\n",
    "    if num % 2 == 0:\n",
    "        print(\"짝수\")\n",
    "    else:\n",
    "        print(\"홀수\")"
   ]
  },
  {
   "cell_type": "code",
   "execution_count": 3,
   "id": "7728cbd3",
   "metadata": {},
   "outputs": [],
   "source": [
    "import turtle\n",
    "t = turtle.Turtle()\n",
    "t.shape(\"turtle\")\n",
    "\n",
    "t.penup()\n",
    "t.goto(100, 100)\n",
    "t.write(\"거북이가 여기로 오면 양수\")\n",
    "t.goto(100, 0)\n",
    "t.write(\"거북이가 여기로 오면 0\")\n",
    "t.goto(100, -100)\n",
    "t.write(\"거북이가 여기로 오면 음수\")\n",
    "\n",
    "t.goto(0, 0)\n",
    "t.pendown()\n",
    "s = turtle.textinput(\"\", \"숫자를 입력하시오:\")\n",
    "n = int(s)\n",
    "\n",
    "if n > 0:\n",
    "    t.goto(100, 100)\n",
    "if n == 0:\n",
    "    t.goto(100, 0)\n",
    "if n < 0:\n",
    "    t.goto(100, -100)\n",
    "    \n",
    "turtle.done()"
   ]
  },
  {
   "cell_type": "code",
   "execution_count": 1,
   "id": "5ed28f89",
   "metadata": {},
   "outputs": [],
   "source": [
    "import turtle\n",
    "t = turtle.Turtle()\n",
    "t.shape('turtle')\n",
    "\n",
    "t.penup()\n",
    "t.goto(100, 100)\n",
    "t.write(\"여기로 오면 양수입니다\")\n",
    "\n",
    "t.penup()\n",
    "t.goto(100, 0)\n",
    "t.write(\"여기로 오면 영입니다\")\n",
    "\n",
    "t.penup()\n",
    "t.goto(100, -100)\n",
    "t.write(\"여기로 오면 음수입니다\")\n",
    "\n",
    "t.penup()\n",
    "t.goto(0, 0)\n",
    "\n",
    "while True:\n",
    "    s = turtle.textinput(\"\", \"정수 입력: \")\n",
    "    if s == \"-9999\" : break\n",
    "    n = int(s)\n",
    "\n",
    "    if n > 0:\n",
    "        t.penup()\n",
    "        t.goto(100, 100)\n",
    "    else:\n",
    "        if n == 0:\n",
    "            t.penup()\n",
    "            t.goto(100, 0)\n",
    "        else:\n",
    "            t.penup()\n",
    "            t.goto(100, -100)\n",
    "        \n",
    "turtle.done()"
   ]
  },
  {
   "cell_type": "code",
   "execution_count": 6,
   "id": "e8ac1926",
   "metadata": {},
   "outputs": [
    {
     "name": "stdout",
     "output_type": "stream",
     "text": [
      "연도 입력 : 2024\n",
      "윤년이다\n"
     ]
    }
   ],
   "source": [
    "year = int(input(\"연도 입력 : \"))\n",
    "if (year & 4 == 0 and year % 100 != 0) or year % 400 == 0:\n",
    "    print(\"윤년이다\")\n",
    "else:\n",
    "    print(\"아니다\")"
   ]
  },
  {
   "cell_type": "code",
   "execution_count": 7,
   "id": "f9842471",
   "metadata": {},
   "outputs": [
    {
     "name": "stdout",
     "output_type": "stream",
     "text": [
      "3000 는 윤년이 아니다\n"
     ]
    }
   ],
   "source": [
    "year = 3000\n",
    "condition = ((year % 4 == 0 \n",
    "              and year % 100 != 0) \n",
    "             or (year % 400 == 0))\n",
    "if condition:\n",
    "    print(year, \"는 윤년\")\n",
    "else:\n",
    "    print(year, \"는 윤년이 아니다\")"
   ]
  },
  {
   "cell_type": "code",
   "execution_count": 12,
   "id": "e9122891",
   "metadata": {},
   "outputs": [
    {
     "name": "stdout",
     "output_type": "stream",
     "text": [
      "동전 게임 시작\n",
      "앞면\n"
     ]
    }
   ],
   "source": [
    "import random\n",
    "\n",
    "print(\"동전 게임 시작\")\n",
    "coin = random.randrange(2)\n",
    "if coin == 0:\n",
    "    print(\"앞면\")\n",
    "else:\n",
    "    print(\"뒷면\")"
   ]
  },
  {
   "cell_type": "markdown",
   "id": "ee7257e5",
   "metadata": {},
   "source": [
    "### if-elif-else\n"
   ]
  },
  {
   "cell_type": "code",
   "execution_count": 21,
   "id": "b436fc1b",
   "metadata": {},
   "outputs": [
    {
     "name": "stdout",
     "output_type": "stream",
     "text": [
      "어디로 공격하겠습니까?(왼, 오, 중)왼\n",
      "공격 성공\n"
     ]
    }
   ],
   "source": [
    "import random\n",
    "\n",
    "attack = input(\"어디로 공격하겠습니까?(왼, 오, 중)\")\n",
    "if attack == \"왼\":\n",
    "    num_attack = 0\n",
    "elif attack == \"오\":\n",
    "    num_attack = 1\n",
    "else:\n",
    "    num_attack = 2\n",
    "    \n",
    "defence = random.randrange(3)\n",
    "\n",
    "if defence == num_attack:\n",
    "    print(\"공격 실패\")\n",
    "else:\n",
    "    print(\"공격 성공\")"
   ]
  },
  {
   "cell_type": "code",
   "execution_count": null,
   "id": "972f209a",
   "metadata": {},
   "outputs": [],
   "source": []
  }
 ],
 "metadata": {
  "kernelspec": {
   "display_name": "Python 3 (ipykernel)",
   "language": "python",
   "name": "python3"
  },
  "language_info": {
   "codemirror_mode": {
    "name": "ipython",
    "version": 3
   },
   "file_extension": ".py",
   "mimetype": "text/x-python",
   "name": "python",
   "nbconvert_exporter": "python",
   "pygments_lexer": "ipython3",
   "version": "3.9.7"
  }
 },
 "nbformat": 4,
 "nbformat_minor": 5
}
