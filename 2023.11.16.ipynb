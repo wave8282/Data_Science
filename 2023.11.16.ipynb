{
 "cells": [
  {
   "cell_type": "markdown",
   "id": "606833a9",
   "metadata": {},
   "source": [
    "### 7.1"
   ]
  },
  {
   "cell_type": "code",
   "execution_count": null,
   "id": "4c377411",
   "metadata": {},
   "outputs": [],
   "source": [
    "num_list = [100, 200, 300, 400, 500, 600, 700, 800]\n",
    "high = 6\n",
    "low = 3"
   ]
  },
  {
   "cell_type": "code",
   "execution_count": 2,
   "id": "10f3682e",
   "metadata": {},
   "outputs": [
    {
     "data": {
      "text/plain": [
       "700"
      ]
     },
     "execution_count": 2,
     "metadata": {},
     "output_type": "execute_result"
    }
   ],
   "source": [
    "num_list[high]"
   ]
  },
  {
   "cell_type": "code",
   "execution_count": 4,
   "id": "ea6bb9af",
   "metadata": {},
   "outputs": [
    {
     "data": {
      "text/plain": [
       "500"
      ]
     },
     "execution_count": 4,
     "metadata": {},
     "output_type": "execute_result"
    }
   ],
   "source": [
    "num_list[high-2]"
   ]
  },
  {
   "cell_type": "code",
   "execution_count": 5,
   "id": "6dbb56f6",
   "metadata": {},
   "outputs": [
    {
     "data": {
      "text/plain": [
       "400"
      ]
     },
     "execution_count": 5,
     "metadata": {},
     "output_type": "execute_result"
    }
   ],
   "source": [
    "num_list[high-low]"
   ]
  },
  {
   "cell_type": "code",
   "execution_count": 7,
   "id": "464055e5",
   "metadata": {},
   "outputs": [
    {
     "data": {
      "text/plain": [
       "600"
      ]
     },
     "execution_count": 7,
     "metadata": {},
     "output_type": "execute_result"
    }
   ],
   "source": [
    "num_list[low-high]"
   ]
  },
  {
   "cell_type": "code",
   "execution_count": 6,
   "id": "18225076",
   "metadata": {},
   "outputs": [
    {
     "data": {
      "text/plain": [
       "800"
      ]
     },
     "execution_count": 6,
     "metadata": {},
     "output_type": "execute_result"
    }
   ],
   "source": [
    "num_list[-1]"
   ]
  },
  {
   "cell_type": "code",
   "execution_count": 8,
   "id": "b622e96f",
   "metadata": {},
   "outputs": [
    {
     "data": {
      "text/plain": [
       "600"
      ]
     },
     "execution_count": 8,
     "metadata": {},
     "output_type": "execute_result"
    }
   ],
   "source": [
    "num_list[-low]"
   ]
  },
  {
   "cell_type": "code",
   "execution_count": 9,
   "id": "4bd507d5",
   "metadata": {},
   "outputs": [
    {
     "data": {
      "text/plain": [
       "700"
      ]
     },
     "execution_count": 9,
     "metadata": {},
     "output_type": "execute_result"
    }
   ],
   "source": [
    "num_list[2*3]"
   ]
  },
  {
   "cell_type": "code",
   "execution_count": 10,
   "id": "b81e6908",
   "metadata": {},
   "outputs": [
    {
     "data": {
      "text/plain": [
       "900"
      ]
     },
     "execution_count": 10,
     "metadata": {},
     "output_type": "execute_result"
    }
   ],
   "source": [
    "num_list[2]*3"
   ]
  },
  {
   "cell_type": "code",
   "execution_count": 11,
   "id": "9ba7b7c1",
   "metadata": {},
   "outputs": [
    {
     "data": {
      "text/plain": [
       "200"
      ]
     },
     "execution_count": 11,
     "metadata": {},
     "output_type": "execute_result"
    }
   ],
   "source": [
    "num_list[5%4]"
   ]
  },
  {
   "cell_type": "code",
   "execution_count": 12,
   "id": "3a344bda",
   "metadata": {},
   "outputs": [
    {
     "data": {
      "text/plain": [
       "[100, 200, 100, 200, 100, 200]"
      ]
     },
     "execution_count": 12,
     "metadata": {},
     "output_type": "execute_result"
    }
   ],
   "source": [
    "num_list[:2]*3"
   ]
  },
  {
   "cell_type": "code",
   "execution_count": 14,
   "id": "00b09514",
   "metadata": {},
   "outputs": [
    {
     "data": {
      "text/plain": [
       "8"
      ]
     },
     "execution_count": 14,
     "metadata": {},
     "output_type": "execute_result"
    }
   ],
   "source": [
    "len(num_list)"
   ]
  },
  {
   "cell_type": "code",
   "execution_count": 15,
   "id": "6cfe70d4",
   "metadata": {},
   "outputs": [
    {
     "data": {
      "text/plain": [
       "100"
      ]
     },
     "execution_count": 15,
     "metadata": {},
     "output_type": "execute_result"
    }
   ],
   "source": [
    "min(num_list)"
   ]
  },
  {
   "cell_type": "code",
   "execution_count": 16,
   "id": "d0586951",
   "metadata": {},
   "outputs": [
    {
     "data": {
      "text/plain": [
       "800"
      ]
     },
     "execution_count": 16,
     "metadata": {},
     "output_type": "execute_result"
    }
   ],
   "source": [
    "max(num_list)"
   ]
  },
  {
   "cell_type": "code",
   "execution_count": 17,
   "id": "a66587b9",
   "metadata": {},
   "outputs": [
    {
     "data": {
      "text/plain": [
       "[100, 200, 300]"
      ]
     },
     "execution_count": 17,
     "metadata": {},
     "output_type": "execute_result"
    }
   ],
   "source": [
    "num_list[:3]"
   ]
  },
  {
   "cell_type": "code",
   "execution_count": 18,
   "id": "4eb422be",
   "metadata": {},
   "outputs": [
    {
     "data": {
      "text/plain": [
       "[200, 300, 400, 500]"
      ]
     },
     "execution_count": 18,
     "metadata": {},
     "output_type": "execute_result"
    }
   ],
   "source": [
    "num_list[1:5]"
   ]
  },
  {
   "cell_type": "code",
   "execution_count": 19,
   "id": "d76a04a6",
   "metadata": {},
   "outputs": [
    {
     "data": {
      "text/plain": [
       "[800, 700, 600, 500]"
      ]
     },
     "execution_count": 19,
     "metadata": {},
     "output_type": "execute_result"
    }
   ],
   "source": [
    "num_list[-1:-5:-1]"
   ]
  },
  {
   "cell_type": "code",
   "execution_count": 20,
   "id": "6db7ca34",
   "metadata": {},
   "outputs": [
    {
     "data": {
      "text/plain": [
       "[400, 600]"
      ]
     },
     "execution_count": 20,
     "metadata": {},
     "output_type": "execute_result"
    }
   ],
   "source": [
    "num_list[-5:-1:2]"
   ]
  },
  {
   "cell_type": "markdown",
   "id": "3c709ab8",
   "metadata": {},
   "source": [
    "### 7.2"
   ]
  },
  {
   "cell_type": "code",
   "execution_count": 35,
   "id": "ba29b1f2",
   "metadata": {},
   "outputs": [
    {
     "name": "stdout",
     "output_type": "stream",
     "text": [
      "리스트 요소끼리 곱하기\n",
      " 3 * 2 =   6\n",
      " 3 * 3 =   9\n",
      " 3 * 4 =  12\n",
      " 3 * 5 =  15\n",
      " 3 * 6 =  18\n",
      " 5 * 2 =  10\n",
      " 5 * 3 =  15\n",
      " 5 * 4 =  20\n",
      " 5 * 5 =  25\n",
      " 5 * 6 =  30\n",
      " 7 * 2 =  14\n",
      " 7 * 3 =  21\n",
      " 7 * 4 =  28\n",
      " 7 * 5 =  35\n",
      " 7 * 6 =  42\n"
     ]
    }
   ],
   "source": [
    "list1 = [3, 5, 7]\n",
    "list2 = [2,3,4,5,6]\n",
    "print(\"리스트 요소끼리 곱하기\")\n",
    "for i in list1:\n",
    "    for j in list2:\n",
    "        \n",
    "        print(f\"{i:2d} * {j:d} = {i*j:3}\")"
   ]
  },
  {
   "cell_type": "markdown",
   "id": "a025a710",
   "metadata": {},
   "source": [
    "### 7.3"
   ]
  },
  {
   "cell_type": "code",
   "execution_count": 46,
   "id": "a215f0c0",
   "metadata": {},
   "outputs": [
    {
     "name": "stdout",
     "output_type": "stream",
     "text": [
      "I like pancakes\n",
      "I like kiwi juice\n",
      "I like espresso\n",
      "I love pancakes\n",
      "I love kiwi juice\n",
      "I love espresso\n"
     ]
    }
   ],
   "source": [
    "list1 = ['I like', 'I love']\n",
    "list2 = ['pancakes', 'kiwi juice', 'espresso']\n",
    "\n",
    "for i in list1:\n",
    "    for j in list2:\n",
    "        print(i , j)"
   ]
  },
  {
   "cell_type": "markdown",
   "id": "528b639c",
   "metadata": {},
   "source": [
    "### 7.4"
   ]
  },
  {
   "cell_type": "code",
   "execution_count": 47,
   "id": "6286d29c",
   "metadata": {},
   "outputs": [
    {
     "ename": "AttributeError",
     "evalue": "'tuple' object has no attribute 'append'",
     "output_type": "error",
     "traceback": [
      "\u001b[1;31m---------------------------------------------------------------------------\u001b[0m",
      "\u001b[1;31mAttributeError\u001b[0m                            Traceback (most recent call last)",
      "Cell \u001b[1;32mIn[47], line 2\u001b[0m\n\u001b[0;32m      1\u001b[0m t \u001b[38;5;241m=\u001b[39m (\u001b[38;5;241m10\u001b[39m, \u001b[38;5;241m20\u001b[39m, \u001b[38;5;241m30\u001b[39m, \u001b[38;5;241m40\u001b[39m)\n\u001b[1;32m----> 2\u001b[0m t\u001b[38;5;241m.\u001b[39mappend(\u001b[38;5;241m50\u001b[39m)\n",
      "\u001b[1;31mAttributeError\u001b[0m: 'tuple' object has no attribute 'append'"
     ]
    }
   ],
   "source": [
    "t = (10, 20, 30, 40)\n",
    "t.append(50)"
   ]
  },
  {
   "cell_type": "code",
   "execution_count": 48,
   "id": "265ea264",
   "metadata": {},
   "outputs": [
    {
     "ename": "AttributeError",
     "evalue": "'tuple' object has no attribute 'remove'",
     "output_type": "error",
     "traceback": [
      "\u001b[1;31m---------------------------------------------------------------------------\u001b[0m",
      "\u001b[1;31mAttributeError\u001b[0m                            Traceback (most recent call last)",
      "Cell \u001b[1;32mIn[48], line 2\u001b[0m\n\u001b[0;32m      1\u001b[0m t \u001b[38;5;241m=\u001b[39m (\u001b[38;5;241m10\u001b[39m, \u001b[38;5;241m20\u001b[39m, \u001b[38;5;241m30\u001b[39m, \u001b[38;5;241m40\u001b[39m)\n\u001b[1;32m----> 2\u001b[0m t\u001b[38;5;241m.\u001b[39mremove(\u001b[38;5;241m40\u001b[39m)\n",
      "\u001b[1;31mAttributeError\u001b[0m: 'tuple' object has no attribute 'remove'"
     ]
    }
   ],
   "source": [
    "t = (10, 20, 30, 40)\n",
    "t.remove(40)"
   ]
  },
  {
   "cell_type": "code",
   "execution_count": 49,
   "id": "df686183",
   "metadata": {},
   "outputs": [
    {
     "ename": "TypeError",
     "evalue": "'tuple' object does not support item assignment",
     "output_type": "error",
     "traceback": [
      "\u001b[1;31m---------------------------------------------------------------------------\u001b[0m",
      "\u001b[1;31mTypeError\u001b[0m                                 Traceback (most recent call last)",
      "Cell \u001b[1;32mIn[49], line 2\u001b[0m\n\u001b[0;32m      1\u001b[0m t \u001b[38;5;241m=\u001b[39m (\u001b[38;5;241m10\u001b[39m, \u001b[38;5;241m20\u001b[39m, \u001b[38;5;241m30\u001b[39m, \u001b[38;5;241m40\u001b[39m)\n\u001b[1;32m----> 2\u001b[0m t[\u001b[38;5;241m0\u001b[39m] \u001b[38;5;241m=\u001b[39m \u001b[38;5;241m0\u001b[39m\n",
      "\u001b[1;31mTypeError\u001b[0m: 'tuple' object does not support item assignment"
     ]
    }
   ],
   "source": [
    "t = (10, 20, 30, 40)\n",
    "t[0] = 0"
   ]
  },
  {
   "cell_type": "markdown",
   "id": "83fe9a7b",
   "metadata": {},
   "source": [
    "### 7.5"
   ]
  },
  {
   "cell_type": "code",
   "execution_count": 52,
   "id": "f38a5ab8",
   "metadata": {},
   "outputs": [
    {
     "data": {
      "text/plain": [
       "['A1', 'A2', 'B1', 'B2', 'C1', 'C2']"
      ]
     },
     "execution_count": 52,
     "metadata": {},
     "output_type": "execute_result"
    }
   ],
   "source": [
    "list3 = []\n",
    "\n",
    "for i in  ('A', 'B', 'C'):\n",
    "    for j in ('1', '2'):\n",
    "        list3.append(i + j)\n",
    "\n",
    "list3"
   ]
  },
  {
   "cell_type": "code",
   "execution_count": 51,
   "id": "6ecad86f",
   "metadata": {},
   "outputs": [
    {
     "name": "stdout",
     "output_type": "stream",
     "text": [
      "['A1', 'A2', 'B1', 'B2', 'C1', 'C2']\n",
      "['A1', 'A2', 'B1', 'B2', 'C1', 'C2']\n"
     ]
    }
   ],
   "source": [
    "seat_numbers = []\n",
    "for alphabet in ('A', 'B', 'C'):\n",
    "    for num in ('1', '2'):\n",
    "        seat_numbers.append(alphabet + num)\n",
    "\n",
    "print(seat_numbers)\n",
    "seat_numbers = []\n",
    "for alphabet in ('A', 'B', 'C'):\n",
    "    for num in (1, 2):\n",
    "        seat_numbers.append(alphabet + str(num))\n",
    "\n",
    "print(seat_numbers)"
   ]
  },
  {
   "cell_type": "markdown",
   "id": "3a8548ed",
   "metadata": {},
   "source": [
    "### 7.6"
   ]
  },
  {
   "cell_type": "code",
   "execution_count": 2,
   "id": "a81edba5",
   "metadata": {},
   "outputs": [
    {
     "data": {
      "text/plain": [
       "6"
      ]
     },
     "execution_count": 2,
     "metadata": {},
     "output_type": "execute_result"
    }
   ],
   "source": [
    "string = \"python\"\n",
    "\n",
    "l = len(string)\n",
    "l"
   ]
  },
  {
   "cell_type": "code",
   "execution_count": 7,
   "id": "eecfd560",
   "metadata": {},
   "outputs": [
    {
     "name": "stdout",
     "output_type": "stream",
     "text": [
      "p\n",
      "py\n",
      "pyt\n",
      "pyth\n",
      "pytho\n",
      "python\n",
      "\n",
      "pytho\n",
      "pyth\n",
      "pyt\n",
      "py\n",
      "p\n"
     ]
    }
   ],
   "source": [
    "for i  in range(l):\n",
    "    print(string[:(i+1)])\n",
    "for i in range(l):\n",
    "    print(string[:-i])"
   ]
  },
  {
   "cell_type": "code",
   "execution_count": 10,
   "id": "1218c5cd",
   "metadata": {},
   "outputs": [
    {
     "name": "stdout",
     "output_type": "stream",
     "text": [
      "p\n",
      "py\n",
      "pyt\n",
      "pyth\n",
      "pytho\n",
      "python\n",
      "pytho\n",
      "pyth\n",
      "pyt\n",
      "py\n",
      "p\n"
     ]
    }
   ],
   "source": [
    "string = \"python\" # input('문자열을 입력하세요 :')\n",
    "\n",
    "for i in range(1, len(string)*2):\n",
    "    if i <= len(string):\n",
    "        print(string[:i])\n",
    "    else:\n",
    "        print(string[:-(i-len(string))])"
   ]
  },
  {
   "cell_type": "code",
   "execution_count": 11,
   "id": "4f032eb6",
   "metadata": {},
   "outputs": [
    {
     "name": "stdout",
     "output_type": "stream",
     "text": [
      "p\n",
      "py\n",
      "pyt\n",
      "pyth\n",
      "pytho\n",
      "python\n",
      "pytho\n",
      "pyth\n",
      "pyt\n",
      "py\n",
      "p\n",
      "\n"
     ]
    }
   ],
   "source": [
    "string = 'python'\n",
    "l = len(string)\n",
    "\n",
    "for i in range(1, l+1):\n",
    "    print(string[:i])\n",
    "\n",
    "for j in range(1, l+1):\n",
    "    print(string[:-j])"
   ]
  },
  {
   "cell_type": "markdown",
   "id": "f01c27d2",
   "metadata": {},
   "source": [
    "### 7.7"
   ]
  },
  {
   "cell_type": "code",
   "execution_count": 44,
   "id": "f5b7bb8c",
   "metadata": {},
   "outputs": [
    {
     "name": "stdout",
     "output_type": "stream",
     "text": [
      "banana : 문자열의 길이 6\n",
      "orange : 문자열의 길이 6\n",
      "kiwi   : 문자열의 길이 4\n",
      "apple  : 문자열의 길이 5\n",
      "melon  : 문자열의 길이 5\n"
     ]
    }
   ],
   "source": [
    "fruit_list = ['banana', 'orange', 'kiwi', 'apple', 'melon']\n",
    "\n",
    "for fruit in fruit_list:\n",
    "    print(f\"{fruit:6s} : 문자열의 길이 {len(fruit)}\")"
   ]
  },
  {
   "cell_type": "code",
   "execution_count": 22,
   "id": "e8af05a7",
   "metadata": {},
   "outputs": [
    {
     "data": {
      "text/plain": [
       "'orange'"
      ]
     },
     "execution_count": 22,
     "metadata": {},
     "output_type": "execute_result"
    }
   ],
   "source": [
    "max(fruit_list)"
   ]
  },
  {
   "cell_type": "code",
   "execution_count": 26,
   "id": "083f042e",
   "metadata": {},
   "outputs": [
    {
     "data": {
      "text/plain": [
       "['banana', 'orange']"
      ]
     },
     "execution_count": 26,
     "metadata": {},
     "output_type": "execute_result"
    }
   ],
   "source": [
    "max_length = [item for item in fruit_list if len(item) == len(max(fruit_list))]\n",
    "max_length"
   ]
  },
  {
   "cell_type": "code",
   "execution_count": 45,
   "id": "92027d98",
   "metadata": {},
   "outputs": [
    {
     "data": {
      "text/plain": [
       "['banana', 'orange']"
      ]
     },
     "execution_count": 45,
     "metadata": {},
     "output_type": "execute_result"
    }
   ],
   "source": [
    "max_length = []\n",
    "for item in fruit_list:\n",
    "    if len(item) == len(max(fruit_list)):\n",
    "        max_length.append(item)\n",
    "max_length"
   ]
  },
  {
   "cell_type": "code",
   "execution_count": 46,
   "id": "18065b16",
   "metadata": {},
   "outputs": [
    {
     "data": {
      "text/plain": [
       "['kiwi', 'apple', 'melon']"
      ]
     },
     "execution_count": 46,
     "metadata": {},
     "output_type": "execute_result"
    }
   ],
   "source": [
    "for item in max_length:\n",
    "    fruit_list.remove(item)\n",
    "\n",
    "fruit_list"
   ]
  },
  {
   "cell_type": "code",
   "execution_count": 49,
   "id": "d8f56bfa",
   "metadata": {},
   "outputs": [
    {
     "name": "stdout",
     "output_type": "stream",
     "text": [
      "가장 긴 문자열 : banana,orange\n",
      "fruit_list :  kiwi,apple,melon\n"
     ]
    }
   ],
   "source": [
    "concat = \",\".join(max_length)\n",
    "print(\"가장 긴 문자열 :\", concat) # join\n",
    "print(\"fruit_list : \",','.join( fruit_list))"
   ]
  },
  {
   "cell_type": "markdown",
   "id": "7d3dfb25",
   "metadata": {},
   "source": [
    "### 7.8"
   ]
  },
  {
   "cell_type": "code",
   "execution_count": 14,
   "id": "59b893c2",
   "metadata": {},
   "outputs": [
    {
     "name": "stdout",
     "output_type": "stream",
     "text": [
      "\n",
      "\n",
      "\n",
      "\n",
      "\n"
     ]
    }
   ],
   "source": [
    "n = 5\n",
    "snake = list(range(1, n**2+1))\n",
    "\n",
    "for i in range(n):\n",
    "    sub_snake = snake[i*n: (i*1)*n]\n",
    "    if i % 2 == 0:\n",
    "        for k in sub_snake:\n",
    "            print(f\"{k:3d}\", end=' ')\n",
    "    else:\n",
    "        for k in sub_snake[::-1]:\n",
    "            print(f\"{k:3d}\", end=' ')\n",
    "    print()"
   ]
  },
  {
   "cell_type": "code",
   "execution_count": 13,
   "id": "efb36eb4",
   "metadata": {},
   "outputs": [
    {
     "name": "stdout",
     "output_type": "stream",
     "text": [
      "\n",
      "\n",
      "\n",
      "\n",
      "\n"
     ]
    }
   ],
   "source": [
    "def print_snake(sub_snake):\n",
    "     for k in sub_snake:\n",
    "            print(f\"{k:3d}\", end=' ')\n",
    "n = 5\n",
    "snake = list(range(1, n**2+1))\n",
    "\n",
    "for i in range(n):\n",
    "    sub_snake = snake[i*n: (i*1)*n]\n",
    "    if i % 2 == 0:\n",
    "        print_snake(sub_snake)\n",
    "    else:\n",
    "         print_snake(sub_snake[::-1])   \n",
    "    print()"
   ]
  },
  {
   "cell_type": "code",
   "execution_count": 15,
   "id": "ae06ef00",
   "metadata": {},
   "outputs": [
    {
     "name": "stdout",
     "output_type": "stream",
     "text": [
      "  1   2   3   4   5   6   7 \n",
      " 14  13  12  11  10   9   8 \n",
      " 15  16  17  18  19  20  21 \n",
      " 28  27  26  25  24  23  22 \n",
      " 29  30  31  32  33  34  35 \n",
      " 42  41  40  39  38  37  36 \n",
      " 43  44  45  46  47  48  49 \n"
     ]
    }
   ],
   "source": [
    "def print_snake(sub_snake):\n",
    "    for k in sub_snake:\n",
    "        print(f\"{k:3d}\", end=' ')\n",
    "            \n",
    "n = 7\n",
    "snake = list(range(1, n**2+1))\n",
    "\n",
    "for i in range(n):\n",
    "    sub_snake = snake[i*n: (i+1)*n]\n",
    "    if i % 2 == 0:\n",
    "        print_snake(sub_snake)\n",
    "    else:\n",
    "        print_snake(sub_snake[::-1])\n",
    "    print()"
   ]
  },
  {
   "cell_type": "code",
   "execution_count": 16,
   "id": "4063c238",
   "metadata": {},
   "outputs": [],
   "source": [
    "def overlap(strA, strB):\n",
    "    n = min(len(strA), len(strB))\n",
    "    combined = strA + strB\n",
    "    for i in range(n+1):\n",
    "        if strA[-i:] == strB[:i]:\n",
    "            combined = strA+strB[i:]\n",
    "            \n",
    "        return combined"
   ]
  },
  {
   "cell_type": "markdown",
   "id": "0f603ffd",
   "metadata": {},
   "source": [
    "### 7.8"
   ]
  },
  {
   "cell_type": "code",
   "execution_count": 17,
   "id": "7c8328b3",
   "metadata": {},
   "outputs": [],
   "source": [
    "def overlap(strA, strB):\n",
    "    n = min(len(strA), len(strB))\n",
    "    commbined = strA + strB\n",
    "    for i in range(n+1):\n",
    "        if strA[-i:] == strB[:i]:\n",
    "            commbined = strA+strB[i:]\n",
    "\n",
    "    return commbined"
   ]
  },
  {
   "cell_type": "code",
   "execution_count": 18,
   "id": "d7f6fe9d",
   "metadata": {},
   "outputs": [
    {
     "data": {
      "text/plain": [
       "'commummy'"
      ]
     },
     "execution_count": 18,
     "metadata": {},
     "output_type": "execute_result"
    }
   ],
   "source": [
    "strA, strB = 'commu', 'mummy'\n",
    "overlap(strA, strB)"
   ]
  },
  {
   "cell_type": "code",
   "execution_count": 19,
   "id": "96e5e501",
   "metadata": {},
   "outputs": [
    {
     "data": {
      "text/plain": [
       "'boxokxbox'"
      ]
     },
     "execution_count": 19,
     "metadata": {},
     "output_type": "execute_result"
    }
   ],
   "source": [
    "strA, strB = 'boxok', 'xbox'\n",
    "overlap(strA, strB)"
   ]
  },
  {
   "cell_type": "code",
   "execution_count": null,
   "id": "53fdadf5",
   "metadata": {},
   "outputs": [],
   "source": []
  }
 ],
 "metadata": {
  "kernelspec": {
   "display_name": "Python 3 (ipykernel)",
   "language": "python",
   "name": "python3"
  },
  "language_info": {
   "codemirror_mode": {
    "name": "ipython",
    "version": 3
   },
   "file_extension": ".py",
   "mimetype": "text/x-python",
   "name": "python",
   "nbconvert_exporter": "python",
   "pygments_lexer": "ipython3",
   "version": "3.11.5"
  }
 },
 "nbformat": 4,
 "nbformat_minor": 5
}
