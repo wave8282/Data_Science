{
 "cells": [
  {
   "cell_type": "markdown",
   "id": "a332d119",
   "metadata": {},
   "source": [
    "## 7장 데이터를 리스트와 튜플로 묶아보자"
   ]
  },
  {
   "cell_type": "code",
   "execution_count": 4,
   "id": "fa8c7510",
   "metadata": {},
   "outputs": [
    {
     "data": {
      "text/plain": [
       "50"
      ]
     },
     "execution_count": 4,
     "metadata": {},
     "output_type": "execute_result"
    }
   ],
   "source": [
    "_abc = 50\n",
    "_abc"
   ]
  },
  {
   "cell_type": "code",
   "execution_count": 5,
   "id": "8459a11d",
   "metadata": {},
   "outputs": [
    {
     "data": {
      "text/plain": [
       "10"
      ]
     },
     "execution_count": 5,
     "metadata": {},
     "output_type": "execute_result"
    }
   ],
   "source": [
    "_abc = 10\n",
    "_abc"
   ]
  },
  {
   "cell_type": "code",
   "execution_count": 7,
   "id": "5839e564",
   "metadata": {},
   "outputs": [
    {
     "ename": "SyntaxError",
     "evalue": "invalid syntax (Temp/ipykernel_2932/1030933219.py, line 1)",
     "output_type": "error",
     "traceback": [
      "\u001b[1;36m  File \u001b[1;32m\"C:\\Users\\User\\AppData\\Local\\Temp/ipykernel_2932/1030933219.py\"\u001b[1;36m, line \u001b[1;32m1\u001b[0m\n\u001b[1;33m    ABc*** = 50\u001b[0m\n\u001b[1;37m         ^\u001b[0m\n\u001b[1;31mSyntaxError\u001b[0m\u001b[1;31m:\u001b[0m invalid syntax\n"
     ]
    }
   ],
   "source": [
    "ABc*** = 50"
   ]
  },
  {
   "cell_type": "code",
   "execution_count": 8,
   "id": "d20cb1c6",
   "metadata": {},
   "outputs": [
    {
     "ename": "SyntaxError",
     "evalue": "invalid syntax (Temp/ipykernel_2932/4022182803.py, line 1)",
     "output_type": "error",
     "traceback": [
      "\u001b[1;36m  File \u001b[1;32m\"C:\\Users\\User\\AppData\\Local\\Temp/ipykernel_2932/4022182803.py\"\u001b[1;36m, line \u001b[1;32m1\u001b[0m\n\u001b[1;33m    import =  30\u001b[0m\n\u001b[1;37m           ^\u001b[0m\n\u001b[1;31mSyntaxError\u001b[0m\u001b[1;31m:\u001b[0m invalid syntax\n"
     ]
    }
   ],
   "source": [
    "import =  30"
   ]
  },
  {
   "cell_type": "code",
   "execution_count": 10,
   "id": "806ae1dd",
   "metadata": {},
   "outputs": [
    {
     "data": {
      "text/plain": [
       "50"
      ]
     },
     "execution_count": 10,
     "metadata": {},
     "output_type": "execute_result"
    }
   ],
   "source": [
    "my_name = 50\n",
    "my_name"
   ]
  },
  {
   "cell_type": "code",
   "execution_count": 11,
   "id": "106c2fa1",
   "metadata": {},
   "outputs": [
    {
     "ename": "SyntaxError",
     "evalue": "invalid syntax (Temp/ipykernel_2932/2294542202.py, line 1)",
     "output_type": "error",
     "traceback": [
      "\u001b[1;36m  File \u001b[1;32m\"C:\\Users\\User\\AppData\\Local\\Temp/ipykernel_2932/2294542202.py\"\u001b[1;36m, line \u001b[1;32m1\u001b[0m\n\u001b[1;33m    31year = 20\u001b[0m\n\u001b[1;37m      ^\u001b[0m\n\u001b[1;31mSyntaxError\u001b[0m\u001b[1;31m:\u001b[0m invalid syntax\n"
     ]
    }
   ],
   "source": [
    "31year = 20"
   ]
  },
  {
   "cell_type": "code",
   "execution_count": 12,
   "id": "141df9fb",
   "metadata": {},
   "outputs": [],
   "source": [
    "keyword = 20"
   ]
  },
  {
   "cell_type": "markdown",
   "id": "e1f5a0bb",
   "metadata": {},
   "source": [
    "    and =  둘 중 하나라도 거짓이 있으면 거짓, 모두 참이어야 참\n",
    "    or = 둘 중 하나라도 참이면 참, 모두 거짓이어야 거짓\n",
    "    not = 참이면 거짓, 거짓이면 참"
   ]
  },
  {
   "cell_type": "markdown",
   "id": "20f0c3dc",
   "metadata": {},
   "source": [
    "    break = 블럭에서 즉시 빠져나가는것\n",
    "    continue = 아래쪽 문장을 건너뛰기\n",
    "    * 굳이 많이 쓰지 않는다/ 코드 읽기 어려워짐"
   ]
  },
  {
   "cell_type": "markdown",
   "id": "57f4e2cc",
   "metadata": {},
   "source": [
    "for 문 사용"
   ]
  },
  {
   "cell_type": "code",
   "execution_count": 21,
   "id": "1321dae2",
   "metadata": {},
   "outputs": [
    {
     "name": "stdout",
     "output_type": "stream",
     "text": [
      "두 양의 정수 입력: 5 10\n",
      "5에서 10 사이의 3의 배수가 아닌 수의 합은 30 입니다\n"
     ]
    }
   ],
   "source": [
    "start, end = map(int, input(\"두 양의 정수 입력: \").split())\n",
    "\n",
    "s = 0 \n",
    "for i in range(start, end+1):\n",
    "    if i % 3 != 0 :\n",
    "        s = s + i\n",
    "        \n",
    "print(f\"{start}에서 {end} 사이의 3의 배수가 아닌 수의 합은 {s} 입니다\")"
   ]
  },
  {
   "cell_type": "markdown",
   "id": "ac7058f7",
   "metadata": {},
   "source": [
    "while 문 사용"
   ]
  },
  {
   "cell_type": "code",
   "execution_count": 23,
   "id": "626883b2",
   "metadata": {},
   "outputs": [
    {
     "name": "stdout",
     "output_type": "stream",
     "text": [
      "두 양의 정수 입력: 5 10\n",
      "5에서 10 사이의 3의 배수가 아닌 수의 합은 30 입니다\n"
     ]
    }
   ],
   "source": [
    "start, end = map(int, input(\"두 양의 정수 입력: \").split())\n",
    "\n",
    "s = 0\n",
    "i = start\n",
    "while i <= end:\n",
    "    if i % 3 != 0:\n",
    "        s = s + i\n",
    "    i = i + 1\n",
    "    \n",
    "print(f\"{start}에서 {end} 사이의 3의 배수가 아닌 수의 합은 {s} 입니다\")"
   ]
  },
  {
   "cell_type": "markdown",
   "id": "6e795fe1",
   "metadata": {},
   "source": [
    "함수 사용하기"
   ]
  },
  {
   "cell_type": "code",
   "execution_count": 24,
   "id": "f0a3349f",
   "metadata": {},
   "outputs": [
    {
     "name": "stdout",
     "output_type": "stream",
     "text": [
      "(20, 10)\n"
     ]
    }
   ],
   "source": [
    "def sort_two(n1, n2):\n",
    "    if n1 > n2:\n",
    "        return n1, n2\n",
    "    if n1 < n2:\n",
    "        return n2, n1\n",
    "    \n",
    "print(sort_two(10, 20))"
   ]
  },
  {
   "cell_type": "code",
   "execution_count": null,
   "id": "68dbfed9",
   "metadata": {},
   "outputs": [],
   "source": []
  }
 ],
 "metadata": {
  "kernelspec": {
   "display_name": "Python 3 (ipykernel)",
   "language": "python",
   "name": "python3"
  },
  "language_info": {
   "codemirror_mode": {
    "name": "ipython",
    "version": 3
   },
   "file_extension": ".py",
   "mimetype": "text/x-python",
   "name": "python",
   "nbconvert_exporter": "python",
   "pygments_lexer": "ipython3",
   "version": "3.9.7"
  }
 },
 "nbformat": 4,
 "nbformat_minor": 5
}
