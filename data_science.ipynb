{
 "cells": [
  {
   "cell_type": "markdown",
   "id": "0fde496c",
   "metadata": {},
   "source": [
    "# 2장 값을 담아 다루어 보자"
   ]
  },
  {
   "cell_type": "markdown",
   "id": "81ee4847",
   "metadata": {},
   "source": [
    "### 데이터를 저장하는 공간 : 변수\n",
    "* 변수의 내용은 언제든 바꿀수 있다\n",
    "        \n",
    "        동시할당문 : 한 줄에 여러 개의 변수를 선언하고 값을 동시에 할당 가능"
   ]
  },
  {
   "cell_type": "code",
   "execution_count": 2,
   "id": "05744c5e",
   "metadata": {},
   "outputs": [
    {
     "data": {
      "text/plain": [
       "300"
      ]
     },
     "execution_count": 2,
     "metadata": {},
     "output_type": "execute_result"
    }
   ],
   "source": [
    "x, y = 100, 200\n",
    "result = x + y\n",
    "result"
   ]
  },
  {
   "cell_type": "code",
   "execution_count": 3,
   "id": "a83f5a58",
   "metadata": {},
   "outputs": [
    {
     "data": {
      "text/plain": [
       "(100, 200)"
      ]
     },
     "execution_count": 3,
     "metadata": {},
     "output_type": "execute_result"
    }
   ],
   "source": [
    "x, y"
   ]
  },
  {
   "cell_type": "markdown",
   "id": "29c4b673",
   "metadata": {},
   "source": [
    "### 변수의 이름 : 식별자\n",
    "* 식별자는 문자와 숫자, 밑줄 문자(_)로 이루어지며 밑줄 문자 이외의 특수 문자 사용 X\n",
    "* 식별자의 첫 글자는 숫자로 시작 X . 또한 중간에 공백을 가지지 못함\n",
    "* 대문자와 소문자는 구별. 따라서 index와 INDEX는 서로 다른 변수\n",
    "* 파이썬의 예약어(키워드)는 식별자로 사용 X"
   ]
  },
  {
   "cell_type": "code",
   "execution_count": 8,
   "id": "153b582d",
   "metadata": {},
   "outputs": [
    {
     "data": {
      "text/plain": [
       "300"
      ]
     },
     "execution_count": 8,
     "metadata": {},
     "output_type": "execute_result"
    }
   ],
   "source": [
    "_if = 300\n",
    "_if"
   ]
  },
  {
   "cell_type": "markdown",
   "id": "65b2a647",
   "metadata": {},
   "source": [
    "### 변수에는 문자열도 저장 가능"
   ]
  },
  {
   "cell_type": "code",
   "execution_count": 9,
   "id": "12f6a328",
   "metadata": {},
   "outputs": [
    {
     "data": {
      "text/plain": [
       "'hello world'"
      ]
     },
     "execution_count": 9,
     "metadata": {},
     "output_type": "execute_result"
    }
   ],
   "source": [
    "s1 = \"hello world\"\n",
    "s1"
   ]
  },
  {
   "cell_type": "markdown",
   "id": "756f4075",
   "metadata": {},
   "source": [
    "### 함수 :  개발자들이 편리하게 호출하여 사용하수 미리 정의된 기능"
   ]
  },
  {
   "cell_type": "code",
   "execution_count": 11,
   "id": "da6300cb",
   "metadata": {},
   "outputs": [
    {
     "data": {
      "text/plain": [
       "11"
      ]
     },
     "execution_count": 11,
     "metadata": {},
     "output_type": "execute_result"
    }
   ],
   "source": [
    "len(s1)  # 문자열의 길이를 알려준다"
   ]
  },
  {
   "cell_type": "code",
   "execution_count": 14,
   "id": "4e394ead",
   "metadata": {},
   "outputs": [
    {
     "data": {
      "text/plain": [
       "'hellohellohellohellohello'"
      ]
     },
     "execution_count": 14,
     "metadata": {},
     "output_type": "execute_result"
    }
   ],
   "source": [
    "s1 = \"hello\"\n",
    "s1 * 5"
   ]
  },
  {
   "cell_type": "code",
   "execution_count": 13,
   "id": "38254480",
   "metadata": {},
   "outputs": [
    {
     "data": {
      "text/plain": [
       "'100200'"
      ]
     },
     "execution_count": 13,
     "metadata": {},
     "output_type": "execute_result"
    }
   ],
   "source": [
    "n1 = \"100\"\n",
    "n2 = \"200\"\n",
    "n1 + n2   # 문자열에 대한 덧셈 연산자는 문자열 이어 붙이기만 수행"
   ]
  },
  {
   "cell_type": "code",
   "execution_count": 15,
   "id": "6812c6b5",
   "metadata": {},
   "outputs": [
    {
     "data": {
      "text/plain": [
       "25.37037037037037"
      ]
     },
     "execution_count": 15,
     "metadata": {},
     "output_type": "execute_result"
    }
   ],
   "source": [
    "height = 1.80\n",
    "weight = 82.2\n",
    "bmi = weight / height**2\n",
    "bmi"
   ]
  },
  {
   "cell_type": "code",
   "execution_count": 19,
   "id": "5f876001",
   "metadata": {},
   "outputs": [
    {
     "data": {
      "text/plain": [
       "22.28395061728395"
      ]
     },
     "execution_count": 19,
     "metadata": {},
     "output_type": "execute_result"
    }
   ],
   "source": [
    "height = 1.80\n",
    "weight = 72.2\n",
    "bmi = weight / height**2\n",
    "bmi"
   ]
  },
  {
   "cell_type": "markdown",
   "id": "1b8dbfc1",
   "metadata": {},
   "source": [
    "### 변수의 장점 \n",
    "* 데이터가 변경되어도 일의 방법은 바꿀 필요가 없다\n",
    "* 코드의 가독성이 좋아진다              "
   ]
  },
  {
   "cell_type": "code",
   "execution_count": 21,
   "id": "5d68ff37",
   "metadata": {},
   "outputs": [
    {
     "name": "stdout",
     "output_type": "stream",
     "text": [
      "피자 면적은 314.0\n"
     ]
    }
   ],
   "source": [
    "radius = 10\n",
    "area = 3.14 * radius ** 2\n",
    "print(\"피자 면적은\", area)"
   ]
  },
  {
   "cell_type": "code",
   "execution_count": 26,
   "id": "bd3eff9b",
   "metadata": {},
   "outputs": [
    {
     "name": "stdout",
     "output_type": "stream",
     "text": [
      "피자 면적은 1256.0\n"
     ]
    }
   ],
   "source": [
    "radius = 20\n",
    "area = 3.14 * radius ** 2\n",
    "print(\"피자 면적은\", area)"
   ]
  },
  {
   "cell_type": "code",
   "execution_count": 27,
   "id": "adcfe26e",
   "metadata": {},
   "outputs": [
    {
     "name": "stdout",
     "output_type": "stream",
     "text": [
      "피자 면적은 2826.0\n"
     ]
    }
   ],
   "source": [
    "radius = 30\n",
    "area = 3.14 * radius ** 2\n",
    "print(\"피자 면적은\", area)"
   ]
  },
  {
   "cell_type": "code",
   "execution_count": 8,
   "id": "2f76ce2a",
   "metadata": {},
   "outputs": [],
   "source": [
    "import turtle\n",
    "\n",
    "t = turtle.Turtle()\n",
    "t.shape('turtle')\n",
    "\n",
    "t.left(90)\n",
    "radius = 50\n",
    "t.circle(radius)\n",
    "radius = 100\n",
    "t.circle(radius)\n",
    "radius = 200\n",
    "t.circle(radius)\n",
    "radius = 100\n",
    "t.circle(radius)"
   ]
  },
  {
   "cell_type": "code",
   "execution_count": 2,
   "id": "14225e54",
   "metadata": {},
   "outputs": [],
   "source": [
    "radius = 200\n",
    "t.circle(radius)"
   ]
  },
  {
   "cell_type": "code",
   "execution_count": 3,
   "id": "e95a67be",
   "metadata": {},
   "outputs": [],
   "source": [
    "radius = 50\n",
    "t.circle(radius)"
   ]
  },
  {
   "cell_type": "code",
   "execution_count": 6,
   "id": "a47534e8",
   "metadata": {},
   "outputs": [],
   "source": [
    "t.left = 90\n",
    "radius = 50\n",
    "t.circle(radius)\n",
    "radius = 100\n",
    "t.circle(radius)\n",
    "radius = 200\n",
    "t.circle(radius)"
   ]
  },
  {
   "cell_type": "markdown",
   "id": "842731f5",
   "metadata": {},
   "source": [
    "## 자료형을 알아야 연산 가능"
   ]
  },
  {
   "cell_type": "markdown",
   "id": "e9053612",
   "metadata": {},
   "source": [
    "* 정수 : integer / 1이나 2\n",
    "* 실수 : float / 1.23 , 4.23\n",
    "* 문자열 : string / \"ewds\", 'weq'\n",
    "* 부울 : bool / True or False"
   ]
  },
  {
   "cell_type": "code",
   "execution_count": 12,
   "id": "15d964a8",
   "metadata": {},
   "outputs": [
    {
     "data": {
      "text/plain": [
       "(3.14, 10)"
      ]
     },
     "execution_count": 12,
     "metadata": {},
     "output_type": "execute_result"
    }
   ],
   "source": [
    "x =10\n",
    "y = 3.14\n",
    "x, y = y, x\n",
    "x,y"
   ]
  },
  {
   "cell_type": "code",
   "execution_count": 13,
   "id": "464bb6e4",
   "metadata": {},
   "outputs": [
    {
     "data": {
      "text/plain": [
       "float"
      ]
     },
     "execution_count": 13,
     "metadata": {},
     "output_type": "execute_result"
    }
   ],
   "source": [
    "weight = 23.1\n",
    "type(weight)"
   ]
  },
  {
   "cell_type": "code",
   "execution_count": 14,
   "id": "a833a1b8",
   "metadata": {},
   "outputs": [
    {
     "data": {
      "text/plain": [
       "int"
      ]
     },
     "execution_count": 14,
     "metadata": {},
     "output_type": "execute_result"
    }
   ],
   "source": [
    "ant = 234\n",
    "type(ant)"
   ]
  },
  {
   "cell_type": "code",
   "execution_count": 15,
   "id": "8db7f4e1",
   "metadata": {},
   "outputs": [
    {
     "data": {
      "text/plain": [
       "bool"
      ]
     },
     "execution_count": 15,
     "metadata": {},
     "output_type": "execute_result"
    }
   ],
   "source": [
    "b = True\n",
    "type(b)"
   ]
  },
  {
   "cell_type": "code",
   "execution_count": 16,
   "id": "c7f8e085",
   "metadata": {},
   "outputs": [
    {
     "data": {
      "text/plain": [
       "'767'"
      ]
     },
     "execution_count": 16,
     "metadata": {},
     "output_type": "execute_result"
    }
   ],
   "source": [
    "x = '7'\n",
    "y = '6'\n",
    "x + y + x"
   ]
  },
  {
   "cell_type": "code",
   "execution_count": 17,
   "id": "15608384",
   "metadata": {},
   "outputs": [
    {
     "data": {
      "text/plain": [
       "26"
      ]
     },
     "execution_count": 17,
     "metadata": {},
     "output_type": "execute_result"
    }
   ],
   "source": [
    "x =7 \n",
    "y = 6\n",
    "x + y + x + y"
   ]
  },
  {
   "cell_type": "code",
   "execution_count": 18,
   "id": "81500661",
   "metadata": {},
   "outputs": [
    {
     "data": {
      "text/plain": [
       "10000000000000000000000000000000000000000000000000000000000000000000000000000000000000000000000000000"
      ]
     },
     "execution_count": 18,
     "metadata": {},
     "output_type": "execute_result"
    }
   ],
   "source": [
    "10** 100"
   ]
  },
  {
   "cell_type": "code",
   "execution_count": 20,
   "id": "70fe1e54",
   "metadata": {},
   "outputs": [
    {
     "data": {
      "text/plain": [
       "0.30000000000000004"
      ]
     },
     "execution_count": 20,
     "metadata": {},
     "output_type": "execute_result"
    }
   ],
   "source": [
    "0.1 +0.1+0.1"
   ]
  },
  {
   "cell_type": "code",
   "execution_count": 21,
   "id": "94bf8c82",
   "metadata": {},
   "outputs": [
    {
     "data": {
      "text/plain": [
       "0.3333333333333333"
      ]
     },
     "execution_count": 21,
     "metadata": {},
     "output_type": "execute_result"
    }
   ],
   "source": [
    "1/3"
   ]
  },
  {
   "cell_type": "code",
   "execution_count": 22,
   "id": "dae5fef7",
   "metadata": {},
   "outputs": [
    {
     "data": {
      "text/plain": [
       "1.6e-28"
      ]
     },
     "execution_count": 22,
     "metadata": {},
     "output_type": "execute_result"
    }
   ],
   "source": [
    "0.00000000000000000000000000016"
   ]
  },
  {
   "cell_type": "code",
   "execution_count": 23,
   "id": "2e4779ba",
   "metadata": {},
   "outputs": [
    {
     "data": {
      "text/plain": [
       "1.6e-15"
      ]
     },
     "execution_count": 23,
     "metadata": {},
     "output_type": "execute_result"
    }
   ],
   "source": [
    "1.6e-15"
   ]
  },
  {
   "cell_type": "code",
   "execution_count": 24,
   "id": "1b5c7467",
   "metadata": {},
   "outputs": [
    {
     "data": {
      "text/plain": [
       "3500000000000000.0"
      ]
     },
     "execution_count": 24,
     "metadata": {},
     "output_type": "execute_result"
    }
   ],
   "source": [
    "3.5e15"
   ]
  },
  {
   "cell_type": "markdown",
   "id": "e5c55589",
   "metadata": {},
   "source": [
    "### 따옴표 내의 공백 문자 역시 문자열의 일부로 간주"
   ]
  },
  {
   "cell_type": "code",
   "execution_count": 28,
   "id": "629c91a1",
   "metadata": {},
   "outputs": [
    {
     "data": {
      "text/plain": [
       "\"철수가 '안녕' 이라고 말했습니다.\""
      ]
     },
     "execution_count": 28,
     "metadata": {},
     "output_type": "execute_result"
    }
   ],
   "source": [
    "message = \"철수가 '안녕' 이라고 말했습니다.\"\n",
    "message"
   ]
  },
  {
   "cell_type": "code",
   "execution_count": 35,
   "id": "a01c31f3",
   "metadata": {},
   "outputs": [
    {
     "name": "stdout",
     "output_type": "stream",
     "text": [
      "철수가 \"안녕\" 이라고 \n",
      "말했습니다.\n"
     ]
    }
   ],
   "source": [
    "print(\"철수가 \\\"안녕\\\" 이라고 \\n말했습니다.\")"
   ]
  },
  {
   "cell_type": "code",
   "execution_count": 36,
   "id": "9aa19a70",
   "metadata": {},
   "outputs": [
    {
     "data": {
      "text/plain": [
       "100"
      ]
     },
     "execution_count": 36,
     "metadata": {},
     "output_type": "execute_result"
    }
   ],
   "source": [
    "int('100') # 정수와 문자열 사이의 변환"
   ]
  },
  {
   "cell_type": "code",
   "execution_count": 37,
   "id": "610980ca",
   "metadata": {},
   "outputs": [
    {
     "data": {
      "text/plain": [
       "3.14"
      ]
     },
     "execution_count": 37,
     "metadata": {},
     "output_type": "execute_result"
    }
   ],
   "source": [
    "float('3.14')  # 실수와 문자열 사이의 변환"
   ]
  },
  {
   "cell_type": "code",
   "execution_count": 38,
   "id": "6dfc0eec",
   "metadata": {},
   "outputs": [
    {
     "data": {
      "text/plain": [
       "'100'"
      ]
     },
     "execution_count": 38,
     "metadata": {},
     "output_type": "execute_result"
    }
   ],
   "source": [
    "str(100)  # 정수와 문자열 사이의 변환"
   ]
  },
  {
   "cell_type": "code",
   "execution_count": 40,
   "id": "aeeeec3f",
   "metadata": {},
   "outputs": [
    {
     "data": {
      "text/plain": [
       "'3.14'"
      ]
     },
     "execution_count": 40,
     "metadata": {},
     "output_type": "execute_result"
    }
   ],
   "source": [
    "str(3.14)  # 실수와 문자열 사이의 변환"
   ]
  },
  {
   "cell_type": "code",
   "execution_count": 41,
   "id": "e4f8242b",
   "metadata": {},
   "outputs": [
    {
     "ename": "ValueError",
     "evalue": "invalid literal for int() with base 10: 'hello'",
     "output_type": "error",
     "traceback": [
      "\u001b[1;31m---------------------------------------------------------------------------\u001b[0m",
      "\u001b[1;31mValueError\u001b[0m                                Traceback (most recent call last)",
      "\u001b[1;32m~\\AppData\\Local\\Temp/ipykernel_9368/3201159785.py\u001b[0m in \u001b[0;36m<module>\u001b[1;34m\u001b[0m\n\u001b[0;32m      1\u001b[0m \u001b[0mhello\u001b[0m \u001b[1;33m=\u001b[0m \u001b[1;36m32.2\u001b[0m\u001b[1;33m\u001b[0m\u001b[1;33m\u001b[0m\u001b[0m\n\u001b[1;32m----> 2\u001b[1;33m \u001b[0mint\u001b[0m\u001b[1;33m(\u001b[0m\u001b[1;34m\"hello\"\u001b[0m\u001b[1;33m)\u001b[0m\u001b[1;33m\u001b[0m\u001b[1;33m\u001b[0m\u001b[0m\n\u001b[0m",
      "\u001b[1;31mValueError\u001b[0m: invalid literal for int() with base 10: 'hello'"
     ]
    }
   ],
   "source": [
    "hello = 32.2\n",
    "int(\"hello\")"
   ]
  },
  {
   "cell_type": "code",
   "execution_count": 43,
   "id": "21409a21",
   "metadata": {},
   "outputs": [
    {
     "ename": "ValueError",
     "evalue": "invalid literal for int() with base 10: '100.5'",
     "output_type": "error",
     "traceback": [
      "\u001b[1;31m---------------------------------------------------------------------------\u001b[0m",
      "\u001b[1;31mValueError\u001b[0m                                Traceback (most recent call last)",
      "\u001b[1;32m~\\AppData\\Local\\Temp/ipykernel_9368/122849961.py\u001b[0m in \u001b[0;36m<module>\u001b[1;34m\u001b[0m\n\u001b[1;32m----> 1\u001b[1;33m \u001b[0mint\u001b[0m\u001b[1;33m(\u001b[0m\u001b[1;34m\"100.5\"\u001b[0m\u001b[1;33m)\u001b[0m\u001b[1;33m\u001b[0m\u001b[1;33m\u001b[0m\u001b[0m\n\u001b[0m",
      "\u001b[1;31mValueError\u001b[0m: invalid literal for int() with base 10: '100.5'"
     ]
    }
   ],
   "source": [
    "int(\"100.5\")"
   ]
  },
  {
   "cell_type": "code",
   "execution_count": 44,
   "id": "ac0de42e",
   "metadata": {},
   "outputs": [
    {
     "data": {
      "text/plain": [
       "10"
      ]
     },
     "execution_count": 44,
     "metadata": {},
     "output_type": "execute_result"
    }
   ],
   "source": [
    "int(10.32996)"
   ]
  },
  {
   "cell_type": "code",
   "execution_count": 46,
   "id": "9827b79e",
   "metadata": {},
   "outputs": [
    {
     "data": {
      "text/plain": [
       "100.3"
      ]
     },
     "execution_count": 46,
     "metadata": {},
     "output_type": "execute_result"
    }
   ],
   "source": [
    "float(\"100.3\")"
   ]
  },
  {
   "cell_type": "code",
   "execution_count": 47,
   "id": "70356d75",
   "metadata": {},
   "outputs": [
    {
     "data": {
      "text/plain": [
       "200.0"
      ]
     },
     "execution_count": 47,
     "metadata": {},
     "output_type": "execute_result"
    }
   ],
   "source": [
    "float(\"200\")"
   ]
  },
  {
   "cell_type": "code",
   "execution_count": 1,
   "id": "d20cef9b",
   "metadata": {},
   "outputs": [
    {
     "data": {
      "text/plain": [
       "'100'"
      ]
     },
     "execution_count": 1,
     "metadata": {},
     "output_type": "execute_result"
    }
   ],
   "source": [
    "str(100)"
   ]
  },
  {
   "cell_type": "code",
   "execution_count": null,
   "id": "2e09d1cd",
   "metadata": {},
   "outputs": [],
   "source": []
  }
 ],
 "metadata": {
  "kernelspec": {
   "display_name": "Python 3 (ipykernel)",
   "language": "python",
   "name": "python3"
  },
  "language_info": {
   "codemirror_mode": {
    "name": "ipython",
    "version": 3
   },
   "file_extension": ".py",
   "mimetype": "text/x-python",
   "name": "python",
   "nbconvert_exporter": "python",
   "pygments_lexer": "ipython3",
   "version": "3.9.7"
  }
 },
 "nbformat": 4,
 "nbformat_minor": 5
}
