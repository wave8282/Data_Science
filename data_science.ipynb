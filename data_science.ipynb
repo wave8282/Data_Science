{
 "cells": [
  {
   "cell_type": "markdown",
   "id": "50c30436",
   "metadata": {},
   "source": [
    "# 1.8 파이썬 인터프리터 사용해 보기"
   ]
  },
  {
   "cell_type": "code",
   "execution_count": 10,
   "id": "9c9e5f03",
   "metadata": {},
   "outputs": [
    {
     "name": "stdout",
     "output_type": "stream",
     "text": [
      "Hello World!!!\n"
     ]
    }
   ],
   "source": [
    "print(\"Hello World!!!\")"
   ]
  },
  {
   "cell_type": "markdown",
   "id": "4100e96f",
   "metadata": {},
   "source": [
    "# 첫 번째 숙제\n",
    "\n",
    "## 박철석\n",
    "\n",
    "## 심화문제 풀이\n",
    "1. 이것은 심화 문제 입니다."
   ]
  },
  {
   "cell_type": "code",
   "execution_count": 5,
   "id": "87c634cc",
   "metadata": {},
   "outputs": [
    {
     "data": {
      "text/plain": [
       "11"
      ]
     },
     "execution_count": 5,
     "metadata": {},
     "output_type": "execute_result"
    }
   ],
   "source": [
    "5+6"
   ]
  },
  {
   "cell_type": "code",
   "execution_count": 6,
   "id": "e2ce70fd",
   "metadata": {},
   "outputs": [
    {
     "name": "stdout",
     "output_type": "stream",
     "text": [
      "50.24\n"
     ]
    }
   ],
   "source": [
    "반지름 = 4\n",
    "면적 = 3.14 * 반지름 * 반지름\n",
    "print(면적)"
   ]
  },
  {
   "cell_type": "markdown",
   "id": "bf31bb78",
   "metadata": {},
   "source": [
    "# 1.10 주석으로 이해하기 쉬운 코드 만들기"
   ]
  },
  {
   "cell_type": "code",
   "execution_count": 11,
   "id": "b7e04424",
   "metadata": {},
   "outputs": [],
   "source": [
    "# 여러줄의 주석을 사용할 때\n",
    "# 해시 표시를 문장의 첫줄에 넣어서\n",
    "# 주석을 사용할 수 있다."
   ]
  },
  {
   "cell_type": "code",
   "execution_count": 12,
   "id": "7de53659",
   "metadata": {},
   "outputs": [
    {
     "data": {
      "text/plain": [
       "'\\n작을 따옴표를 이용하여 여러줄 주석을 만들 수 있다.\\n이 방식을 이용하여 여러줄 주석을 만든다.\\n'"
      ]
     },
     "execution_count": 12,
     "metadata": {},
     "output_type": "execute_result"
    }
   ],
   "source": [
    "'''\n",
    "작을 따옴표를 이용하여 여러줄 주석을 만들 수 있다.\n",
    "이 방식을 이용하여 여러줄 주석을 만든다.\n",
    "'''"
   ]
  },
  {
   "cell_type": "code",
   "execution_count": 13,
   "id": "0cdc8336",
   "metadata": {},
   "outputs": [
    {
     "data": {
      "text/plain": [
       "'\\n작을 따옴표를 이용하여 여러줄 주석을 만들 수 있다.\\n이 방식을 이용하여 여러줄 주석을 만든다.\\n'"
      ]
     },
     "execution_count": 13,
     "metadata": {},
     "output_type": "execute_result"
    }
   ],
   "source": [
    "\"\"\"\n",
    "작을 따옴표를 이용하여 여러줄 주석을 만들 수 있다.\n",
    "이 방식을 이용하여 여러줄 주석을 만든다.\n",
    "\"\"\""
   ]
  },
  {
   "cell_type": "markdown",
   "id": "7a3afd82",
   "metadata": {},
   "source": [
    "## 1.13 파이썬이 편리한 이유\n",
    "    * 라이브러리/패키지\n",
    "       * 표준 라이브러리\n",
    "       * 외부 라이브러리"
   ]
  },
  {
   "cell_type": "code",
   "execution_count": 26,
   "id": "7a2a914d",
   "metadata": {},
   "outputs": [],
   "source": [
    "import turtle\n",
    "t = turtle.Turtle()\n",
    "t.shape('turtle')"
   ]
  },
  {
   "cell_type": "code",
   "execution_count": 27,
   "id": "e01bb4db",
   "metadata": {},
   "outputs": [],
   "source": [
    "t.forward(100)"
   ]
  },
  {
   "cell_type": "code",
   "execution_count": 24,
   "id": "86537318",
   "metadata": {},
   "outputs": [],
   "source": [
    "t.left(120)\n",
    "t.forward(100)"
   ]
  },
  {
   "cell_type": "code",
   "execution_count": 25,
   "id": "6056a015",
   "metadata": {},
   "outputs": [],
   "source": [
    "t.left(60)\n",
    "t.forward(100)"
   ]
  },
  {
   "cell_type": "code",
   "execution_count": 21,
   "id": "66e068c3",
   "metadata": {},
   "outputs": [],
   "source": [
    "t.left(120)\n",
    "t.forward(100)"
   ]
  },
  {
   "cell_type": "code",
   "execution_count": 16,
   "id": "9d779674",
   "metadata": {},
   "outputs": [],
   "source": [
    "t.left(120)\n",
    "t.forward(100)"
   ]
  },
  {
   "cell_type": "code",
   "execution_count": null,
   "id": "caf09167",
   "metadata": {},
   "outputs": [],
   "source": []
  }
 ],
 "metadata": {
  "kernelspec": {
   "display_name": "Python 3 (ipykernel)",
   "language": "python",
   "name": "python3"
  },
  "language_info": {
   "codemirror_mode": {
    "name": "ipython",
    "version": 3
   },
   "file_extension": ".py",
   "mimetype": "text/x-python",
   "name": "python",
   "nbconvert_exporter": "python",
   "pygments_lexer": "ipython3",
   "version": "3.9.7"
  }
 },
 "nbformat": 4,
 "nbformat_minor": 5
}
