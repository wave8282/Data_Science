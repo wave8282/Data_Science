{
 "cells": [
  {
   "cell_type": "markdown",
   "id": "80fd0936",
   "metadata": {},
   "source": [
    "### 리스트 함축은 코드를 짧고 간결하게 만드는데 사용된다.\n",
    "* 리스트 = 순서가 있는 자료형"
   ]
  },
  {
   "cell_type": "code",
   "execution_count": 1,
   "id": "896e680e",
   "metadata": {},
   "outputs": [
    {
     "data": {
      "text/plain": [
       "[['math', 78], ['science', 89], ['english', 90]]"
      ]
     },
     "execution_count": 1,
     "metadata": {},
     "output_type": "execute_result"
    }
   ],
   "source": [
    "scores = [[\"math\", 78], [\"science\" ,89],[\"english\", 90]]\n",
    "scores"
   ]
  },
  {
   "cell_type": "code",
   "execution_count": 2,
   "id": "869020af",
   "metadata": {},
   "outputs": [
    {
     "data": {
      "text/plain": [
       "list"
      ]
     },
     "execution_count": 2,
     "metadata": {},
     "output_type": "execute_result"
    }
   ],
   "source": [
    "type(scores)"
   ]
  },
  {
   "cell_type": "code",
   "execution_count": 3,
   "id": "2594bcb7",
   "metadata": {},
   "outputs": [],
   "source": [
    "scores.append([\"com\", 80])"
   ]
  },
  {
   "cell_type": "code",
   "execution_count": 4,
   "id": "98eb108a",
   "metadata": {},
   "outputs": [
    {
     "data": {
      "text/plain": [
       "[['math', 78], ['science', 89], ['english', 90], ['com', 80]]"
      ]
     },
     "execution_count": 4,
     "metadata": {},
     "output_type": "execute_result"
    }
   ],
   "source": [
    "scores"
   ]
  },
  {
   "cell_type": "code",
   "execution_count": 5,
   "id": "51c713d8",
   "metadata": {},
   "outputs": [
    {
     "data": {
      "text/plain": [
       "4"
      ]
     },
     "execution_count": 5,
     "metadata": {},
     "output_type": "execute_result"
    }
   ],
   "source": [
    "len(scores)"
   ]
  },
  {
   "cell_type": "code",
   "execution_count": 8,
   "id": "46529262",
   "metadata": {},
   "outputs": [
    {
     "data": {
      "text/plain": [
       "2"
      ]
     },
     "execution_count": 8,
     "metadata": {},
     "output_type": "execute_result"
    }
   ],
   "source": [
    "len(scores[2])"
   ]
  },
  {
   "cell_type": "code",
   "execution_count": 9,
   "id": "7265090f",
   "metadata": {},
   "outputs": [
    {
     "data": {
      "text/plain": [
       "89"
      ]
     },
     "execution_count": 9,
     "metadata": {},
     "output_type": "execute_result"
    }
   ],
   "source": [
    "scores[1][1]"
   ]
  },
  {
   "cell_type": "code",
   "execution_count": 11,
   "id": "f1b9cd5b",
   "metadata": {},
   "outputs": [
    {
     "data": {
      "text/plain": [
       "80"
      ]
     },
     "execution_count": 11,
     "metadata": {},
     "output_type": "execute_result"
    }
   ],
   "source": [
    "scores[3][-1]"
   ]
  },
  {
   "cell_type": "code",
   "execution_count": 12,
   "id": "6b3eb819",
   "metadata": {},
   "outputs": [
    {
     "data": {
      "text/plain": [
       "[['science', 89], ['english', 90]]"
      ]
     },
     "execution_count": 12,
     "metadata": {},
     "output_type": "execute_result"
    }
   ],
   "source": [
    "scores[1:3]"
   ]
  },
  {
   "cell_type": "code",
   "execution_count": 13,
   "id": "10ab0c8b",
   "metadata": {},
   "outputs": [
    {
     "data": {
      "text/plain": [
       "[['math', 78], ['science', 89], ['english', 90], ['com', 80]]"
      ]
     },
     "execution_count": 13,
     "metadata": {},
     "output_type": "execute_result"
    }
   ],
   "source": [
    "scores[:4]"
   ]
  },
  {
   "cell_type": "code",
   "execution_count": 15,
   "id": "e9c2728a",
   "metadata": {},
   "outputs": [
    {
     "data": {
      "text/plain": [
       "[['math', 78], ['science', 89], ['english', 90], ['com', 80]]"
      ]
     },
     "execution_count": 15,
     "metadata": {},
     "output_type": "execute_result"
    }
   ],
   "source": [
    "scores[:8]"
   ]
  },
  {
   "cell_type": "code",
   "execution_count": 18,
   "id": "f89bf887",
   "metadata": {},
   "outputs": [
    {
     "data": {
      "text/plain": [
       "[['math', 78], ['science', 89], ['english', 90], ['com', 80]]"
      ]
     },
     "execution_count": 18,
     "metadata": {},
     "output_type": "execute_result"
    }
   ],
   "source": [
    "scores[0:]"
   ]
  },
  {
   "cell_type": "code",
   "execution_count": 19,
   "id": "37f9abf1",
   "metadata": {},
   "outputs": [
    {
     "data": {
      "text/plain": [
       "[['com', 80], ['english', 90], ['science', 89], ['math', 78]]"
      ]
     },
     "execution_count": 19,
     "metadata": {},
     "output_type": "execute_result"
    }
   ],
   "source": [
    "scores[::-1]"
   ]
  },
  {
   "cell_type": "code",
   "execution_count": 20,
   "id": "5c2de413",
   "metadata": {},
   "outputs": [
    {
     "data": {
      "text/plain": [
       "[['math', 78], ['english', 90]]"
      ]
     },
     "execution_count": 20,
     "metadata": {},
     "output_type": "execute_result"
    }
   ],
   "source": [
    "scores[::2]"
   ]
  },
  {
   "cell_type": "code",
   "execution_count": 21,
   "id": "92c8adb6",
   "metadata": {},
   "outputs": [
    {
     "data": {
      "text/plain": [
       "[['math', 78], ['english', 90]]"
      ]
     },
     "execution_count": 21,
     "metadata": {},
     "output_type": "execute_result"
    }
   ],
   "source": [
    "scores[0:4:2]"
   ]
  },
  {
   "cell_type": "markdown",
   "id": "2d12d9b9",
   "metadata": {},
   "source": [
    "    list comprehension "
   ]
  },
  {
   "cell_type": "code",
   "execution_count": 23,
   "id": "d05b7627",
   "metadata": {},
   "outputs": [
    {
     "data": {
      "text/plain": [
       "[['math', 78], ['science', 89], ['english', 90], ['com', 80]]"
      ]
     },
     "execution_count": 23,
     "metadata": {},
     "output_type": "execute_result"
    }
   ],
   "source": [
    "scores"
   ]
  },
  {
   "cell_type": "code",
   "execution_count": 25,
   "id": "859f2cbf",
   "metadata": {},
   "outputs": [],
   "source": [
    "subjects = ['math','science'',english', 'com']"
   ]
  },
  {
   "cell_type": "code",
   "execution_count": 26,
   "id": "252f2dae",
   "metadata": {},
   "outputs": [
    {
     "data": {
      "text/plain": [
       "['math', 'science', 'english', 'com']"
      ]
     },
     "execution_count": 26,
     "metadata": {},
     "output_type": "execute_result"
    }
   ],
   "source": [
    "subjects = []\n",
    "for s in scores:\n",
    "    subjects.append(s[0])\n",
    "    \n",
    "subjects"
   ]
  },
  {
   "cell_type": "code",
   "execution_count": 28,
   "id": "4e6187d8",
   "metadata": {},
   "outputs": [
    {
     "data": {
      "text/plain": [
       "[78, 89, 90, 80]"
      ]
     },
     "execution_count": 28,
     "metadata": {},
     "output_type": "execute_result"
    }
   ],
   "source": [
    "inte = []\n",
    "for s in scores:\n",
    "    inte.append(s[1])\n",
    "    \n",
    "inte"
   ]
  },
  {
   "cell_type": "code",
   "execution_count": 32,
   "id": "a327f619",
   "metadata": {},
   "outputs": [
    {
     "data": {
      "text/plain": [
       "['m', 's', 'e', 'c']"
      ]
     },
     "execution_count": 32,
     "metadata": {},
     "output_type": "execute_result"
    }
   ],
   "source": [
    "inte = []\n",
    "for s in scores:\n",
    "    inte.append(s[0][0])\n",
    "    \n",
    "inte"
   ]
  },
  {
   "cell_type": "markdown",
   "id": "ceeb6e80",
   "metadata": {},
   "source": [
    "    list comprehension "
   ]
  },
  {
   "cell_type": "code",
   "execution_count": 34,
   "id": "496307ac",
   "metadata": {},
   "outputs": [
    {
     "data": {
      "text/plain": [
       "[78, 89, 90, 80]"
      ]
     },
     "execution_count": 34,
     "metadata": {},
     "output_type": "execute_result"
    }
   ],
   "source": [
    "scores_only = [s[1]for s in scores]\n",
    "scores_only"
   ]
  },
  {
   "cell_type": "markdown",
   "id": "4146e5ff",
   "metadata": {},
   "source": [
    "### 튜플 = 변경할 수 없는 객체\n",
    "* 불변속성 / 가변속성\n",
    "* 리스트에 비해 접근 속도가 빠르다\n",
    "* 한 번 지정되면 변경될수 없으며 대표적인 불변속성 자료형\n",
    "     \n",
    "        불변속성 = 수치자료형,문자열,튜플\n",
    "        가변속성 = 리스트,집합,딕셔너리"
   ]
  },
  {
   "cell_type": "code",
   "execution_count": 35,
   "id": "a09120d8",
   "metadata": {},
   "outputs": [
    {
     "data": {
      "text/plain": [
       "['red', 'orange', 'blue']"
      ]
     },
     "execution_count": 35,
     "metadata": {},
     "output_type": "execute_result"
    }
   ],
   "source": [
    "colors = [\"red\", \"orange\", \"blue\"]\n",
    "colors"
   ]
  },
  {
   "cell_type": "code",
   "execution_count": 36,
   "id": "5100a6f5",
   "metadata": {},
   "outputs": [
    {
     "data": {
      "text/plain": [
       "7"
      ]
     },
     "execution_count": 36,
     "metadata": {},
     "output_type": "execute_result"
    }
   ],
   "source": [
    "name = \"jangwoo\"\n",
    "len(name)"
   ]
  },
  {
   "cell_type": "code",
   "execution_count": 37,
   "id": "1ae1b5d0",
   "metadata": {},
   "outputs": [
    {
     "ename": "TypeError",
     "evalue": "'str' object does not support item assignment",
     "output_type": "error",
     "traceback": [
      "\u001b[1;31m---------------------------------------------------------------------------\u001b[0m",
      "\u001b[1;31mTypeError\u001b[0m                                 Traceback (most recent call last)",
      "Cell \u001b[1;32mIn[37], line 1\u001b[0m\n\u001b[1;32m----> 1\u001b[0m name[\u001b[38;5;241m4\u001b[39m] \u001b[38;5;241m=\u001b[39m \u001b[38;5;124m\"\u001b[39m\u001b[38;5;124mu\u001b[39m\u001b[38;5;124m\"\u001b[39m\n",
      "\u001b[1;31mTypeError\u001b[0m: 'str' object does not support item assignment"
     ]
    }
   ],
   "source": [
    "name[4] = \"u\""
   ]
  },
  {
   "cell_type": "code",
   "execution_count": 38,
   "id": "09a0a952",
   "metadata": {},
   "outputs": [
    {
     "data": {
      "text/plain": [
       "(1, 2, 3, 4, 5)"
      ]
     },
     "execution_count": 38,
     "metadata": {},
     "output_type": "execute_result"
    }
   ],
   "source": [
    "numbers = (1,2,3,4,5 )\n",
    "numbers"
   ]
  },
  {
   "cell_type": "code",
   "execution_count": 39,
   "id": "8a2a0cbf",
   "metadata": {},
   "outputs": [
    {
     "ename": "TypeError",
     "evalue": "'tuple' object does not support item assignment",
     "output_type": "error",
     "traceback": [
      "\u001b[1;31m---------------------------------------------------------------------------\u001b[0m",
      "\u001b[1;31mTypeError\u001b[0m                                 Traceback (most recent call last)",
      "Cell \u001b[1;32mIn[39], line 1\u001b[0m\n\u001b[1;32m----> 1\u001b[0m numbers[\u001b[38;5;241m2\u001b[39m] \u001b[38;5;241m=\u001b[39m \u001b[38;5;241m30\u001b[39m\n",
      "\u001b[1;31mTypeError\u001b[0m: 'tuple' object does not support item assignment"
     ]
    }
   ],
   "source": [
    "numbers[2] = 30 "
   ]
  },
  {
   "cell_type": "code",
   "execution_count": 40,
   "id": "fa1c6dea",
   "metadata": {},
   "outputs": [
    {
     "data": {
      "text/plain": [
       "(1, 2, 3, 4, 5, 7, 8, 9)"
      ]
     },
     "execution_count": 40,
     "metadata": {},
     "output_type": "execute_result"
    }
   ],
   "source": [
    "numbers + (7,8,9)"
   ]
  },
  {
   "cell_type": "code",
   "execution_count": 41,
   "id": "68df794c",
   "metadata": {},
   "outputs": [
    {
     "data": {
      "text/plain": [
       "(1, 2, 3, 4, 5, 1, 2, 3, 4, 5, 1, 2, 3, 4, 5)"
      ]
     },
     "execution_count": 41,
     "metadata": {},
     "output_type": "execute_result"
    }
   ],
   "source": [
    "numbers * 3"
   ]
  },
  {
   "cell_type": "code",
   "execution_count": 43,
   "id": "645910da",
   "metadata": {},
   "outputs": [
    {
     "data": {
      "text/plain": [
       "(2, 3, 4, 5)"
      ]
     },
     "execution_count": 43,
     "metadata": {},
     "output_type": "execute_result"
    }
   ],
   "source": [
    "numbers[1:5]"
   ]
  },
  {
   "cell_type": "code",
   "execution_count": 49,
   "id": "90a155ae",
   "metadata": {},
   "outputs": [],
   "source": [
    "import math\n",
    "\n",
    "def get_circle(r):\n",
    "    area = math.pi * r ** 2\n",
    "    circum = 2 * math.pi * r\n",
    "    return area, circum\n",
    "\n",
    "area, circum = get_circle(4)"
   ]
  },
  {
   "cell_type": "code",
   "execution_count": 50,
   "id": "83e4c89d",
   "metadata": {},
   "outputs": [
    {
     "data": {
      "text/plain": [
       "50.26548245743669"
      ]
     },
     "execution_count": 50,
     "metadata": {},
     "output_type": "execute_result"
    }
   ],
   "source": [
    "area"
   ]
  },
  {
   "cell_type": "code",
   "execution_count": 51,
   "id": "4b9a49de",
   "metadata": {},
   "outputs": [
    {
     "data": {
      "text/plain": [
       "25.132741228718345"
      ]
     },
     "execution_count": 51,
     "metadata": {},
     "output_type": "execute_result"
    }
   ],
   "source": [
    "circum"
   ]
  },
  {
   "cell_type": "code",
   "execution_count": 52,
   "id": "38d3e29e",
   "metadata": {},
   "outputs": [
    {
     "data": {
      "text/plain": [
       "(314.1592653589793, 62.83185307179586)"
      ]
     },
     "execution_count": 52,
     "metadata": {},
     "output_type": "execute_result"
    }
   ],
   "source": [
    "circle = get_circle(10)\n",
    "circle"
   ]
  },
  {
   "cell_type": "code",
   "execution_count": 53,
   "id": "3e4c60c7",
   "metadata": {},
   "outputs": [
    {
     "data": {
      "text/plain": [
       "(314.1592653589793, 62.83185307179586)"
      ]
     },
     "execution_count": 53,
     "metadata": {},
     "output_type": "execute_result"
    }
   ],
   "source": [
    "circle[0], circle[1]"
   ]
  },
  {
   "cell_type": "code",
   "execution_count": 60,
   "id": "54281c9a",
   "metadata": {},
   "outputs": [
    {
     "data": {
      "text/plain": [
       "(78.53981633974483,\n",
       " 78.53981633974483,\n",
       " 78.53981633974483,\n",
       " 78.53981633974483,\n",
       " 78.53981633974483)"
      ]
     },
     "execution_count": 60,
     "metadata": {},
     "output_type": "execute_result"
    }
   ],
   "source": [
    "import math\n",
    "\n",
    "def get_circle(r):\n",
    "    area = math.pi * r ** 2\n",
    "    return area,  # 콤마 지워주기\n",
    "\n",
    "get_circle(5) * 5"
   ]
  },
  {
   "cell_type": "code",
   "execution_count": 61,
   "id": "5dc1dcc7",
   "metadata": {},
   "outputs": [
    {
     "data": {
      "text/plain": [
       "392.69908169872417"
      ]
     },
     "execution_count": 61,
     "metadata": {},
     "output_type": "execute_result"
    }
   ],
   "source": [
    "import math\n",
    "\n",
    "def get_circle(r):\n",
    "    area = math.pi * r ** 2\n",
    "    return area # 콤마 지워주기\n",
    "\n",
    "get_circle(5) * 5"
   ]
  },
  {
   "cell_type": "code",
   "execution_count": 70,
   "id": "d6803b7f",
   "metadata": {},
   "outputs": [],
   "source": [
    "a = 10\n",
    "b = 50"
   ]
  },
  {
   "cell_type": "code",
   "execution_count": 71,
   "id": "1b7fcd6e",
   "metadata": {},
   "outputs": [],
   "source": [
    "a, b = b, a"
   ]
  },
  {
   "cell_type": "code",
   "execution_count": 72,
   "id": "3e4376d8",
   "metadata": {},
   "outputs": [
    {
     "data": {
      "text/plain": [
       "(50, 10)"
      ]
     },
     "execution_count": 72,
     "metadata": {},
     "output_type": "execute_result"
    }
   ],
   "source": [
    "a, b"
   ]
  },
  {
   "cell_type": "code",
   "execution_count": 73,
   "id": "72de7ab4",
   "metadata": {},
   "outputs": [],
   "source": [
    "c = a\n",
    "a = b\n",
    "b = c"
   ]
  },
  {
   "cell_type": "code",
   "execution_count": 74,
   "id": "f87e914f",
   "metadata": {},
   "outputs": [
    {
     "data": {
      "text/plain": [
       "(10, 50)"
      ]
     },
     "execution_count": 74,
     "metadata": {},
     "output_type": "execute_result"
    }
   ],
   "source": [
    "a, b"
   ]
  },
  {
   "cell_type": "code",
   "execution_count": 75,
   "id": "fd82e498",
   "metadata": {},
   "outputs": [],
   "source": [
    "a = 11\n",
    "b =  22\n",
    "a, b = b, a"
   ]
  },
  {
   "cell_type": "code",
   "execution_count": 77,
   "id": "3c6b4155",
   "metadata": {},
   "outputs": [
    {
     "data": {
      "text/plain": [
       "(22, 11)"
      ]
     },
     "execution_count": 77,
     "metadata": {},
     "output_type": "execute_result"
    }
   ],
   "source": [
    "a, b"
   ]
  },
  {
   "cell_type": "code",
   "execution_count": 78,
   "id": "e7d135b2",
   "metadata": {},
   "outputs": [
    {
     "data": {
      "text/plain": [
       "(30,)"
      ]
     },
     "execution_count": 78,
     "metadata": {},
     "output_type": "execute_result"
    }
   ],
   "source": [
    "(30,)"
   ]
  },
  {
   "cell_type": "code",
   "execution_count": 80,
   "id": "46ae6e81",
   "metadata": {},
   "outputs": [
    {
     "data": {
      "text/plain": [
       "[('서울', 9765), ('부산', 3441), ('인천', 2954), ('광주', 1501), ('대전', 1551)]"
      ]
     },
     "execution_count": 80,
     "metadata": {},
     "output_type": "execute_result"
    }
   ],
   "source": [
    "city_info = [(\"서울\", 9765),(\"부산\", 3441), (\"인천\", 2954),(\"광주\", 1501),(\"대전\", 1551)]\n",
    "city_info"
   ]
  },
  {
   "cell_type": "code",
   "execution_count": 83,
   "id": "eff3b1ea",
   "metadata": {},
   "outputs": [
    {
     "name": "stdout",
     "output_type": "stream",
     "text": [
      "최대인구: 서울, 인구: 9765 천명\n",
      "최소인구: 광주, 인구: 1501 천명\n",
      "리스트 도시 평균 인구: 3842.4 천명\n"
     ]
    }
   ],
   "source": [
    "max_pop = 0\n",
    "min_pop = 10000000000000000\n",
    "total_pop = 0\n",
    "\n",
    "max_city = None\n",
    "min_city = None\n",
    "\n",
    "for city in city_info:\n",
    "    total_pop += city[1]\n",
    "    if city[1] > max_pop:\n",
    "        max_pop = city[1]\n",
    "        max_city = city\n",
    "    if city[1] < min_pop:\n",
    "        min_pop = city[1]\n",
    "        min_city = city\n",
    "        \n",
    "print(\"최대인구: {}, 인구: {} 천명\".format(max_city[0], max_city[1]))\n",
    "print(\"최소인구: {}, 인구: {} 천명\".format(min_city[0], min_city[1]))\n",
    "print(\"리스트 도시 평균 인구: {} 천명\".format(total_pop / len(city_info)))"
   ]
  },
  {
   "cell_type": "code",
   "execution_count": 84,
   "id": "7cce1f14",
   "metadata": {},
   "outputs": [
    {
     "data": {
      "text/plain": [
       "(('서울', 9765), ('광주', 1501))"
      ]
     },
     "execution_count": 84,
     "metadata": {},
     "output_type": "execute_result"
    }
   ],
   "source": [
    "max_city, min_city"
   ]
  },
  {
   "cell_type": "code",
   "execution_count": 86,
   "id": "c5173359",
   "metadata": {},
   "outputs": [
    {
     "data": {
      "text/plain": [
       "(9765, 1501)"
      ]
     },
     "execution_count": 86,
     "metadata": {},
     "output_type": "execute_result"
    }
   ],
   "source": [
    "max_pop, min_pop"
   ]
  },
  {
   "cell_type": "code",
   "execution_count": 87,
   "id": "5493ba8b",
   "metadata": {},
   "outputs": [
    {
     "data": {
      "text/plain": [
       "3842.4"
      ]
     },
     "execution_count": 87,
     "metadata": {},
     "output_type": "execute_result"
    }
   ],
   "source": [
    "total_pop / len(city_info)"
   ]
  },
  {
   "cell_type": "markdown",
   "id": "00638de4",
   "metadata": {},
   "source": [
    "### 클래스와 객체\n",
    "* 객체지향 프로그래밍(oop)object oriented programming = 가장 뛰어난 해결책으로 인정받고 있는 방법\n",
    "* 서로 다른 실제 값 = 이런 객체를 '인스턴스'객체라고 한다.\n",
    "* 파이썬 = 객체지향 프로그래밍 언어\n",
    "* 이미 살펴본 자료형,함수,모듈은 모두 객체"
   ]
  },
  {
   "cell_type": "code",
   "execution_count": 88,
   "id": "75dfd308",
   "metadata": {},
   "outputs": [
    {
     "name": "stdout",
     "output_type": "stream",
     "text": [
      "<class 'str'>\n"
     ]
    }
   ],
   "source": [
    "name = \"park\"\n",
    "print(type(name))  # 문자열의 객체이다"
   ]
  },
  {
   "cell_type": "code",
   "execution_count": 89,
   "id": "37b22613",
   "metadata": {},
   "outputs": [
    {
     "data": {
      "text/plain": [
       "'PARK'"
      ]
     },
     "execution_count": 89,
     "metadata": {},
     "output_type": "execute_result"
    }
   ],
   "source": [
    "name.upper()"
   ]
  },
  {
   "cell_type": "markdown",
   "id": "24361531",
   "metadata": {},
   "source": [
    "#### 클래스 만들기"
   ]
  },
  {
   "cell_type": "code",
   "execution_count": 99,
   "id": "991c619f",
   "metadata": {},
   "outputs": [],
   "source": [
    "class Human:\n",
    "    def __init__(self, name, age, gender): # constructor\n",
    "        self.fingers = 5\n",
    "        self.toes = 5\n",
    "        \n",
    "        self.name = name\n",
    "        self.age = age\n",
    "        self.gender = gender\n",
    "        \n",
    "    def studying(self, subject, hours):\n",
    "        print(f\"{self.name} is studying {subject} for {hours} hour.\")"
   ]
  },
  {
   "cell_type": "code",
   "execution_count": 100,
   "id": "91931243",
   "metadata": {},
   "outputs": [
    {
     "data": {
      "text/plain": [
       "5"
      ]
     },
     "execution_count": 100,
     "metadata": {},
     "output_type": "execute_result"
    }
   ],
   "source": [
    "jj = Human(\"park\", 23, \"Male\")\n",
    "jj.fingers"
   ]
  },
  {
   "cell_type": "code",
   "execution_count": 101,
   "id": "6fffc0cd",
   "metadata": {},
   "outputs": [
    {
     "data": {
      "text/plain": [
       "23"
      ]
     },
     "execution_count": 101,
     "metadata": {},
     "output_type": "execute_result"
    }
   ],
   "source": [
    "jj.age"
   ]
  },
  {
   "cell_type": "code",
   "execution_count": 102,
   "id": "823b0b64",
   "metadata": {},
   "outputs": [],
   "source": [
    "jj = Human(\"park\", 23, \"Male\")"
   ]
  },
  {
   "cell_type": "code",
   "execution_count": 103,
   "id": "782fdc13",
   "metadata": {},
   "outputs": [
    {
     "name": "stdout",
     "output_type": "stream",
     "text": [
      "park is studying math for 5 hour.\n"
     ]
    }
   ],
   "source": [
    "jj.studying(\"math\", 5)"
   ]
  },
  {
   "cell_type": "markdown",
   "id": "4c5a3809",
   "metadata": {},
   "source": [
    "### 함수\n",
    "* 가독성 유지보수 너무 많아지면 관리하기 힘들어짐\n",
    "* 비슷한 것들끼리 클래스로 묶어주고 특성들 선언하기\n",
    "* 코드 효과적으로 분할 클래스 이용!!\n",
    "* 객체지향 프로그램 이용하기 "
   ]
  },
  {
   "cell_type": "markdown",
   "id": "c89e19db",
   "metadata": {},
   "source": [
    "### 리스트 -> 튜플 -> 딕셔너리"
   ]
  },
  {
   "cell_type": "code",
   "execution_count": null,
   "id": "6866f988",
   "metadata": {},
   "outputs": [],
   "source": []
  },
  {
   "cell_type": "code",
   "execution_count": null,
   "id": "db885b2c",
   "metadata": {},
   "outputs": [],
   "source": []
  },
  {
   "cell_type": "markdown",
   "id": "59642f26",
   "metadata": {},
   "source": [
    "### 핵심정리 \n",
    "* 리스트는 항목들을 모아둔 곳이다.\n",
    "* 리스트의 항목은 어떤 것이든 가능하다.\n",
    "* 공백 리스트를 만들고 append()를 호출하여서 코드로 항목을 추가할 수 있다.\n",
    "* 튜플은 변경불가능 자료형으로 리스트에 비하여 처리속도가 빠르지만 그 항목값을 수정할 수 없다.\n",
    "* 튜플을 사용하여 함수로부터 여러 개의 값을 반환 받을 수 있다.\n",
    "* 파이썬은 여러가지 종류의 클래스를 미리 만들어서 개발시에 사용할 수 있도록 제공하는 객체지향 프로그래밍 언어이다."
   ]
  },
  {
   "cell_type": "markdown",
   "id": "8bad731b",
   "metadata": {},
   "source": [
    "## 8장 연관된 데이터를 딕셔너리로 짝을 짓자\n",
    "### 8.1 키와 값을 가진 딕셔너리로 자료를 정리하자 dictionary\n",
    "* 리스트와 같이 값을 저장하는 자료구조\n",
    "* 딕셔너리에는 값(value)과 키(key)가 있다는 것이 큰 차이점\n",
    "* 공백 리스트는 [] 대괄호로 생성, 딕셔너리는 {}중괄호로 생성\n",
    "* 딕셔너리를 출력하면 항목이 쉼표로 구분되어 출력됨"
   ]
  },
  {
   "cell_type": "code",
   "execution_count": 106,
   "id": "e3417b71",
   "metadata": {},
   "outputs": [],
   "source": [
    "phone_book = {} # 빈 딕셔너리 생성"
   ]
  },
  {
   "cell_type": "code",
   "execution_count": 108,
   "id": "cf942e09",
   "metadata": {},
   "outputs": [
    {
     "data": {
      "text/plain": [
       "{'park': '010-2312-4242', 'kim': '010-2321-2323', 'choi': '010-5342-2424'}"
      ]
     },
     "execution_count": 108,
     "metadata": {},
     "output_type": "execute_result"
    }
   ],
   "source": [
    "phone_book[\"park\"] = \"010-2312-4242\" # 사람이름은 키 / 번호는 값\n",
    "phone_book[\"kim\"] = \"010-2321-2323\"\n",
    "phone_book[\"choi\"] = \"010-5342-2424\"\n",
    "phone_book"
   ]
  },
  {
   "cell_type": "code",
   "execution_count": 112,
   "id": "b5e6cff7",
   "metadata": {},
   "outputs": [
    {
     "data": {
      "text/plain": [
       "{'park': '010-2312-4242', 'kim': '010-2321-2323'}"
      ]
     },
     "execution_count": 112,
     "metadata": {},
     "output_type": "execute_result"
    }
   ],
   "source": [
    "pho_book = {\"park\": \"010-2312-4242\", \"kim\": \"010-2321-2323\"}\n",
    "pho_book"
   ]
  },
  {
   "cell_type": "markdown",
   "id": "e4f0fd49",
   "metadata": {},
   "source": [
    "### 8.2 딕셔너리의 기능 \n",
    "* 키를 알아야 값을 가져올 수 있다."
   ]
  },
  {
   "cell_type": "code",
   "execution_count": 114,
   "id": "19efdcf3",
   "metadata": {},
   "outputs": [
    {
     "data": {
      "text/plain": [
       "'010-2312-4242'"
      ]
     },
     "execution_count": 114,
     "metadata": {},
     "output_type": "execute_result"
    }
   ],
   "source": [
    "phone_book[\"park\"]"
   ]
  },
  {
   "cell_type": "code",
   "execution_count": 115,
   "id": "a853a921",
   "metadata": {},
   "outputs": [
    {
     "data": {
      "text/plain": [
       "dict_keys(['park', 'kim', 'choi'])"
      ]
     },
     "execution_count": 115,
     "metadata": {},
     "output_type": "execute_result"
    }
   ],
   "source": [
    "phone_book.keys()"
   ]
  },
  {
   "cell_type": "code",
   "execution_count": 116,
   "id": "3b4583e7",
   "metadata": {},
   "outputs": [
    {
     "data": {
      "text/plain": [
       "dict_values(['010-2312-4242', '010-2321-2323', '010-5342-2424'])"
      ]
     },
     "execution_count": 116,
     "metadata": {},
     "output_type": "execute_result"
    }
   ],
   "source": [
    "phone_book.values()"
   ]
  },
  {
   "cell_type": "code",
   "execution_count": 117,
   "id": "0d0176c3",
   "metadata": {},
   "outputs": [
    {
     "data": {
      "text/plain": [
       "dict_items([('park', '010-2312-4242'), ('kim', '010-2321-2323'), ('choi', '010-5342-2424')])"
      ]
     },
     "execution_count": 117,
     "metadata": {},
     "output_type": "execute_result"
    }
   ],
   "source": [
    "phone_book.items()"
   ]
  },
  {
   "cell_type": "code",
   "execution_count": 126,
   "id": "1dd8ebae",
   "metadata": {},
   "outputs": [
    {
     "name": "stdout",
     "output_type": "stream",
     "text": [
      "park 010-5342-2424\n",
      "kim 010-5342-2424\n",
      "choi 010-5342-2424\n"
     ]
    }
   ],
   "source": [
    "for key in phone_book:\n",
    "    print(key, phone_book[k])"
   ]
  },
  {
   "cell_type": "code",
   "execution_count": 124,
   "id": "3b02f48e",
   "metadata": {},
   "outputs": [
    {
     "name": "stdout",
     "output_type": "stream",
     "text": [
      "park 010-2312-4242\n",
      "kim 010-2321-2323\n",
      "choi 010-5342-2424\n"
     ]
    }
   ],
   "source": [
    "for k, v in phone_book.items():\n",
    "    print(k, v)"
   ]
  },
  {
   "cell_type": "code",
   "execution_count": null,
   "id": "a41db071",
   "metadata": {},
   "outputs": [],
   "source": []
  }
 ],
 "metadata": {
  "kernelspec": {
   "display_name": "Python 3 (ipykernel)",
   "language": "python",
   "name": "python3"
  },
  "language_info": {
   "codemirror_mode": {
    "name": "ipython",
    "version": 3
   },
   "file_extension": ".py",
   "mimetype": "text/x-python",
   "name": "python",
   "nbconvert_exporter": "python",
   "pygments_lexer": "ipython3",
   "version": "3.11.5"
  }
 },
 "nbformat": 4,
 "nbformat_minor": 5
}
