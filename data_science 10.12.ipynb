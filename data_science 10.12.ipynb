{
 "cells": [
  {
   "cell_type": "code",
   "execution_count": 2,
   "id": "ff7b33be",
   "metadata": {},
   "outputs": [],
   "source": [
    "import turtle \n",
    "\n",
    "t = turtle.Turtle()\n",
    "t.speed(0)\n",
    "t.width(3)\n",
    "\n",
    "length = 10\n",
    "while length < 500:\n",
    "    t.forward(length)\n",
    "    t.right(89)\n",
    "    length += 5"
   ]
  },
  {
   "cell_type": "code",
   "execution_count": null,
   "id": "a0ad8eaf",
   "metadata": {},
   "outputs": [],
   "source": [
    "import turtle \n",
    "t = turtle.Turtle()\n",
    "t.shape(\"turtle\")\n",
    "t.penup()\n",
    "t.goto(-50,-50)\n",
    "t.pendown()\n",
    "x0, y0 = t.position()\n",
    "\n",
    "while True:\n",
    "    t.forward(150)\n",
    "    t.right(140)\n",
    "    x, y = t.position()\n",
    "    if abs(x-x0) < 0.1 and abs(y-y0) < 0.1:\n",
    "        break\n",
    "        \n",
    "turtle.done()"
   ]
  },
  {
   "cell_type": "markdown",
   "id": "cf0f1660",
   "metadata": {},
   "source": [
    "## 6. 함수로 일처리를 짜임새있게 하기\n",
    "### 함수의 중요성\n",
    "    - 재사용성(Reusability) / 코드 블록 묶어 재사용, 함수 호출하여 반복 작업\n",
    "    - 모듈화(Modularity) / 프로그램을 조각조각 나눈다, 복잡성이 줄어들고 유지보수 용이\n",
    "    - 가독성(Readability) / 함수는 이름을 가지고 있고, 그 이름이 함수를 설명하기 때문에  함수 호출을 통해 어떤 동작이 이루어지는지 쉽게 파악\n",
    "    - 디버깅(Degugging) : 매개변수를 받을 수 있다. 다양한 값과 함께 작동 이를 통해\n",
    "        더 유연하고 실용적으로 사용\n",
    "     \n",
    "     \n",
    "     - 인자 전달(Parameter Passing)\n",
    "     - 재귀함수(Recursion) / 자기자신을 호출\n",
    "     - 함수형 프로그래밍(Functional Programming)"
   ]
  },
  {
   "cell_type": "markdown",
   "id": "8f425f4e",
   "metadata": {},
   "source": [
    "#### 함수는 일을 수행하는 코드의 덩어리이며, 더 큰 프로그램을 구축하는데 필요한 작극 조각이다\n",
    "\n",
    "* def 예약어를 이용하여 함수를 작성하고 호출하기"
   ]
  },
  {
   "cell_type": "code",
   "execution_count": 6,
   "id": "f5667e47",
   "metadata": {},
   "outputs": [
    {
     "name": "stdout",
     "output_type": "stream",
     "text": [
      "gjw\n",
      "gwansan\n",
      "bia\n"
     ]
    }
   ],
   "source": [
    "def print_my_home_address() :\n",
    "    print(\"gjw\")\n",
    "    print(\"gwansan\")\n",
    "    print(\"bia\")\n",
    "    \n",
    "print_my_home_address()"
   ]
  },
  {
   "cell_type": "code",
   "execution_count": null,
   "id": "24e23e40",
   "metadata": {},
   "outputs": [],
   "source": []
  }
 ],
 "metadata": {
  "kernelspec": {
   "display_name": "Python 3 (ipykernel)",
   "language": "python",
   "name": "python3"
  },
  "language_info": {
   "codemirror_mode": {
    "name": "ipython",
    "version": 3
   },
   "file_extension": ".py",
   "mimetype": "text/x-python",
   "name": "python",
   "nbconvert_exporter": "python",
   "pygments_lexer": "ipython3",
   "version": "3.9.7"
  }
 },
 "nbformat": 4,
 "nbformat_minor": 5
}
