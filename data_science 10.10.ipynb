{
 "cells": [
  {
   "cell_type": "markdown",
   "id": "10a7fcc4",
   "metadata": {},
   "source": [
    "## while문과 for문"
   ]
  },
  {
   "cell_type": "code",
   "execution_count": null,
   "id": "e3aa4de5",
   "metadata": {},
   "outputs": [],
   "source": [
    "num = int(input(\"원하는 단\"))\n",
    "\n",
    "i = 1\n",
    "while i < 10:\n",
    "    print(\"{} * {} = {}\".format(num, i, num * i))\n",
    "    i += 1"
   ]
  },
  {
   "cell_type": "code",
   "execution_count": 7,
   "id": "4fdee950",
   "metadata": {},
   "outputs": [
    {
     "name": "stdout",
     "output_type": "stream",
     "text": [
      "원하는 단8\n",
      "8 * 1 = 8\n",
      "8 * 2 = 16\n",
      "8 * 3 = 24\n",
      "8 * 4 = 32\n",
      "8 * 5 = 40\n",
      "8 * 6 = 48\n",
      "8 * 7 = 56\n",
      "8 * 8 = 64\n",
      "8 * 9 = 72\n"
     ]
    }
   ],
   "source": [
    "num = int(input(\"원하는 단\"))\n",
    "\n",
    "for i in range(1, 10):\n",
    "    print(num, \"*\", i, \"=\", num * i)"
   ]
  },
  {
   "cell_type": "code",
   "execution_count": 8,
   "id": "ce05c97e",
   "metadata": {},
   "outputs": [
    {
     "name": "stdout",
     "output_type": "stream",
     "text": [
      "  8 *   9 =  72\n"
     ]
    }
   ],
   "source": [
    "print(\"{:3d} * {:3d} = {:3d}\".format(num, i, num * i))"
   ]
  },
  {
   "cell_type": "code",
   "execution_count": 9,
   "id": "fd59e8c9",
   "metadata": {},
   "outputs": [
    {
     "name": "stdout",
     "output_type": "stream",
     "text": [
      "  8 *   9 =  72\n"
     ]
    }
   ],
   "source": [
    "print(f\"{num:3d} * {i :3d} = {num * i:3d}\")"
   ]
  },
  {
   "cell_type": "code",
   "execution_count": 11,
   "id": "e246ddaf",
   "metadata": {},
   "outputs": [
    {
     "name": "stdout",
     "output_type": "stream",
     "text": [
      "8 * 9 = 72\n"
     ]
    }
   ],
   "source": [
    "print(\"%s * %s = %s\" % (num, i, num * i))"
   ]
  },
  {
   "cell_type": "code",
   "execution_count": 1,
   "id": "f87fcde0",
   "metadata": {},
   "outputs": [],
   "source": [
    "import turtle\n",
    "t = turtle.Turtle()\n",
    "t.shape(\"turtle\")\n",
    "\n",
    "for i in range(5):\n",
    "    t.forward(100)\n",
    "    t.left(144)"
   ]
  },
  {
   "cell_type": "code",
   "execution_count": 2,
   "id": "59e520df",
   "metadata": {},
   "outputs": [
    {
     "data": {
      "text/plain": [
       "<function turtle.mainloop()>"
      ]
     },
     "execution_count": 2,
     "metadata": {},
     "output_type": "execute_result"
    }
   ],
   "source": [
    "import turtle\n",
    "t = turtle.Turtle()\n",
    "t.shape(\"turtle\")\n",
    "\n",
    "i = 0\n",
    "while i < 18:\n",
    "    t.forward(150)\n",
    "    t.left(140)\n",
    "    i += 1\n",
    "turtle.done"
   ]
  },
  {
   "cell_type": "code",
   "execution_count": 2,
   "id": "e5337b31",
   "metadata": {},
   "outputs": [
    {
     "data": {
      "text/plain": [
       "<function turtle.mainloop()>"
      ]
     },
     "execution_count": 2,
     "metadata": {},
     "output_type": "execute_result"
    }
   ],
   "source": [
    "v"
   ]
  },
  {
   "cell_type": "code",
   "execution_count": 3,
   "id": "af11ee3f",
   "metadata": {},
   "outputs": [
    {
     "data": {
      "text/plain": [
       "<function turtle.mainloop()>"
      ]
     },
     "execution_count": 3,
     "metadata": {},
     "output_type": "execute_result"
    }
   ],
   "source": [
    "import turtle\n",
    "t = turtle.Turtle()\n",
    "t.shape(\"turtle\")\n",
    "\n",
    "i = 0\n",
    "while i < 5:\n",
    "    t.forward(100)\n",
    "    t.right(144)\n",
    "    t.forward(100)\n",
    "    t.left(72)\n",
    "    i += 1\n",
    "    \n",
    "turtle.done"
   ]
  },
  {
   "cell_type": "code",
   "execution_count": 4,
   "id": "91a053b2",
   "metadata": {},
   "outputs": [
    {
     "data": {
      "text/plain": [
       "<function turtle.mainloop()>"
      ]
     },
     "execution_count": 4,
     "metadata": {},
     "output_type": "execute_result"
    }
   ],
   "source": [
    "import turtle\n",
    "t = turtle.Turtle()\n",
    "t.shape(\"turtle\")\n",
    "\n",
    "i = 0\n",
    "while i < 10:\n",
    "    t.forward(100)\n",
    "    if i % 2 == 0:\n",
    "        t.right(144)\n",
    "    else:\n",
    "        t.left(72)\n",
    "    i += 1\n",
    "    \n",
    "turtle.done"
   ]
  },
  {
   "cell_type": "code",
   "execution_count": 9,
   "id": "ba5cefae",
   "metadata": {},
   "outputs": [
    {
     "name": "stdout",
     "output_type": "stream",
     "text": [
      "숫자 입력20\n",
      "계속?(yes/no)yes\n",
      "숫자 입력30\n",
      "계속?(yes/no)no\n",
      "50\n"
     ]
    }
   ],
   "source": [
    "s = 0\n",
    "conti= \"yes\"\n",
    "\n",
    "while conti == \"yes\":\n",
    "    num = int(input(\"숫자 입력\"))\n",
    "    s = s + num\n",
    "    conti = input(\"계속?(yes/no)\")\n",
    "    \n",
    "print(s)"
   ]
  },
  {
   "cell_type": "markdown",
   "id": "7ac15e11",
   "metadata": {},
   "source": [
    "### 무한 루프 break로 빠져나가기"
   ]
  },
  {
   "cell_type": "code",
   "execution_count": 10,
   "id": "cc8a3e03",
   "metadata": {},
   "outputs": [
    {
     "name": "stdout",
     "output_type": "stream",
     "text": [
      "신호등 색상 입력red\n",
      "신호등 색상 입력yellow\n",
      "신호등 색상 입력green\n",
      "건너시오\n"
     ]
    }
   ],
   "source": [
    "while True:\n",
    "    light = input(\"신호등 색상 입력\")\n",
    "    if light == 'green':\n",
    "        break\n",
    "print(\"건너시오\")"
   ]
  },
  {
   "cell_type": "code",
   "execution_count": 2,
   "id": "368fc1b3",
   "metadata": {},
   "outputs": [
    {
     "name": "stdout",
     "output_type": "stream",
     "text": [
      "53 + 16 = 300\n",
      "62 + 45 = 200\n",
      "정답은,107,입니다.\n",
      "16 + 91 = 400\n",
      "29 + 2 = 31\n",
      "good\n",
      "8 + 61 = 200\n",
      "정답은,69,입니다.\n",
      "93 + 40 = 2023\n",
      "4 + 50 = 999\n"
     ]
    }
   ],
   "source": [
    "import random\n",
    "\n",
    "while True:\n",
    "    x = random.randint(1, 100)\n",
    "    y = random.randint(1, 100)\n",
    "    print(x, '+', y, '=', end = ' ')\n",
    "    answer  = int(input())\n",
    "    if answer == 999: break\n",
    "    if answer > 200: continue\n",
    "    \n",
    "    if answer == x + y:\n",
    "        print(\"good\")\n",
    "    else:\n",
    "        print(f\"정답은,{x+y},입니다.\" )"
   ]
  },
  {
   "cell_type": "code",
   "execution_count": null,
   "id": "c9d2f79b",
   "metadata": {},
   "outputs": [],
   "source": []
  }
 ],
 "metadata": {
  "kernelspec": {
   "display_name": "Python 3 (ipykernel)",
   "language": "python",
   "name": "python3"
  },
  "language_info": {
   "codemirror_mode": {
    "name": "ipython",
    "version": 3
   },
   "file_extension": ".py",
   "mimetype": "text/x-python",
   "name": "python",
   "nbconvert_exporter": "python",
   "pygments_lexer": "ipython3",
   "version": "3.9.7"
  }
 },
 "nbformat": 4,
 "nbformat_minor": 5
}
